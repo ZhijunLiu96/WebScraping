{
  "nbformat": 4,
  "nbformat_minor": 0,
  "metadata": {
    "colab": {
      "name": "Regex-XPath-BeautifulSoup-CSS-PyQuery.ipynb",
      "provenance": []
    },
    "kernelspec": {
      "name": "python3",
      "display_name": "Python 3"
    }
  },
  "cells": [
    {
      "cell_type": "markdown",
      "metadata": {
        "id": "x4bnzuERzdGh",
        "colab_type": "text"
      },
      "source": [
        "# Regex"
      ]
    },
    {
      "cell_type": "code",
      "metadata": {
        "id": "df62fsMQ8qGI",
        "colab_type": "code",
        "colab": {}
      },
      "source": [
        "import re"
      ],
      "execution_count": 0,
      "outputs": []
    },
    {
      "cell_type": "markdown",
      "metadata": {
        "id": "f9ItjaXe8xkG",
        "colab_type": "text"
      },
      "source": [
        "```\n",
        "[amk] -> a,m, or k\n",
        "[^amk] -> not a, m, or k\n",
        "{n} -> match n elements\n",
        "{n, m} -> greedy match n to m elements\n",
        "?\n",
        "```\n",
        "```\n",
        ".*(greedy) vs .*?(not greedy)\n",
        "```\n",
        "```\n",
        "re.I -> remove the influence of upper and lower case\n",
        "re.L -> locale-aware\n",
        "re.M\n",
        "re.S -> include all lines\n",
        "re.U\n",
        "re.X\n",
        "```"
      ]
    },
    {
      "cell_type": "markdown",
      "metadata": {
        "id": "ry4rjmSfALzh",
        "colab_type": "text"
      },
      "source": [
        "``` python\n",
        "re.match() # match the pattern from the beginning, return none if could not match, use () to group sth\n",
        "```"
      ]
    },
    {
      "cell_type": "code",
      "metadata": {
        "id": "fv6nuKpk8uVy",
        "colab_type": "code",
        "outputId": "bbeda5e6-7283-4377-cf56-bef130d8b070",
        "colab": {
          "base_uri": "https://localhost:8080/",
          "height": 98
        }
      },
      "source": [
        "string = 'Hello world'\n",
        "result = re.match('[Hlh](e)l(l)o',string)\n",
        "print(result)\n",
        "print(result.group(0))\n",
        "print(result.group(1))\n",
        "print(result.group(2))\n",
        "print(result.span())"
      ],
      "execution_count": 0,
      "outputs": [
        {
          "output_type": "stream",
          "text": [
            "<_sre.SRE_Match object; span=(0, 5), match='Hello'>\n",
            "Hello\n",
            "e\n",
            "l\n",
            "(0, 5)\n"
          ],
          "name": "stdout"
        }
      ]
    },
    {
      "cell_type": "code",
      "metadata": {
        "id": "KJFaITuWBYIc",
        "colab_type": "code",
        "outputId": "460c43d3-adc9-48be-a9c6-3eacd9bc4205",
        "colab": {
          "base_uri": "https://localhost:8080/",
          "height": 49
        }
      },
      "source": [
        "string = 'Hello 1234567 world'\n",
        "result1 = re.match('^H.*?(\\d+).*d',string)\n",
        "print(result1.group(1))\n",
        "result2 = re.match('^H.*(\\d+).*d',string)\n",
        "print(result2.group(1))"
      ],
      "execution_count": 0,
      "outputs": [
        {
          "output_type": "stream",
          "text": [
            "1234567\n",
            "7\n"
          ],
          "name": "stdout"
        }
      ]
    },
    {
      "cell_type": "markdown",
      "metadata": {
        "id": "DKsslobnBYfr",
        "colab_type": "text"
      },
      "source": [
        "```python\n",
        "re.search() # don't have to match from the beginning but only return the first one\n",
        "```"
      ]
    },
    {
      "cell_type": "code",
      "metadata": {
        "id": "D94EAZGU9Zjq",
        "colab_type": "code",
        "outputId": "96c72a0a-8178-4390-b5a2-c2fb30d31d99",
        "colab": {
          "base_uri": "https://localhost:8080/",
          "height": 49
        }
      },
      "source": [
        "string = 'Hello world'\n",
        "result1 = re.match('world',string)\n",
        "print(result1)\n",
        "result2 = re.search('world',string)\n",
        "print(result2)"
      ],
      "execution_count": 0,
      "outputs": [
        {
          "output_type": "stream",
          "text": [
            "None\n",
            "<_sre.SRE_Match object; span=(6, 11), match='world'>\n"
          ],
          "name": "stdout"
        }
      ]
    },
    {
      "cell_type": "markdown",
      "metadata": {
        "id": "x4nCoPOxGFMY",
        "colab_type": "text"
      },
      "source": [
        "```python\n",
        "re.findall() # return all\n",
        "```"
      ]
    },
    {
      "cell_type": "code",
      "metadata": {
        "id": "LaF3kKZRF6sD",
        "colab_type": "code",
        "outputId": "781fbac5-96b9-4240-ed78-f097e8afbe40",
        "colab": {
          "base_uri": "https://localhost:8080/",
          "height": 49
        }
      },
      "source": [
        "string = 'hello Hello'\n",
        "result1 = re.search('[hH]ello', string)\n",
        "print(result1)\n",
        "result2 = re.findall('[hH]ello', string)\n",
        "print(result2)"
      ],
      "execution_count": 0,
      "outputs": [
        {
          "output_type": "stream",
          "text": [
            "<_sre.SRE_Match object; span=(0, 5), match='hello'>\n",
            "['hello', 'Hello']\n"
          ],
          "name": "stdout"
        }
      ]
    },
    {
      "cell_type": "markdown",
      "metadata": {
        "id": "LDT1FRJbHIGp",
        "colab_type": "text"
      },
      "source": [
        "```python\n",
        "re.sub()\n",
        "re.compile() # turn a string to a regex, can add re.S in it\n",
        "```"
      ]
    },
    {
      "cell_type": "code",
      "metadata": {
        "id": "QkTvjSgXHk0g",
        "colab_type": "code",
        "outputId": "d7b73cde-4eaf-456f-fcdb-55ce03f649eb",
        "colab": {
          "base_uri": "https://localhost:8080/",
          "height": 65
        }
      },
      "source": [
        "s1 = '12:00'\n",
        "s2 = '01:00'\n",
        "s3 = '11:00'\n",
        "pattern = re.compile('\\d{2}:\\d{2}')\n",
        "print(re.sub(pattern,'time',s1))\n",
        "print(re.sub(pattern,'time',s2))\n",
        "print(re.sub(pattern,'time',s3))\n",
        "pattern = '\\d{2}:\\d{2}'\n",
        "print(re.sub(pattern,'time',s1))\n",
        "print(re.sub(pattern,'time',s2))\n",
        "print(re.sub(pattern,'time',s3))"
      ],
      "execution_count": 0,
      "outputs": [
        {
          "output_type": "stream",
          "text": [
            "time\n",
            "time\n",
            "time\n"
          ],
          "name": "stdout"
        }
      ]
    },
    {
      "cell_type": "code",
      "metadata": {
        "id": "-3zNVsKjHzUA",
        "colab_type": "code",
        "outputId": "0d4809d0-b70b-4370-d945-2643b9984df4",
        "colab": {
          "base_uri": "https://localhost:8080/",
          "height": 49
        }
      },
      "source": [
        "\"\"\"couldn't pass re.S in to compile\"\"\"\n",
        "s1 = '''12:\n",
        "00'''\n",
        "\n",
        "pattern = re.compile(r'\\d{2}:\\d{2}',re.S)\n",
        "print(re.search(pattern,s1))\n",
        "pattern = '\\d{2}:\\d{2}'\n",
        "print(re.findall(pattern,s1))"
      ],
      "execution_count": 0,
      "outputs": [
        {
          "output_type": "stream",
          "text": [
            "None\n",
            "[]\n"
          ],
          "name": "stdout"
        }
      ]
    },
    {
      "cell_type": "markdown",
      "metadata": {
        "id": "2-vHzuntzhJ6",
        "colab_type": "text"
      },
      "source": [
        "# XPath"
      ]
    },
    {
      "cell_type": "code",
      "metadata": {
        "id": "_EZi3hPE3fVl",
        "colab_type": "code",
        "colab": {}
      },
      "source": [
        "from lxml import etree"
      ],
      "execution_count": 0,
      "outputs": []
    },
    {
      "cell_type": "markdown",
      "metadata": {
        "id": "tQQ_5vz33my4",
        "colab_type": "text"
      },
      "source": [
        "read data\n",
        "```python\n",
        "html = etree.HTML(text)\n",
        "result = etree.tostring(html)\n",
        "```\n",
        "or\n",
        "```python\n",
        "html = etree.parse('./test.html', etree.HTMLPaeser())\n",
        "```"
      ]
    },
    {
      "cell_type": "code",
      "metadata": {
        "id": "wKGi5pXlHzXc",
        "colab_type": "code",
        "outputId": "737ecb96-80bd-4e49-9bc6-1557e6504172",
        "colab": {
          "base_uri": "https://localhost:8080/",
          "height": 181
        }
      },
      "source": [
        "text = '''\n",
        "<div>\n",
        "    <ul>\n",
        "         <li class=\"item-0\"><a href=\"link1.html\">first item</a></li>\n",
        "         <li class=\"item-1\"><a href=\"link2.html\">second item</a></li>\n",
        "         <li class=\"item-inactive\"><a href=\"link3.html\">third item</a></li>\n",
        "         <li class=\"item-1\"><a href=\"link4.html\">fourth item</a></li>\n",
        "         <li class=\"item-0\"><a href=\"link5.html\">fifth item</a>\n",
        "     </ul>\n",
        " </div>\n",
        "'''\n",
        "html = etree.HTML(text)\n",
        "result = etree.tostring(html)  ## bytes\n",
        "print(result.decode('utf-8'))  ## string"
      ],
      "execution_count": 0,
      "outputs": [
        {
          "output_type": "stream",
          "text": [
            "<html><body><div>\n",
            "    <ul>\n",
            "         <li class=\"item-0\"><a href=\"link1.html\">first item</a></li>\n",
            "         <li class=\"item-1\"><a href=\"link2.html\">second item</a></li>\n",
            "         <li class=\"item-inactive\"><a href=\"link3.html\">third item</a></li>\n",
            "         <li class=\"item-1\"><a href=\"link4.html\">fourth item</a></li>\n",
            "         <li class=\"item-0\"><a href=\"link5.html\">fifth item</a>\n",
            "     </li></ul>\n",
            " </div>\n",
            "</body></html>\n"
          ],
          "name": "stdout"
        }
      ]
    },
    {
      "cell_type": "markdown",
      "metadata": {
        "id": "gYzj8-u-4aII",
        "colab_type": "text"
      },
      "source": [
        "```\n",
        "/ -> children\n",
        "// -> children and grand children\n",
        ". -> current path\n",
        ".. -> parent path\n",
        "@ -> select attribute\n",
        "```"
      ]
    },
    {
      "cell_type": "code",
      "metadata": {
        "id": "eTH00JCEzZpg",
        "colab_type": "code",
        "outputId": "13dac051-ac8e-4ca3-df26-087b67804fd6",
        "colab": {
          "base_uri": "https://localhost:8080/",
          "height": 234
        }
      },
      "source": [
        "result = html.xpath('//*'); print(result)\n",
        "result = html.xpath('/*'); print(result)\n",
        "result = html.xpath('//li'); print(result[0])\n",
        "result = html.xpath('//li/a'); print(result)\n",
        "result = html.xpath('//ul//a'); print(result)\n",
        "result = html.xpath('//ul/a'); print(result)\n",
        "print(\"--------parent---------\")\n",
        "result = html.xpath('//a[@href=\"link4.html\"]/../@class'); print(result)\n",
        "result = html.xpath('//a[@href=\"link4.html\"]/parent::*/@class'); print(result)\n",
        "print(\"--------text---------\")\n",
        "result = html.xpath('//li[@class=\"item-0\"]/text()'); print(result)\n",
        "result = html.xpath('//li[@class=\"item-0\"]//text()'); print(result)"
      ],
      "execution_count": 0,
      "outputs": [
        {
          "output_type": "stream",
          "text": [
            "[<Element html at 0x7f49be582208>, <Element body at 0x7f49be518288>, <Element div at 0x7f49be5181c8>, <Element ul at 0x7f49be518dc8>, <Element li at 0x7f49be518e48>, <Element a at 0x7f49be518b88>, <Element li at 0x7f49be518ec8>, <Element a at 0x7f49be518f08>, <Element li at 0x7f49be518f48>, <Element a at 0x7f49be518e88>, <Element li at 0x7f49be518f88>, <Element a at 0x7f49be518fc8>, <Element li at 0x7f49be525048>, <Element a at 0x7f49be525088>]\n",
            "[<Element html at 0x7f49be582208>]\n",
            "<Element li at 0x7f49be518e48>\n",
            "[<Element a at 0x7f49be518b88>, <Element a at 0x7f49be518f08>, <Element a at 0x7f49be518e88>, <Element a at 0x7f49be518fc8>, <Element a at 0x7f49be525088>]\n",
            "[<Element a at 0x7f49be518b88>, <Element a at 0x7f49be518f08>, <Element a at 0x7f49be518e88>, <Element a at 0x7f49be518fc8>, <Element a at 0x7f49be525088>]\n",
            "[]\n",
            "--------parent---------\n",
            "['item-1']\n",
            "['item-1']\n",
            "--------text---------\n",
            "['\\n     ']\n",
            "['first item', 'fifth item', '\\n     ']\n"
          ],
          "name": "stdout"
        }
      ]
    },
    {
      "cell_type": "markdown",
      "metadata": {
        "id": "zR7tMYQrMrs2",
        "colab_type": "text"
      },
      "source": [
        "**get attruibutes**"
      ]
    },
    {
      "cell_type": "code",
      "metadata": {
        "id": "QZP3RY824O9N",
        "colab_type": "code",
        "outputId": "4e0b8b50-cf75-4be1-9f45-83f8fbd8d9d0",
        "colab": {
          "base_uri": "https://localhost:8080/",
          "height": 82
        }
      },
      "source": [
        "text = '''  \n",
        "<li class=\"li li-first\" name=\"item\"><a href=\"link.html\">first item</a></li>  \n",
        "'''  \n",
        "html = etree.HTML(text)  \n",
        "result = html.xpath('//a[@href=\"link.html\"]/../@class'); print(result)\n",
        "result = html.xpath('//li[contains(@class, \"li\")]/a/text()'); print(result)\n",
        "result = html.xpath('//li[contains(@class, \"li\") and @name=\"item\"]/a/text()'); print(result)\n",
        "result = html.xpath('//li[contains(@class, \"li\") and contains(@name, \"item\")]/a/text()'); print(result)"
      ],
      "execution_count": 0,
      "outputs": [
        {
          "output_type": "stream",
          "text": [
            "['li li-first']\n",
            "['first item']\n",
            "['first item']\n",
            "['first item']\n"
          ],
          "name": "stdout"
        }
      ]
    },
    {
      "cell_type": "markdown",
      "metadata": {
        "id": "t9iVvvygMMrM",
        "colab_type": "text"
      },
      "source": [
        "**position starts from 1 (not 0)!!!**\n",
        "```\n",
        "[number]\n",
        "position()\n",
        "last()\n",
        "last()-2\n",
        "```"
      ]
    },
    {
      "cell_type": "code",
      "metadata": {
        "id": "aaiZNG1WIUgB",
        "colab_type": "code",
        "outputId": "7ae5ff70-5a78-47cc-c3b7-54e9032b056e",
        "colab": {
          "base_uri": "https://localhost:8080/",
          "height": 82
        }
      },
      "source": [
        "text = '''\n",
        "<div>\n",
        "    <ul>\n",
        "         <li class=\"item-0\"><a href=\"link1.html\">first item</a></li>\n",
        "         <li class=\"item-1\"><a href=\"link2.html\">second item</a></li>\n",
        "         <li class=\"item-inactive\"><a href=\"link3.html\">third item</a></li>\n",
        "         <li class=\"item-1\"><a href=\"link4.html\">fourth item</a></li>\n",
        "         <li class=\"item-0\"><a href=\"link5.html\">fifth item</a>\n",
        "     </ul>\n",
        " </div>\n",
        "'''\n",
        "html = etree.HTML(text)\n",
        "result = html.xpath('//li[1]/a/text()'); print(result)\n",
        "result = html.xpath('//li[last()]/a/text()'); print(result)\n",
        "result = html.xpath('//li[position()<3]/a/text()'); print(result)\n",
        "result = html.xpath('//li[last()-2]/a/text()'); print(result)"
      ],
      "execution_count": 0,
      "outputs": [
        {
          "output_type": "stream",
          "text": [
            "['first item']\n",
            "['fifth item']\n",
            "['first item', 'second item']\n",
            "['third item']\n"
          ],
          "name": "stdout"
        }
      ]
    },
    {
      "cell_type": "code",
      "metadata": {
        "id": "Emjr0SbHLWZ9",
        "colab_type": "code",
        "outputId": "dac01713-f989-49d2-9dfb-6ed59ef90637",
        "colab": {
          "base_uri": "https://localhost:8080/",
          "height": 181
        }
      },
      "source": [
        "text = '''\n",
        "<div>\n",
        "    <ul>\n",
        "         <li class=\"item-0\"><a href=\"link1.html\"><span>first item</span></a></li>\n",
        "         <li class=\"item-1\"><a href=\"link2.html\">second item</a></li>\n",
        "         <li class=\"item-inactive\"><a href=\"link3.html\">third item</a></li>\n",
        "         <li class=\"item-1\"><a href=\"link4.html\">fourth item</a></li>\n",
        "         <li class=\"item-0\"><a href=\"link5.html\">fifth item</a>\n",
        "     </ul>\n",
        " </div>\n",
        "'''\n",
        "html = etree.HTML(text)\n",
        "\n",
        "result = html.xpath('//li[1]/ancestor::*'); print(result)\n",
        "result = html.xpath('//li[1]/ancestor::div'); print(result)\n",
        "\n",
        "print(\"------get all attributes of current node------\")\n",
        "result = html.xpath('//li[1]/attribute::*'); print(result)\n",
        "\n",
        "result = html.xpath('//li[1]/child::a[@href=\"link1.html\"]'); print(result)\n",
        "result = html.xpath('//li[1]/descendant::span'); print(result)\n",
        "print(\"------get the second one among all following nodes-------\")\n",
        "result = html.xpath('//li[1]/following::*[2]'); print(result)\n",
        "print(\"------get the following siblings-------\")\n",
        "result = html.xpath('//li[1]/following-sibling::*'); print(result)"
      ],
      "execution_count": 0,
      "outputs": [
        {
          "output_type": "stream",
          "text": [
            "[<Element html at 0x7f49be417e88>, <Element body at 0x7f49bf79d188>, <Element div at 0x7f49be417d48>, <Element ul at 0x7f49be408e08>]\n",
            "[<Element div at 0x7f49be417d48>]\n",
            "------get all attributes of current node------\n",
            "['item-0']\n",
            "[<Element a at 0x7f49be417d48>]\n",
            "[<Element span at 0x7f49be408e08>]\n",
            "------get the second one among all following nodes-------\n",
            "[<Element a at 0x7f49be417d48>]\n",
            "------get the following siblings-------\n",
            "[<Element li at 0x7f49bf79d188>, <Element li at 0x7f49be501c08>, <Element li at 0x7f49be501f08>, <Element li at 0x7f49be4375c8>]\n"
          ],
          "name": "stdout"
        }
      ]
    },
    {
      "cell_type": "markdown",
      "metadata": {
        "id": "RTHGg7fuNTI-",
        "colab_type": "text"
      },
      "source": [
        "# Beautiful Soup\n",
        "**LXML Parser**"
      ]
    },
    {
      "cell_type": "code",
      "metadata": {
        "id": "VydXqfdWNuEl",
        "colab_type": "code",
        "colab": {}
      },
      "source": [
        "from bs4 import BeautifulSoup"
      ],
      "execution_count": 0,
      "outputs": []
    },
    {
      "cell_type": "code",
      "metadata": {
        "id": "m0KCjBdhNuQS",
        "colab_type": "code",
        "outputId": "e79090c1-22b1-4820-fc94-25f962f32771",
        "colab": {
          "base_uri": "https://localhost:8080/",
          "height": 576
        }
      },
      "source": [
        "html = \"\"\"\n",
        "<html><head><title>The Dormouse's story</title></head>\n",
        "<body>\n",
        "<p class=\"title\" name=\"dromouse\"><b>The Dormouse's story</b></p>\n",
        "<p class=\"story\">Once upon a time there were three little sisters; and their names were\n",
        "<a href=\"http://example.com/elsie\" class=\"sister\" id=\"link1\"><!-- Elsie --></a>,\n",
        "<a href=\"http://example.com/lacie\" class=\"sister\" id=\"link2\">Lacie</a> and\n",
        "<a href=\"http://example.com/tillie\" class=\"sister\" id=\"link3\">Tillie</a>;\n",
        "and they lived at the bottom of a well.</p>\n",
        "<p class=\"story\">...</p>\n",
        "\"\"\"\n",
        "soup = BeautifulSoup(html, 'lxml')\n",
        "print(soup.prettify())\n",
        "print(soup.title.string)"
      ],
      "execution_count": 0,
      "outputs": [
        {
          "output_type": "stream",
          "text": [
            "<html>\n",
            " <head>\n",
            "  <title>\n",
            "   The Dormouse's story\n",
            "  </title>\n",
            " </head>\n",
            " <body>\n",
            "  <p class=\"title\" name=\"dromouse\">\n",
            "   <b>\n",
            "    The Dormouse's story\n",
            "   </b>\n",
            "  </p>\n",
            "  <p class=\"story\">\n",
            "   Once upon a time there were three little sisters; and their names were\n",
            "   <a class=\"sister\" href=\"http://example.com/elsie\" id=\"link1\">\n",
            "    <!-- Elsie -->\n",
            "   </a>\n",
            "   ,\n",
            "   <a class=\"sister\" href=\"http://example.com/lacie\" id=\"link2\">\n",
            "    Lacie\n",
            "   </a>\n",
            "   and\n",
            "   <a class=\"sister\" href=\"http://example.com/tillie\" id=\"link3\">\n",
            "    Tillie\n",
            "   </a>\n",
            "   ;\n",
            "and they lived at the bottom of a well.\n",
            "  </p>\n",
            "  <p class=\"story\">\n",
            "   ...\n",
            "  </p>\n",
            " </body>\n",
            "</html>\n",
            "The Dormouse's story\n"
          ],
          "name": "stdout"
        }
      ]
    },
    {
      "cell_type": "code",
      "metadata": {
        "id": "YcsCShLjNuLU",
        "colab_type": "code",
        "outputId": "809ba900-b84d-4b49-9614-3fb3b48da1f3",
        "colab": {
          "base_uri": "https://localhost:8080/",
          "height": 98
        }
      },
      "source": [
        "print(soup.title)\n",
        "print(type(soup.title))\n",
        "print(soup.title.string)\n",
        "print(soup.head)\n",
        "print(soup.p) # return the first p tag"
      ],
      "execution_count": 0,
      "outputs": [
        {
          "output_type": "stream",
          "text": [
            "<title>The Dormouse's story</title>\n",
            "<class 'bs4.element.Tag'>\n",
            "The Dormouse's story\n",
            "<head><title>The Dormouse's story</title></head>\n",
            "<p class=\"title\" name=\"dromouse\"><b>The Dormouse's story</b></p>\n"
          ],
          "name": "stdout"
        }
      ]
    },
    {
      "cell_type": "markdown",
      "metadata": {
        "id": "84Mom0zlTKEl",
        "colab_type": "text"
      },
      "source": [
        "**attributs is a dictionary**"
      ]
    },
    {
      "cell_type": "code",
      "metadata": {
        "id": "FuUuTgGUNuKE",
        "colab_type": "code",
        "outputId": "1c2a62ed-fd85-420f-b9b6-72696a04c8c9",
        "colab": {
          "base_uri": "https://localhost:8080/",
          "height": 98
        }
      },
      "source": [
        "print(soup.title.name)\n",
        "print(soup.p.attrs)\n",
        "print(soup.p.attrs['name'])\n",
        "# or without attrs\n",
        "print(soup.p['name'])\n",
        "print(soup.p['class'])"
      ],
      "execution_count": 0,
      "outputs": [
        {
          "output_type": "stream",
          "text": [
            "title\n",
            "{'class': ['title'], 'name': 'dromouse'}\n",
            "dromouse\n",
            "dromouse\n",
            "['title']\n"
          ],
          "name": "stdout"
        }
      ]
    },
    {
      "cell_type": "code",
      "metadata": {
        "id": "w23_Pxn-NtS7",
        "colab_type": "code",
        "outputId": "432208b6-9381-4409-96a4-d8a6a51f0fe9",
        "colab": {
          "base_uri": "https://localhost:8080/",
          "height": 65
        }
      },
      "source": [
        "print(soup.p.string)\n",
        "print(\"-----vs-----\")\n",
        "print(soup.p.contents)"
      ],
      "execution_count": 0,
      "outputs": [
        {
          "output_type": "stream",
          "text": [
            "The Dormouse's story\n",
            "-----vs-----\n",
            "[<b>The Dormouse's story</b>]\n"
          ],
          "name": "stdout"
        }
      ]
    },
    {
      "cell_type": "code",
      "metadata": {
        "id": "Mn4rCzHlpyOx",
        "colab_type": "code",
        "outputId": "ec62ba8d-661c-4347-e01d-78561768bc99",
        "colab": {
          "base_uri": "https://localhost:8080/",
          "height": 82
        }
      },
      "source": [
        "print(soup.head.title)\n",
        "print(type(soup.head.title))\n",
        "print(\"-----type-----\")\n",
        "print(soup.head.title.string)"
      ],
      "execution_count": 0,
      "outputs": [
        {
          "output_type": "stream",
          "text": [
            "<title>The Dormouse's story</title>\n",
            "<class 'bs4.element.Tag'>\n",
            "-----type-----\n",
            "The Dormouse's story\n"
          ],
          "name": "stdout"
        }
      ]
    },
    {
      "cell_type": "code",
      "metadata": {
        "id": "zNmTdUMppyWT",
        "colab_type": "code",
        "outputId": "ee351c5b-d248-4339-da10-7fdf085db028",
        "colab": {
          "base_uri": "https://localhost:8080/",
          "height": 98
        }
      },
      "source": [
        "for i, child in enumerate(soup.p.children):\n",
        "    print(i, child)\n",
        "print(\"-----child vs descendant-----\")\n",
        "print(soup.p.descendants)\n",
        "for i, child in enumerate(soup.p.descendants):\n",
        "    print(i, child)"
      ],
      "execution_count": 0,
      "outputs": [
        {
          "output_type": "stream",
          "text": [
            "0 <b>The Dormouse's story</b>\n",
            "-----child vs descendant-----\n",
            "<generator object descendants at 0x7f34cb146728>\n",
            "0 <b>The Dormouse's story</b>\n",
            "1 The Dormouse's story\n"
          ],
          "name": "stdout"
        }
      ]
    },
    {
      "cell_type": "code",
      "metadata": {
        "id": "Qc_skjZzpycl",
        "colab_type": "code",
        "outputId": "bd5b5041-83e6-4e6a-e1ab-add358b3a6ea",
        "colab": {
          "base_uri": "https://localhost:8080/",
          "height": 675
        }
      },
      "source": [
        "print(\"-----parent-----\")\n",
        "print(soup.a.parent)\n",
        "print(\"------type------\")\n",
        "print(type(soup.a.parents))\n",
        "print(\"-----parents-----\")\n",
        "print(list(enumerate(soup.a.parents)))"
      ],
      "execution_count": 0,
      "outputs": [
        {
          "output_type": "stream",
          "text": [
            "-----parent-----\n",
            "<p class=\"story\">Once upon a time there were three little sisters; and their names were\n",
            "<a class=\"sister\" href=\"http://example.com/elsie\" id=\"link1\"><!-- Elsie --></a>,\n",
            "<a class=\"sister\" href=\"http://example.com/lacie\" id=\"link2\">Lacie</a> and\n",
            "<a class=\"sister\" href=\"http://example.com/tillie\" id=\"link3\">Tillie</a>;\n",
            "and they lived at the bottom of a well.</p>\n",
            "------type------\n",
            "<class 'generator'>\n",
            "-----parents-----\n",
            "[(0, <p class=\"story\">Once upon a time there were three little sisters; and their names were\n",
            "<a class=\"sister\" href=\"http://example.com/elsie\" id=\"link1\"><!-- Elsie --></a>,\n",
            "<a class=\"sister\" href=\"http://example.com/lacie\" id=\"link2\">Lacie</a> and\n",
            "<a class=\"sister\" href=\"http://example.com/tillie\" id=\"link3\">Tillie</a>;\n",
            "and they lived at the bottom of a well.</p>), (1, <body>\n",
            "<p class=\"title\" name=\"dromouse\"><b>The Dormouse's story</b></p>\n",
            "<p class=\"story\">Once upon a time there were three little sisters; and their names were\n",
            "<a class=\"sister\" href=\"http://example.com/elsie\" id=\"link1\"><!-- Elsie --></a>,\n",
            "<a class=\"sister\" href=\"http://example.com/lacie\" id=\"link2\">Lacie</a> and\n",
            "<a class=\"sister\" href=\"http://example.com/tillie\" id=\"link3\">Tillie</a>;\n",
            "and they lived at the bottom of a well.</p>\n",
            "<p class=\"story\">...</p>\n",
            "</body>), (2, <html><head><title>The Dormouse's story</title></head>\n",
            "<body>\n",
            "<p class=\"title\" name=\"dromouse\"><b>The Dormouse's story</b></p>\n",
            "<p class=\"story\">Once upon a time there were three little sisters; and their names were\n",
            "<a class=\"sister\" href=\"http://example.com/elsie\" id=\"link1\"><!-- Elsie --></a>,\n",
            "<a class=\"sister\" href=\"http://example.com/lacie\" id=\"link2\">Lacie</a> and\n",
            "<a class=\"sister\" href=\"http://example.com/tillie\" id=\"link3\">Tillie</a>;\n",
            "and they lived at the bottom of a well.</p>\n",
            "<p class=\"story\">...</p>\n",
            "</body></html>), (3, <html><head><title>The Dormouse's story</title></head>\n",
            "<body>\n",
            "<p class=\"title\" name=\"dromouse\"><b>The Dormouse's story</b></p>\n",
            "<p class=\"story\">Once upon a time there were three little sisters; and their names were\n",
            "<a class=\"sister\" href=\"http://example.com/elsie\" id=\"link1\"><!-- Elsie --></a>,\n",
            "<a class=\"sister\" href=\"http://example.com/lacie\" id=\"link2\">Lacie</a> and\n",
            "<a class=\"sister\" href=\"http://example.com/tillie\" id=\"link3\">Tillie</a>;\n",
            "and they lived at the bottom of a well.</p>\n",
            "<p class=\"story\">...</p>\n",
            "</body></html>)]\n"
          ],
          "name": "stdout"
        }
      ]
    },
    {
      "cell_type": "code",
      "metadata": {
        "id": "lEVl6nxfpyTd",
        "colab_type": "code",
        "outputId": "3c0018f8-2b01-404f-db37-f3251061e490",
        "colab": {
          "base_uri": "https://localhost:8080/",
          "height": 184
        }
      },
      "source": [
        "print(soup.a)\n",
        "print('Next Sibling', soup.a.next_sibling)\n",
        "print('Prev Sibling', soup.a.previous_sibling) # tag a is incide tag p, so the text in tag p is the sibling of a\n",
        "print('Prev Sibling', soup.a.previous_sibling.string)\n",
        "print('Next Siblings', list(enumerate(soup.a.next_siblings)))\n",
        "print('Prev Siblings', list(enumerate(soup.a.previous_siblings)))"
      ],
      "execution_count": 0,
      "outputs": [
        {
          "output_type": "stream",
          "text": [
            "<a class=\"sister\" href=\"http://example.com/elsie\" id=\"link1\"><!-- Elsie --></a>\n",
            "Next Sibling ,\n",
            "\n",
            "Prev Sibling Once upon a time there were three little sisters; and their names were\n",
            "\n",
            "Prev Sibling Once upon a time there were three little sisters; and their names were\n",
            "\n",
            "Next Siblings [(0, ',\\n'), (1, <a class=\"sister\" href=\"http://example.com/lacie\" id=\"link2\">Lacie</a>), (2, ' and\\n'), (3, <a class=\"sister\" href=\"http://example.com/tillie\" id=\"link3\">Tillie</a>), (4, ';\\nand they lived at the bottom of a well.')]\n",
            "Prev Siblings [(0, 'Once upon a time there were three little sisters; and their names were\\n')]\n"
          ],
          "name": "stdout"
        }
      ]
    },
    {
      "cell_type": "code",
      "metadata": {
        "id": "OX7kCWVgCAUA",
        "colab_type": "code",
        "outputId": "7315e656-336a-4a6a-9323-75b0a1f9d431",
        "colab": {
          "base_uri": "https://localhost:8080/",
          "height": 148
        }
      },
      "source": [
        "print('Parent:')\n",
        "print(type(soup.a.parents))\n",
        "print(list(soup.a.parents)[0])\n",
        "print(list(soup.a.parents)[0].attrs['class'])"
      ],
      "execution_count": 0,
      "outputs": [
        {
          "output_type": "stream",
          "text": [
            "Parent:\n",
            "<class 'generator'>\n",
            "<p class=\"story\">Once upon a time there were three little sisters; and their names were\n",
            "<a class=\"sister\" href=\"http://example.com/elsie\" id=\"link1\"><!-- Elsie --></a>,\n",
            "<a class=\"sister\" href=\"http://example.com/lacie\" id=\"link2\">Lacie</a> and\n",
            "<a class=\"sister\" href=\"http://example.com/tillie\" id=\"link3\">Tillie</a>;\n",
            "and they lived at the bottom of a well.</p>\n",
            "['story']\n"
          ],
          "name": "stdout"
        }
      ]
    },
    {
      "cell_type": "markdown",
      "metadata": {
        "id": "K98RL4pyMa3Q",
        "colab_type": "text"
      },
      "source": [
        "```python\n",
        "find_all(name , attrs , recursive , text , **kwargs)\n",
        "```"
      ]
    },
    {
      "cell_type": "code",
      "metadata": {
        "id": "9ttrNbKAMaEZ",
        "colab_type": "code",
        "outputId": "2222e9fa-4abf-4837-d3a6-d7289065722f",
        "colab": {
          "base_uri": "https://localhost:8080/",
          "height": 69
        }
      },
      "source": [
        "print(soup.find_all(name='a'))\n",
        "print(type(soup.find_all(name='a')[0]))"
      ],
      "execution_count": 0,
      "outputs": [
        {
          "output_type": "stream",
          "text": [
            "[<a class=\"sister\" href=\"http://example.com/elsie\" id=\"link1\"><!-- Elsie --></a>, <a class=\"sister\" href=\"http://example.com/lacie\" id=\"link2\">Lacie</a>, <a class=\"sister\" href=\"http://example.com/tillie\" id=\"link3\">Tillie</a>]\n",
            "<class 'bs4.element.Tag'>\n"
          ],
          "name": "stdout"
        }
      ]
    },
    {
      "cell_type": "code",
      "metadata": {
        "id": "HlI0GXBEMaKW",
        "colab_type": "code",
        "outputId": "da782508-7d68-4cc7-bdad-493fc1123af0",
        "colab": {
          "base_uri": "https://localhost:8080/",
          "height": 234
        }
      },
      "source": [
        "for p in soup.find_all(name='p'):\n",
        "    print(p.find_all(name='a'))\n",
        "    for a in p.find_all(name='a'):\n",
        "        print(a.string)\n",
        "print(\"-----use attribute dictionary-----\")\n",
        "for p in soup.find_all(attrs={'class': 'story'}):\n",
        "    print(p.find_all(attrs={'class': 'sister'}))\n",
        "    for a in p.find_all(attrs={'class': 'sister'}):\n",
        "        print(a.string)"
      ],
      "execution_count": 0,
      "outputs": [
        {
          "output_type": "stream",
          "text": [
            "[]\n",
            "[<a class=\"sister\" href=\"http://example.com/elsie\" id=\"link1\"><!-- Elsie --></a>, <a class=\"sister\" href=\"http://example.com/lacie\" id=\"link2\">Lacie</a>, <a class=\"sister\" href=\"http://example.com/tillie\" id=\"link3\">Tillie</a>]\n",
            " Elsie \n",
            "Lacie\n",
            "Tillie\n",
            "[]\n",
            "-----use attribute dictionary-----\n",
            "[<a class=\"sister\" href=\"http://example.com/elsie\" id=\"link1\"><!-- Elsie --></a>, <a class=\"sister\" href=\"http://example.com/lacie\" id=\"link2\">Lacie</a>, <a class=\"sister\" href=\"http://example.com/tillie\" id=\"link3\">Tillie</a>]\n",
            " Elsie \n",
            "Lacie\n",
            "Tillie\n",
            "[]\n"
          ],
          "name": "stdout"
        }
      ]
    },
    {
      "cell_type": "markdown",
      "metadata": {
        "id": "UBapgMptitga",
        "colab_type": "text"
      },
      "source": [
        "**for some frequently used attributes like id and class**"
      ]
    },
    {
      "cell_type": "code",
      "metadata": {
        "id": "wY2Kujg3it4r",
        "colab_type": "code",
        "outputId": "7bc91bfa-dea6-44ff-83ae-1e2d681020ae",
        "colab": {
          "base_uri": "https://localhost:8080/",
          "height": 69
        }
      },
      "source": [
        "print(soup.find_all(id='link1'))\n",
        "print(soup.find_all(class_='sister'))"
      ],
      "execution_count": 0,
      "outputs": [
        {
          "output_type": "stream",
          "text": [
            "[<a class=\"sister\" href=\"http://example.com/elsie\" id=\"link1\"><!-- Elsie --></a>]\n",
            "[<a class=\"sister\" href=\"http://example.com/elsie\" id=\"link1\"><!-- Elsie --></a>, <a class=\"sister\" href=\"http://example.com/lacie\" id=\"link2\">Lacie</a>, <a class=\"sister\" href=\"http://example.com/tillie\" id=\"link3\">Tillie</a>]\n"
          ],
          "name": "stdout"
        }
      ]
    },
    {
      "cell_type": "markdown",
      "metadata": {
        "id": "7SvdFv4SkaZ0",
        "colab_type": "text"
      },
      "source": [
        "**find return sigle one, find_all return all**"
      ]
    },
    {
      "cell_type": "code",
      "metadata": {
        "id": "7iu0CIKSj37g",
        "colab_type": "code",
        "outputId": "cb485fea-f783-4336-b15a-1906baca9d17",
        "colab": {
          "base_uri": "https://localhost:8080/",
          "height": 32
        }
      },
      "source": [
        "import re\n",
        "print(soup.find_all(text=re.compile('sisters')))"
      ],
      "execution_count": 0,
      "outputs": [
        {
          "output_type": "stream",
          "text": [
            "['Once upon a time there were three little sisters; and their names were\\n']\n"
          ],
          "name": "stdout"
        }
      ]
    },
    {
      "cell_type": "markdown",
      "metadata": {
        "id": "KsdzHDTlNu0u",
        "colab_type": "text"
      },
      "source": [
        "# CSS selector along with bs4"
      ]
    },
    {
      "cell_type": "code",
      "metadata": {
        "id": "VdUVErddj4FN",
        "colab_type": "code",
        "colab": {}
      },
      "source": [
        "html='''\n",
        "<div class=\"panel\">\n",
        "    <div class=\"panel-heading\">\n",
        "        <h4>Hello</h4>\n",
        "    </div>\n",
        "    <div class=\"panel-body\">\n",
        "        <ul class=\"list\" id=\"list-1\">\n",
        "            <li class=\"element\">Foo</li>\n",
        "            <li class=\"element\">Bar</li>\n",
        "            <li class=\"element\">Jay</li>\n",
        "        </ul>\n",
        "        <ul class=\"list list-small\" id=\"list-2\">\n",
        "            <li class=\"element\">Foo</li>\n",
        "            <li class=\"element\">Bar</li>\n",
        "        </ul>\n",
        "    </div>\n",
        "</div>\n",
        "'''\n",
        "from bs4 import BeautifulSoup\n",
        "soup = BeautifulSoup(html, 'lxml')"
      ],
      "execution_count": 0,
      "outputs": []
    },
    {
      "cell_type": "markdown",
      "metadata": {
        "id": "h4bWgz-Dkwr6",
        "colab_type": "text"
      },
      "source": [
        "```\n",
        ". -> class\n",
        "# -> id\n",
        "or only tag name\n",
        "```"
      ]
    },
    {
      "cell_type": "code",
      "metadata": {
        "id": "6c9yU10fj4EA",
        "colab_type": "code",
        "outputId": "d243b2bd-10a4-4190-89f2-ce8d1ad62a40",
        "colab": {
          "base_uri": "https://localhost:8080/",
          "height": 230
        }
      },
      "source": [
        "print(\"-----class-----\")\n",
        "print(soup.select('.panel .panel-heading'))\n",
        "print()\n",
        "print(\"------tag-------\")\n",
        "print(soup.select('ul li'))\n",
        "print()\n",
        "print(\"----id and class----\")\n",
        "print(soup.select('#list-2 .element'))\n",
        "print()\n",
        "print(\"----type of element----\")\n",
        "print(type(soup.select('ul')[0]))"
      ],
      "execution_count": 0,
      "outputs": [
        {
          "output_type": "stream",
          "text": [
            "-----class-----\n",
            "[<div class=\"panel-heading\">\n",
            "<h4>Hello</h4>\n",
            "</div>]\n",
            "\n",
            "------tag-------\n",
            "[<li class=\"element\">Foo</li>, <li class=\"element\">Bar</li>, <li class=\"element\">Jay</li>, <li class=\"element\">Foo</li>, <li class=\"element\">Bar</li>]\n",
            "\n",
            "----id and class----\n",
            "[<li class=\"element\">Foo</li>, <li class=\"element\">Bar</li>]\n",
            "\n",
            "----type of element----\n",
            "<class 'bs4.element.Tag'>\n"
          ],
          "name": "stdout"
        }
      ]
    },
    {
      "cell_type": "code",
      "metadata": {
        "id": "SljfR3mXNxX-",
        "colab_type": "code",
        "outputId": "b765f4db-9f04-4246-dcc0-44733204a4d9",
        "colab": {
          "base_uri": "https://localhost:8080/",
          "height": 82
        }
      },
      "source": [
        "print(soup.select('li'))\n",
        "print(\"-----loop-----\")\n",
        "for ul in soup.select('ul'):\n",
        "    print(ul.select('li'))"
      ],
      "execution_count": 0,
      "outputs": [
        {
          "output_type": "stream",
          "text": [
            "[<li class=\"element\">Foo</li>, <li class=\"element\">Bar</li>, <li class=\"element\">Jay</li>, <li class=\"element\">Foo</li>, <li class=\"element\">Bar</li>]\n",
            "-----loop-----\n",
            "[<li class=\"element\">Foo</li>, <li class=\"element\">Bar</li>, <li class=\"element\">Jay</li>]\n",
            "[<li class=\"element\">Foo</li>, <li class=\"element\">Bar</li>]\n"
          ],
          "name": "stdout"
        }
      ]
    },
    {
      "cell_type": "code",
      "metadata": {
        "id": "zkRorrQiNx-Q",
        "colab_type": "code",
        "outputId": "640384c7-8726-4535-dcf6-24628140b4eb",
        "colab": {
          "base_uri": "https://localhost:8080/",
          "height": 98
        }
      },
      "source": [
        "print(\"attributes of a tag\")\n",
        "for ul in soup.select('ul'):\n",
        "    print(ul['id'])\n",
        "    print(ul.attrs['id'])"
      ],
      "execution_count": 0,
      "outputs": [
        {
          "output_type": "stream",
          "text": [
            "attributes of a tag\n",
            "list-1\n",
            "list-1\n",
            "list-2\n",
            "list-2\n"
          ],
          "name": "stdout"
        }
      ]
    },
    {
      "cell_type": "code",
      "metadata": {
        "id": "tlkpePMRNyB0",
        "colab_type": "code",
        "outputId": "7ef1d7aa-f59a-4070-c70f-6ae672a24b1f",
        "colab": {
          "base_uri": "https://localhost:8080/",
          "height": 197
        }
      },
      "source": [
        "print(\"Two ways to get text\")\n",
        "for li in soup.select('li'):\n",
        "    print('Get Text:', li.get_text())\n",
        "    print('String:', li.string)"
      ],
      "execution_count": 0,
      "outputs": [
        {
          "output_type": "stream",
          "text": [
            "Two ways to get text\n",
            "Get Text: Foo\n",
            "String: Foo\n",
            "Get Text: Bar\n",
            "String: Bar\n",
            "Get Text: Jay\n",
            "String: Jay\n",
            "Get Text: Foo\n",
            "String: Foo\n",
            "Get Text: Bar\n",
            "String: Bar\n"
          ],
          "name": "stdout"
        }
      ]
    },
    {
      "cell_type": "markdown",
      "metadata": {
        "id": "kYY2ARc6Nze7",
        "colab_type": "text"
      },
      "source": [
        "# PyQuery"
      ]
    },
    {
      "cell_type": "code",
      "metadata": {
        "id": "pXlHo81bpO1V",
        "colab_type": "code",
        "colab": {}
      },
      "source": [
        "# !pip install pyquery\n",
        "from pyquery import PyQuery as pq                                                                                                                                                                                                                                                                                                                                                                                                                                                                                                                                                                       "
      ],
      "execution_count": 0,
      "outputs": []
    },
    {
      "cell_type": "markdown",
      "metadata": {
        "id": "evMRumPMBW0X",
        "colab_type": "text"
      },
      "source": [
        "**obatain a pq object**"
      ]
    },
    {
      "cell_type": "code",
      "metadata": {
        "id": "m982Rc1iNyG5",
        "colab_type": "code",
        "outputId": "89971b07-0cf2-4e5d-d9ad-df82225cf0ab",
        "colab": {
          "base_uri": "https://localhost:8080/",
          "height": 247
        }
      },
      "source": [
        "print(\"-----text-----\")\n",
        "html = '''\n",
        "<div>\n",
        "    <ul>\n",
        "         <li class=\"item-0\">first item</li>\n",
        "         <li class=\"item-1\"><a href=\"link2.html\">second item</a></li>\n",
        "         <li class=\"item-0 active\"><a href=\"link3.html\"><span class=\"bold\">third item</span></a></li>\n",
        "         <li class=\"item-1 active\"><a href=\"link4.html\">fourth item</a></li>\n",
        "         <li class=\"item-0\"><a href=\"link5.html\">fifth item</a></li>\n",
        "     </ul>\n",
        " </div>\n",
        "'''\n",
        "doc = pq(html)\n",
        "print(doc('li'))\n",
        "\n",
        "print(\"-----url-----\")\n",
        "doc = pq(url='http://cuiqingcai.com')\n",
        "print(doc('title'))\n",
        "\n",
        "print(\"-----requests-----\")\n",
        "import requests\n",
        "doc = pq(requests.get('http://cuiqingcai.com').text)\n",
        "print(doc('title'))\n",
        "\n",
        "print(\"-----filename-----\")\n",
        "# doc = pq(filename='demo.html')\n"
      ],
      "execution_count": 8,
      "outputs": [
        {
          "output_type": "stream",
          "text": [
            "-----text-----\n",
            "<li class=\"item-0\">first item</li>\n",
            "         <li class=\"item-1\"><a href=\"link2.html\">second item</a></li>\n",
            "         <li class=\"item-0 active\"><a href=\"link3.html\"><span class=\"bold\">third item</span></a></li>\n",
            "         <li class=\"item-1 active\"><a href=\"link4.html\">fourth item</a></li>\n",
            "         <li class=\"item-0\"><a href=\"link5.html\">fifth item</a></li>\n",
            "     \n",
            "-----url-----\n",
            "<title>静觅丨崔庆才的个人博客</title>&#13;\n",
            "\n",
            "-----requests-----\n",
            "<title>静觅丨崔庆才的个人博客</title>&#13;\n",
            "\n",
            "-----filename-----\n"
          ],
          "name": "stdout"
        }
      ]
    },
    {
      "cell_type": "code",
      "metadata": {
        "id": "w38T2tE2NyFi",
        "colab_type": "code",
        "colab": {}
      },
      "source": [
        "html = '''\n",
        "<div id=\"container\">\n",
        "    <ul class=\"list\">\n",
        "         <li class=\"item-0\">first item</li>\n",
        "         <li class=\"item-1\"><a href=\"link2.html\">second item</a></li>\n",
        "         <li class=\"item-0 active\"><a href=\"link3.html\"><span class=\"bold\">third item</span></a></li>\n",
        "         <li class=\"item-1 active\"><a href=\"link4.html\">fourth item</a></li>\n",
        "         <li class=\"item-0\"><a href=\"link5.html\">fifth item</a></li>\n",
        "     </ul>\n",
        " </div>\n",
        "'''\n",
        "doc = pq(html)"
      ],
      "execution_count": 0,
      "outputs": []
    },
    {
      "cell_type": "markdown",
      "metadata": {
        "id": "pfiRtqEDqbqh",
        "colab_type": "text"
      },
      "source": [
        "**Based on CSS selector**"
      ]
    },
    {
      "cell_type": "code",
      "metadata": {
        "id": "LJcYGt-0pcMX",
        "colab_type": "code",
        "outputId": "7c3df092-756b-4ba5-d2d2-409fd5d2e213",
        "colab": {
          "base_uri": "https://localhost:8080/",
          "height": 131
        }
      },
      "source": [
        "print(doc('#container .list li'))\n",
        "print(type(doc('#container .list li')))"
      ],
      "execution_count": 10,
      "outputs": [
        {
          "output_type": "stream",
          "text": [
            "<li class=\"item-0\">first item</li>\n",
            "         <li class=\"item-1\"><a href=\"link2.html\">second item</a></li>\n",
            "         <li class=\"item-0 active\"><a href=\"link3.html\"><span class=\"bold\">third item</span></a></li>\n",
            "         <li class=\"item-1 active\"><a href=\"link4.html\">fourth item</a></li>\n",
            "         <li class=\"item-0\"><a href=\"link5.html\">fifth item</a></li>\n",
            "     \n",
            "<class 'pyquery.pyquery.PyQuery'>\n"
          ],
          "name": "stdout"
        }
      ]
    },
    {
      "cell_type": "code",
      "metadata": {
        "id": "KykINjA2pjLh",
        "colab_type": "code",
        "outputId": "c33169c3-b46b-4eae-8ea4-bb0220b5f168",
        "colab": {
          "base_uri": "https://localhost:8080/",
          "height": 280
        }
      },
      "source": [
        "items = doc('.list')\n",
        "print(type(items))\n",
        "print(items)\n",
        "lis = items.find('li')\n",
        "print(type(lis))\n",
        "print(lis)"
      ],
      "execution_count": 11,
      "outputs": [
        {
          "output_type": "stream",
          "text": [
            "<class 'pyquery.pyquery.PyQuery'>\n",
            "<ul class=\"list\">\n",
            "         <li class=\"item-0\">first item</li>\n",
            "         <li class=\"item-1\"><a href=\"link2.html\">second item</a></li>\n",
            "         <li class=\"item-0 active\"><a href=\"link3.html\"><span class=\"bold\">third item</span></a></li>\n",
            "         <li class=\"item-1 active\"><a href=\"link4.html\">fourth item</a></li>\n",
            "         <li class=\"item-0\"><a href=\"link5.html\">fifth item</a></li>\n",
            "     </ul>\n",
            " \n",
            "<class 'pyquery.pyquery.PyQuery'>\n",
            "<li class=\"item-0\">first item</li>\n",
            "         <li class=\"item-1\"><a href=\"link2.html\">second item</a></li>\n",
            "         <li class=\"item-0 active\"><a href=\"link3.html\"><span class=\"bold\">third item</span></a></li>\n",
            "         <li class=\"item-1 active\"><a href=\"link4.html\">fourth item</a></li>\n",
            "         <li class=\"item-0\"><a href=\"link5.html\">fifth item</a></li>\n",
            "     \n"
          ],
          "name": "stdout"
        }
      ]
    },
    {
      "cell_type": "code",
      "metadata": {
        "id": "UQjdPKaopm_U",
        "colab_type": "code",
        "outputId": "42e3e12e-c1ed-4b14-fd45-5f8d9627aa98",
        "colab": {
          "base_uri": "https://localhost:8080/",
          "height": 181
        }
      },
      "source": [
        "lis = items.children(); print(lis)\n",
        "print(\"-----specific children-----\")\n",
        "lis = items.children('.active'); print(lis)"
      ],
      "execution_count": 12,
      "outputs": [
        {
          "output_type": "stream",
          "text": [
            "<li class=\"item-0\">first item</li>\n",
            "         <li class=\"item-1\"><a href=\"link2.html\">second item</a></li>\n",
            "         <li class=\"item-0 active\"><a href=\"link3.html\"><span class=\"bold\">third item</span></a></li>\n",
            "         <li class=\"item-1 active\"><a href=\"link4.html\">fourth item</a></li>\n",
            "         <li class=\"item-0\"><a href=\"link5.html\">fifth item</a></li>\n",
            "     \n",
            "-----specific children-----\n",
            "<li class=\"item-0 active\"><a href=\"link3.html\"><span class=\"bold\">third item</span></a></li>\n",
            "         <li class=\"item-1 active\"><a href=\"link4.html\">fourth item</a></li>\n",
            "         \n"
          ],
          "name": "stdout"
        }
      ]
    },
    {
      "cell_type": "code",
      "metadata": {
        "id": "9n6R-rjrAAFx",
        "colab_type": "code",
        "outputId": "a54e167d-ec24-40e9-cc1c-fd30110964a6",
        "colab": {
          "base_uri": "https://localhost:8080/",
          "height": 362
        }
      },
      "source": [
        "items = doc('.list')\n",
        "container = items.parent(); print(type(container)); print(container)\n",
        "print(\"-----paren† vs parents-----\")\n",
        "parents = items.parents(); print(type(parents)); print(parents)"
      ],
      "execution_count": 13,
      "outputs": [
        {
          "output_type": "stream",
          "text": [
            "<class 'pyquery.pyquery.PyQuery'>\n",
            "<div id=\"container\">\n",
            "    <ul class=\"list\">\n",
            "         <li class=\"item-0\">first item</li>\n",
            "         <li class=\"item-1\"><a href=\"link2.html\">second item</a></li>\n",
            "         <li class=\"item-0 active\"><a href=\"link3.html\"><span class=\"bold\">third item</span></a></li>\n",
            "         <li class=\"item-1 active\"><a href=\"link4.html\">fourth item</a></li>\n",
            "         <li class=\"item-0\"><a href=\"link5.html\">fifth item</a></li>\n",
            "     </ul>\n",
            " </div>\n",
            "-----paren† vs parents-----\n",
            "<class 'pyquery.pyquery.PyQuery'>\n",
            "<div id=\"container\">\n",
            "    <ul class=\"list\">\n",
            "         <li class=\"item-0\">first item</li>\n",
            "         <li class=\"item-1\"><a href=\"link2.html\">second item</a></li>\n",
            "         <li class=\"item-0 active\"><a href=\"link3.html\"><span class=\"bold\">third item</span></a></li>\n",
            "         <li class=\"item-1 active\"><a href=\"link4.html\">fourth item</a></li>\n",
            "         <li class=\"item-0\"><a href=\"link5.html\">fifth item</a></li>\n",
            "     </ul>\n",
            " </div>\n"
          ],
          "name": "stdout"
        }
      ]
    },
    {
      "cell_type": "code",
      "metadata": {
        "id": "XWFDFaCsAFEE",
        "colab_type": "code",
        "outputId": "80d69c99-b7e0-40ce-8dce-c86222062ba8",
        "colab": {
          "base_uri": "https://localhost:8080/",
          "height": 148
        }
      },
      "source": [
        "li = doc('.list .item-0.active'); print(li.siblings())\n",
        "print(\"-----specific sibling-----\")\n",
        "print(li.siblings('.active'))"
      ],
      "execution_count": 14,
      "outputs": [
        {
          "output_type": "stream",
          "text": [
            "<li class=\"item-1\"><a href=\"link2.html\">second item</a></li>\n",
            "         <li class=\"item-0\">first item</li>\n",
            "         <li class=\"item-1 active\"><a href=\"link4.html\">fourth item</a></li>\n",
            "         <li class=\"item-0\"><a href=\"link5.html\">fifth item</a></li>\n",
            "     \n",
            "-----specific sibling-----\n",
            "<li class=\"item-1 active\"><a href=\"link4.html\">fourth item</a></li>\n",
            "         \n"
          ],
          "name": "stdout"
        }
      ]
    },
    {
      "cell_type": "code",
      "metadata": {
        "id": "kU-QwD6aASO1",
        "colab_type": "code",
        "outputId": "254fb5de-d5bd-40cf-833c-6d1f08395d39",
        "colab": {
          "base_uri": "https://localhost:8080/",
          "height": 197
        }
      },
      "source": [
        "lis = doc('li').items()\n",
        "print(type(lis))\n",
        "for li in lis:\n",
        "    print(li, type(li))"
      ],
      "execution_count": 15,
      "outputs": [
        {
          "output_type": "stream",
          "text": [
            "<class 'generator'>\n",
            "<li class=\"item-0\">first item</li>\n",
            "          <class 'pyquery.pyquery.PyQuery'>\n",
            "<li class=\"item-1\"><a href=\"link2.html\">second item</a></li>\n",
            "          <class 'pyquery.pyquery.PyQuery'>\n",
            "<li class=\"item-0 active\"><a href=\"link3.html\"><span class=\"bold\">third item</span></a></li>\n",
            "          <class 'pyquery.pyquery.PyQuery'>\n",
            "<li class=\"item-1 active\"><a href=\"link4.html\">fourth item</a></li>\n",
            "          <class 'pyquery.pyquery.PyQuery'>\n",
            "<li class=\"item-0\"><a href=\"link5.html\">fifth item</a></li>\n",
            "      <class 'pyquery.pyquery.PyQuery'>\n"
          ],
          "name": "stdout"
        }
      ]
    },
    {
      "cell_type": "code",
      "metadata": {
        "id": "R93J3UMOAkE5",
        "colab_type": "code",
        "outputId": "2cd8a987-9776-40c3-cfa9-83da9027f36b",
        "colab": {
          "base_uri": "https://localhost:8080/",
          "height": 65
        }
      },
      "source": [
        "a = doc('.item-0.active a')\n",
        "print(a, type(a))\n",
        "print(a.attr('href'))\n",
        "\n",
        "print(a.attr.href)\n"
      ],
      "execution_count": 16,
      "outputs": [
        {
          "output_type": "stream",
          "text": [
            "<a href=\"link3.html\"><span class=\"bold\">third item</span></a> <class 'pyquery.pyquery.PyQuery'>\n",
            "link3.html\n",
            "link3.html\n"
          ],
          "name": "stdout"
        }
      ]
    },
    {
      "cell_type": "code",
      "metadata": {
        "id": "9dLdC2SHAnZP",
        "colab_type": "code",
        "outputId": "2e583cf5-e0bf-410c-87db-dace3b7b2e28",
        "colab": {
          "base_uri": "https://localhost:8080/",
          "height": 85
        }
      },
      "source": [
        "a = doc('a')\n",
        "print(a, type(a))\n",
        "print(a.attr('href'))\n",
        "print(a.attr.href)"
      ],
      "execution_count": 17,
      "outputs": [
        {
          "output_type": "stream",
          "text": [
            "<a href=\"link2.html\">second item</a><a href=\"link3.html\"><span class=\"bold\">third item</span></a><a href=\"link4.html\">fourth item</a><a href=\"link5.html\">fifth item</a> <class 'pyquery.pyquery.PyQuery'>\n",
            "link2.html\n",
            "link2.html\n"
          ],
          "name": "stdout"
        }
      ]
    },
    {
      "cell_type": "code",
      "metadata": {
        "id": "lYE570lZAs6Q",
        "colab_type": "code",
        "outputId": "bf044a20-4df6-4bb9-89e3-22373a7ea42d",
        "colab": {
          "base_uri": "https://localhost:8080/",
          "height": 82
        }
      },
      "source": [
        "a = doc('a')\n",
        "for item in a.items():\n",
        "    print(item.attr('href'))"
      ],
      "execution_count": 18,
      "outputs": [
        {
          "output_type": "stream",
          "text": [
            "link2.html\n",
            "link3.html\n",
            "link4.html\n",
            "link5.html\n"
          ],
          "name": "stdout"
        }
      ]
    },
    {
      "cell_type": "code",
      "metadata": {
        "id": "WAJxoOThAvIe",
        "colab_type": "code",
        "outputId": "1bb02cb6-f9d5-4804-8a6e-b06323ad242b",
        "colab": {
          "base_uri": "https://localhost:8080/",
          "height": 65
        }
      },
      "source": [
        "a = doc('.item-0.active a')\n",
        "print(a)\n",
        "print(a.text())\n",
        "print(type(a.text()))"
      ],
      "execution_count": 19,
      "outputs": [
        {
          "output_type": "stream",
          "text": [
            "<a href=\"link3.html\"><span class=\"bold\">third item</span></a>\n",
            "third item\n",
            "<class 'str'>\n"
          ],
          "name": "stdout"
        }
      ]
    },
    {
      "cell_type": "code",
      "metadata": {
        "id": "Yipgn1kKAyNc",
        "colab_type": "code",
        "outputId": "44afb014-a80e-4618-ad35-2d1d2d6476a1",
        "colab": {
          "base_uri": "https://localhost:8080/",
          "height": 65
        }
      },
      "source": [
        "li = doc('.item-0.active')\n",
        "print(li)\n",
        "print(li.html())"
      ],
      "execution_count": 20,
      "outputs": [
        {
          "output_type": "stream",
          "text": [
            "<li class=\"item-0 active\"><a href=\"link3.html\"><span class=\"bold\">third item</span></a></li>\n",
            "         \n",
            "<a href=\"link3.html\"><span class=\"bold\">third item</span></a>\n"
          ],
          "name": "stdout"
        }
      ]
    },
    {
      "cell_type": "code",
      "metadata": {
        "id": "fgx_I1zfA046",
        "colab_type": "code",
        "outputId": "ddf96770-af3d-4767-85d1-b1e0d5bdff3c",
        "colab": {
          "base_uri": "https://localhost:8080/",
          "height": 115
        }
      },
      "source": [
        "li = doc('.item-0.active')\n",
        "print(li)\n",
        "li.removeClass('active')\n",
        "print(li)\n",
        "li.addClass('active')\n",
        "print(li)"
      ],
      "execution_count": 21,
      "outputs": [
        {
          "output_type": "stream",
          "text": [
            "<li class=\"item-0 active\"><a href=\"link3.html\"><span class=\"bold\">third item</span></a></li>\n",
            "         \n",
            "<li class=\"item-0\"><a href=\"link3.html\"><span class=\"bold\">third item</span></a></li>\n",
            "         \n",
            "<li class=\"item-0 active\"><a href=\"link3.html\"><span class=\"bold\">third item</span></a></li>\n",
            "         \n"
          ],
          "name": "stdout"
        }
      ]
    },
    {
      "cell_type": "code",
      "metadata": {
        "id": "mTX7-UKhBCuf",
        "colab_type": "code",
        "outputId": "39a70205-8671-4219-aba1-b9069d8cbccd",
        "colab": {
          "base_uri": "https://localhost:8080/",
          "height": 148
        }
      },
      "source": [
        "doc = pq(html)\n",
        "li = doc('.item-0.active')\n",
        "print(li)\n",
        "li.attr('name', 'link')\n",
        "print(li)\n",
        "li.text('changed item')\n",
        "print(li)\n",
        "li.html('<span>changed item</span>')\n",
        "print(li)"
      ],
      "execution_count": 22,
      "outputs": [
        {
          "output_type": "stream",
          "text": [
            "<li class=\"item-0 active\"><a href=\"link3.html\"><span class=\"bold\">third item</span></a></li>\n",
            "         \n",
            "<li class=\"item-0 active\" name=\"link\"><a href=\"link3.html\"><span class=\"bold\">third item</span></a></li>\n",
            "         \n",
            "<li class=\"item-0 active\" name=\"link\">changed item</li>\n",
            "         \n",
            "<li class=\"item-0 active\" name=\"link\"><span>changed item</span></li>\n",
            "         \n"
          ],
          "name": "stdout"
        }
      ]
    },
    {
      "cell_type": "markdown",
      "metadata": {
        "id": "-wzmXQW4mxSh",
        "colab_type": "text"
      },
      "source": [
        "**remove**"
      ]
    },
    {
      "cell_type": "code",
      "metadata": {
        "id": "H_8AbO-DBHFV",
        "colab_type": "code",
        "colab": {}
      },
      "source": [
        "html = '''\n",
        "<div class=\"wrap\">\n",
        "    Hello, World\n",
        "    <p>This is a paragraph.</p>\n",
        " </div>\n",
        "'''\n",
        "doc = pq(html)\n",
        "wrap = doc('.wrap')\n",
        "print(wrap.text())\n",
        "wrap.find('p').remove()\n",
        "print(wrap.text())"
      ],
      "execution_count": 0,
      "outputs": []
    },
    {
      "cell_type": "markdown",
      "metadata": {
        "id": "UlwQ3xAjm-oQ",
        "colab_type": "text"
      },
      "source": [
        "**CSS: other function**"
      ]
    },
    {
      "cell_type": "code",
      "metadata": {
        "id": "W2znVLHFmz70",
        "colab_type": "code",
        "colab": {}
      },
      "source": [
        "html = '''\n",
        "<div class=\"wrap\">\n",
        "    <div id=\"container\">\n",
        "        <ul class=\"list\">\n",
        "             <li class=\"item-0\">first item</li>\n",
        "             <li class=\"item-1\"><a href=\"link2.html\">second item</a></li>\n",
        "             <li class=\"item-0 active\"><a href=\"link3.html\"><span class=\"bold\">third item</span></a></li>\n",
        "             <li class=\"item-1 active\"><a href=\"link4.html\">fourth item</a></li>\n",
        "             <li class=\"item-0\"><a href=\"link5.html\">fifth item</a></li>\n",
        "         </ul>\n",
        "     </div>\n",
        " </div>\n",
        "'''\n",
        "doc = pq(html)\n",
        "li = doc('li:first-child')\n",
        "print(li)\n",
        "li = doc('li:last-child')\n",
        "print(li)\n",
        "li = doc('li:nth-child(2)')\n",
        "print(li)\n",
        "li = doc('li:gt(2)')\n",
        "print(li)\n",
        "li = doc('li:nth-child(2n)')\n",
        "print(li)\n",
        "li = doc('li:contains(second)')\n",
        "print(li)"
      ],
      "execution_count": 0,
      "outputs": []
    }
  ]
}