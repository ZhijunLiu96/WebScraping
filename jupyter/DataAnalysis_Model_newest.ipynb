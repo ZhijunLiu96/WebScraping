{
 "cells": [
  {
   "cell_type": "code",
   "execution_count": 134,
   "metadata": {
    "collapsed": true
   },
   "outputs": [],
   "source": [
    "import pandas as pd \n",
    "import numpy as np\n",
    "import matplotlib\n",
    "import lightgbm as lgb\n",
    "from sklearn.metrics import accuracy_score,recall_score,f1_score\n",
    "from sklearn.svm import LinearSVC\n",
    "from sklearn.ensemble import RandomForestClassifier\n",
    "from sklearn.ensemble import ExtraTreesClassifier"
   ]
  },
  {
   "cell_type": "markdown",
   "metadata": {},
   "source": [
    "# contest_basic_train表的数据分析及特征工程"
   ]
  },
  {
   "cell_type": "code",
   "execution_count": 135,
   "metadata": {
    "collapsed": true
   },
   "outputs": [],
   "source": [
    "train=pd.read_csv('data/contest_basic_train.tsv', sep='\\t', header=0)"
   ]
  },
  {
   "cell_type": "code",
   "execution_count": 136,
   "metadata": {},
   "outputs": [
    {
     "data": {
      "text/html": [
       "<div>\n",
       "<style scoped>\n",
       "    .dataframe tbody tr th:only-of-type {\n",
       "        vertical-align: middle;\n",
       "    }\n",
       "\n",
       "    .dataframe tbody tr th {\n",
       "        vertical-align: top;\n",
       "    }\n",
       "\n",
       "    .dataframe thead th {\n",
       "        text-align: right;\n",
       "    }\n",
       "</style>\n",
       "<table border=\"1\" class=\"dataframe\">\n",
       "  <thead>\n",
       "    <tr style=\"text-align: right;\">\n",
       "      <th></th>\n",
       "      <th>REPORT_ID</th>\n",
       "      <th>ID_CARD</th>\n",
       "      <th>LOAN_DATE</th>\n",
       "      <th>AGENT</th>\n",
       "      <th>IS_LOCAL</th>\n",
       "      <th>WORK_PROVINCE</th>\n",
       "      <th>EDU_LEVEL</th>\n",
       "      <th>MARRY_STATUS</th>\n",
       "      <th>SALARY</th>\n",
       "      <th>HAS_FUND</th>\n",
       "      <th>Y</th>\n",
       "    </tr>\n",
       "  </thead>\n",
       "  <tbody>\n",
       "    <tr>\n",
       "      <th>0</th>\n",
       "      <td>8787</td>\n",
       "      <td>320382**********13</td>\n",
       "      <td>2017/2/15</td>\n",
       "      <td>APP</td>\n",
       "      <td>本地籍</td>\n",
       "      <td>320000.0</td>\n",
       "      <td>本科</td>\n",
       "      <td>已婚</td>\n",
       "      <td>3.0</td>\n",
       "      <td>0.0</td>\n",
       "      <td>0</td>\n",
       "    </tr>\n",
       "    <tr>\n",
       "      <th>1</th>\n",
       "      <td>9410</td>\n",
       "      <td>120223**********8X</td>\n",
       "      <td>2017/3/13</td>\n",
       "      <td>wechat</td>\n",
       "      <td>本地籍</td>\n",
       "      <td>120000.0</td>\n",
       "      <td>NaN</td>\n",
       "      <td>已婚</td>\n",
       "      <td>6.0</td>\n",
       "      <td>1.0</td>\n",
       "      <td>0</td>\n",
       "    </tr>\n",
       "    <tr>\n",
       "      <th>2</th>\n",
       "      <td>22999</td>\n",
       "      <td>330226**********90</td>\n",
       "      <td>2017/2/27</td>\n",
       "      <td>APP</td>\n",
       "      <td>本地籍</td>\n",
       "      <td>NaN</td>\n",
       "      <td>专科及以下</td>\n",
       "      <td>已婚</td>\n",
       "      <td>4.0</td>\n",
       "      <td>0.0</td>\n",
       "      <td>0</td>\n",
       "    </tr>\n",
       "    <tr>\n",
       "      <th>3</th>\n",
       "      <td>24820</td>\n",
       "      <td>230105**********20</td>\n",
       "      <td>2017/2/24</td>\n",
       "      <td>APP</td>\n",
       "      <td>本地籍</td>\n",
       "      <td>230000.0</td>\n",
       "      <td>专科及以下</td>\n",
       "      <td>已婚</td>\n",
       "      <td>2.0</td>\n",
       "      <td>0.0</td>\n",
       "      <td>1</td>\n",
       "    </tr>\n",
       "    <tr>\n",
       "      <th>4</th>\n",
       "      <td>25708</td>\n",
       "      <td>340222**********29</td>\n",
       "      <td>2017/1/16</td>\n",
       "      <td>NaN</td>\n",
       "      <td>本地籍</td>\n",
       "      <td>NaN</td>\n",
       "      <td>专科</td>\n",
       "      <td>未婚</td>\n",
       "      <td>NaN</td>\n",
       "      <td>1.0</td>\n",
       "      <td>0</td>\n",
       "    </tr>\n",
       "  </tbody>\n",
       "</table>\n",
       "</div>"
      ],
      "text/plain": [
       "   REPORT_ID             ID_CARD  LOAN_DATE   AGENT IS_LOCAL  WORK_PROVINCE  \\\n",
       "0       8787  320382**********13  2017/2/15     APP      本地籍       320000.0   \n",
       "1       9410  120223**********8X  2017/3/13  wechat      本地籍       120000.0   \n",
       "2      22999  330226**********90  2017/2/27     APP      本地籍            NaN   \n",
       "3      24820  230105**********20  2017/2/24     APP      本地籍       230000.0   \n",
       "4      25708  340222**********29  2017/1/16     NaN      本地籍            NaN   \n",
       "\n",
       "  EDU_LEVEL MARRY_STATUS  SALARY  HAS_FUND  Y  \n",
       "0        本科           已婚     3.0       0.0  0  \n",
       "1       NaN           已婚     6.0       1.0  0  \n",
       "2     专科及以下           已婚     4.0       0.0  0  \n",
       "3     专科及以下           已婚     2.0       0.0  1  \n",
       "4        专科           未婚     NaN       1.0  0  "
      ]
     },
     "execution_count": 136,
     "metadata": {},
     "output_type": "execute_result"
    }
   ],
   "source": [
    "train.head()"
   ]
  },
  {
   "cell_type": "code",
   "execution_count": 137,
   "metadata": {
    "scrolled": false
   },
   "outputs": [
    {
     "name": "stdout",
     "output_type": "stream",
     "text": [
      "<class 'pandas.core.frame.DataFrame'>\n",
      "RangeIndex: 30000 entries, 0 to 29999\n",
      "Data columns (total 11 columns):\n",
      "REPORT_ID        30000 non-null int64\n",
      "ID_CARD          30000 non-null object\n",
      "LOAN_DATE        30000 non-null object\n",
      "AGENT            8952 non-null object\n",
      "IS_LOCAL         30000 non-null object\n",
      "WORK_PROVINCE    27742 non-null float64\n",
      "EDU_LEVEL        26942 non-null object\n",
      "MARRY_STATUS     30000 non-null object\n",
      "SALARY           8864 non-null float64\n",
      "HAS_FUND         29998 non-null float64\n",
      "Y                30000 non-null int64\n",
      "dtypes: float64(3), int64(2), object(6)\n",
      "memory usage: 2.5+ MB\n"
     ]
    }
   ],
   "source": [
    "train.info()"
   ]
  },
  {
   "cell_type": "code",
   "execution_count": 138,
   "metadata": {},
   "outputs": [
    {
     "data": {
      "text/plain": [
       "专科       7997\n",
       "本科       6536\n",
       "高中       6062\n",
       "专科及以下    4452\n",
       "NaN      3058\n",
       "初中       1355\n",
       "其他        301\n",
       "硕士研究生     153\n",
       "博士研究生      51\n",
       "硕士及以上      35\n",
       "Name: EDU_LEVEL, dtype: int64"
      ]
     },
     "execution_count": 138,
     "metadata": {},
     "output_type": "execute_result"
    }
   ],
   "source": [
    "train['EDU_LEVEL'].value_counts(dropna=False)# 缺失值按专科补"
   ]
  },
  {
   "cell_type": "code",
   "execution_count": 139,
   "metadata": {
    "collapsed": true
   },
   "outputs": [],
   "source": [
    "train['EDU_LEVEL']=train['EDU_LEVEL'].fillna('专科')"
   ]
  },
  {
   "cell_type": "code",
   "execution_count": 140,
   "metadata": {},
   "outputs": [
    {
     "data": {
      "text/plain": [
       " 0.0    16338\n",
       " 1.0    13660\n",
       "NaN         2\n",
       "Name: HAS_FUND, dtype: int64"
      ]
     },
     "execution_count": 140,
     "metadata": {},
     "output_type": "execute_result"
    }
   ],
   "source": [
    "train['HAS_FUND'].value_counts(dropna=False)"
   ]
  },
  {
   "cell_type": "code",
   "execution_count": 141,
   "metadata": {},
   "outputs": [
    {
     "data": {
      "text/plain": [
       "本地籍     17506\n",
       "非本地籍    12494\n",
       "Name: IS_LOCAL, dtype: int64"
      ]
     },
     "execution_count": 141,
     "metadata": {},
     "output_type": "execute_result"
    }
   ],
   "source": [
    "train['IS_LOCAL'].value_counts(dropna=False)"
   ]
  },
  {
   "cell_type": "code",
   "execution_count": 142,
   "metadata": {
    "scrolled": false
   },
   "outputs": [
    {
     "data": {
      "text/plain": [
       "NaN           21048\n",
       "APP            6644\n",
       "wechat         1339\n",
       "chinapnr        332\n",
       "rongzhijia      299\n",
       "huifusdb        240\n",
       "fenqile          38\n",
       "ifpp             30\n",
       "kuaiqian         17\n",
       "bestpay           8\n",
       "orgloan           3\n",
       "weijinhui         2\n",
       "Name: AGENT, dtype: int64"
      ]
     },
     "execution_count": 142,
     "metadata": {},
     "output_type": "execute_result"
    }
   ],
   "source": [
    "train['AGENT'].value_counts(dropna=False)#缺失值太多，删除"
   ]
  },
  {
   "cell_type": "code",
   "execution_count": 143,
   "metadata": {
    "collapsed": true
   },
   "outputs": [],
   "source": [
    "train=train.drop(['AGENT'],axis=1)"
   ]
  },
  {
   "cell_type": "code",
   "execution_count": 144,
   "metadata": {},
   "outputs": [
    {
     "data": {
      "text/plain": [
       "已婚    19199\n",
       "未婚     9566\n",
       "离异      719\n",
       "离婚      314\n",
       "其他      161\n",
       "丧偶       41\n",
       "Name: MARRY_STATUS, dtype: int64"
      ]
     },
     "execution_count": 144,
     "metadata": {},
     "output_type": "execute_result"
    }
   ],
   "source": [
    "train['MARRY_STATUS'].value_counts(dropna=False)"
   ]
  },
  {
   "cell_type": "code",
   "execution_count": 145,
   "metadata": {
    "scrolled": true
   },
   "outputs": [
    {
     "data": {
      "text/plain": [
       "NaN     21136\n",
       " 3.0     3057\n",
       " 4.0     2117\n",
       " 2.0     1766\n",
       " 5.0      753\n",
       " 7.0      599\n",
       " 6.0      475\n",
       " 1.0       97\n",
       "Name: SALARY, dtype: int64"
      ]
     },
     "execution_count": 145,
     "metadata": {},
     "output_type": "execute_result"
    }
   ],
   "source": [
    "train['SALARY'].value_counts(dropna=False)#缺失值太多，删除"
   ]
  },
  {
   "cell_type": "code",
   "execution_count": 146,
   "metadata": {
    "collapsed": true
   },
   "outputs": [],
   "source": [
    "train=train.drop(['SALARY'],axis=1)"
   ]
  },
  {
   "cell_type": "code",
   "execution_count": 147,
   "metadata": {
    "scrolled": true
   },
   "outputs": [
    {
     "data": {
      "text/plain": [
       "0    28125\n",
       "1     1875\n",
       "Name: Y, dtype: int64"
      ]
     },
     "execution_count": 147,
     "metadata": {},
     "output_type": "execute_result"
    }
   ],
   "source": [
    "train['Y'].value_counts(dropna=False)"
   ]
  },
  {
   "cell_type": "code",
   "execution_count": 148,
   "metadata": {
    "collapsed": true
   },
   "outputs": [],
   "source": [
    "# One-hot\n",
    "dumm_edu_level= pd.get_dummies(train['EDU_LEVEL'], prefix='EDU_LEVEL')\n",
    "final_train = train.join(dumm_edu_level)\n",
    "final_train=final_train.drop(['EDU_LEVEL'],axis=1)\n",
    "dumm_marry= pd.get_dummies(train['MARRY_STATUS'], prefix='MARRY_STATUS')\n",
    "final_train = final_train.join(dumm_marry)\n",
    "final_train=final_train.drop(['MARRY_STATUS'],axis=1)\n",
    "dumm_is_local = pd.get_dummies(train['IS_LOCAL'], prefix='IS_LOCAL')\n",
    "final_train = final_train.join(dumm_is_local)\n",
    "final_train=final_train.drop(['IS_LOCAL'],axis=1)\n",
    "dumm_has_fund = pd.get_dummies(train['HAS_FUND'], prefix='HAS_FUND')\n",
    "final_train = final_train.join(dumm_has_fund)\n",
    "final_train=final_train.drop(['HAS_FUND'],axis=1)"
   ]
  },
  {
   "cell_type": "markdown",
   "metadata": {},
   "source": [
    "## contest_ext_crd_cd_ln（机构版征信-贷款）表特征工程"
   ]
  },
  {
   "cell_type": "code",
   "execution_count": 154,
   "metadata": {
    "collapsed": true
   },
   "outputs": [],
   "source": [
    "contest_ext_crd_cd_ln=pd.read_csv('data/contest_ext_crd_cd_ln.tsv', sep='\\t', header=0)"
   ]
  },
  {
   "cell_type": "code",
   "execution_count": 155,
   "metadata": {
    "scrolled": true
   },
   "outputs": [
    {
     "data": {
      "text/html": [
       "<div>\n",
       "<style scoped>\n",
       "    .dataframe tbody tr th:only-of-type {\n",
       "        vertical-align: middle;\n",
       "    }\n",
       "\n",
       "    .dataframe tbody tr th {\n",
       "        vertical-align: top;\n",
       "    }\n",
       "\n",
       "    .dataframe thead th {\n",
       "        text-align: right;\n",
       "    }\n",
       "</style>\n",
       "<table border=\"1\" class=\"dataframe\">\n",
       "  <thead>\n",
       "    <tr style=\"text-align: right;\">\n",
       "      <th></th>\n",
       "      <th>loan_id</th>\n",
       "      <th>report_id</th>\n",
       "      <th>state</th>\n",
       "      <th>finance_org</th>\n",
       "      <th>type_dw</th>\n",
       "      <th>currency</th>\n",
       "      <th>guarantee_type</th>\n",
       "      <th>payment_rating</th>\n",
       "      <th>payment_cyc</th>\n",
       "      <th>class5_state</th>\n",
       "      <th>...</th>\n",
       "      <th>balance</th>\n",
       "      <th>remain_payment_cyc</th>\n",
       "      <th>scheduled_payment_amount</th>\n",
       "      <th>actual_payment_amount</th>\n",
       "      <th>curr_overdue_cyc</th>\n",
       "      <th>curr_overdue_amount</th>\n",
       "      <th>recent_pay_date</th>\n",
       "      <th>scheduled_payment_date</th>\n",
       "      <th>open_date</th>\n",
       "      <th>end_date</th>\n",
       "    </tr>\n",
       "  </thead>\n",
       "  <tbody>\n",
       "    <tr>\n",
       "      <th>0</th>\n",
       "      <td>93540</td>\n",
       "      <td>25708</td>\n",
       "      <td>正常</td>\n",
       "      <td>XL</td>\n",
       "      <td>个人消费贷款</td>\n",
       "      <td>人民币</td>\n",
       "      <td>信用/免担保</td>\n",
       "      <td>按月归还</td>\n",
       "      <td>12.0</td>\n",
       "      <td>正常</td>\n",
       "      <td>...</td>\n",
       "      <td>1000.0</td>\n",
       "      <td>9.0</td>\n",
       "      <td>1030.0</td>\n",
       "      <td>1030.0</td>\n",
       "      <td>0.0</td>\n",
       "      <td>0.0</td>\n",
       "      <td>2016-08-11</td>\n",
       "      <td>2016-08-12</td>\n",
       "      <td>2016-05-07</td>\n",
       "      <td>2017-05-07</td>\n",
       "    </tr>\n",
       "    <tr>\n",
       "      <th>1</th>\n",
       "      <td>93539</td>\n",
       "      <td>25708</td>\n",
       "      <td>结清</td>\n",
       "      <td>FZ</td>\n",
       "      <td>个人消费贷款</td>\n",
       "      <td>人民币</td>\n",
       "      <td>信用/免担保</td>\n",
       "      <td>按月归还</td>\n",
       "      <td>3.0</td>\n",
       "      <td>NaN</td>\n",
       "      <td>...</td>\n",
       "      <td>NaN</td>\n",
       "      <td>NaN</td>\n",
       "      <td>NaN</td>\n",
       "      <td>NaN</td>\n",
       "      <td>NaN</td>\n",
       "      <td>NaN</td>\n",
       "      <td>NaN</td>\n",
       "      <td>NaN</td>\n",
       "      <td>2016-06-14</td>\n",
       "      <td>NaN</td>\n",
       "    </tr>\n",
       "    <tr>\n",
       "      <th>2</th>\n",
       "      <td>795426</td>\n",
       "      <td>170491</td>\n",
       "      <td>正常</td>\n",
       "      <td>ORG-WM</td>\n",
       "      <td>个人消费贷款</td>\n",
       "      <td>人民币</td>\n",
       "      <td>信用/免担保</td>\n",
       "      <td>按月归还</td>\n",
       "      <td>12.0</td>\n",
       "      <td>正常</td>\n",
       "      <td>...</td>\n",
       "      <td>5000.0</td>\n",
       "      <td>12.0</td>\n",
       "      <td>0.0</td>\n",
       "      <td>0.0</td>\n",
       "      <td>0.0</td>\n",
       "      <td>0.0</td>\n",
       "      <td>2016-12-12</td>\n",
       "      <td>2016-12-12</td>\n",
       "      <td>2016-12-12</td>\n",
       "      <td>2017-12-12</td>\n",
       "    </tr>\n",
       "    <tr>\n",
       "      <th>3</th>\n",
       "      <td>817296</td>\n",
       "      <td>174368</td>\n",
       "      <td>正常</td>\n",
       "      <td>OF</td>\n",
       "      <td>个人消费贷款</td>\n",
       "      <td>人民币</td>\n",
       "      <td>信用/免担保</td>\n",
       "      <td>按月归还</td>\n",
       "      <td>6.0</td>\n",
       "      <td>正常</td>\n",
       "      <td>...</td>\n",
       "      <td>675.0</td>\n",
       "      <td>4.0</td>\n",
       "      <td>178.0</td>\n",
       "      <td>178.0</td>\n",
       "      <td>0.0</td>\n",
       "      <td>0.0</td>\n",
       "      <td>2016-12-03</td>\n",
       "      <td>2016-12-03</td>\n",
       "      <td>2016-10-11</td>\n",
       "      <td>2017-04-03</td>\n",
       "    </tr>\n",
       "    <tr>\n",
       "      <th>4</th>\n",
       "      <td>817298</td>\n",
       "      <td>174368</td>\n",
       "      <td>正常</td>\n",
       "      <td>GB</td>\n",
       "      <td>个人消费贷款</td>\n",
       "      <td>人民币</td>\n",
       "      <td>信用/免担保</td>\n",
       "      <td>按月归还</td>\n",
       "      <td>12.0</td>\n",
       "      <td>正常</td>\n",
       "      <td>...</td>\n",
       "      <td>1100.0</td>\n",
       "      <td>11.0</td>\n",
       "      <td>105.0</td>\n",
       "      <td>105.0</td>\n",
       "      <td>0.0</td>\n",
       "      <td>0.0</td>\n",
       "      <td>2016-12-05</td>\n",
       "      <td>2016-12-05</td>\n",
       "      <td>2016-11-17</td>\n",
       "      <td>2017-11-05</td>\n",
       "    </tr>\n",
       "  </tbody>\n",
       "</table>\n",
       "<p>5 rows × 22 columns</p>\n",
       "</div>"
      ],
      "text/plain": [
       "   loan_id  report_id state finance_org type_dw currency guarantee_type  \\\n",
       "0    93540      25708    正常          XL  个人消费贷款      人民币         信用/免担保   \n",
       "1    93539      25708    结清          FZ  个人消费贷款      人民币         信用/免担保   \n",
       "2   795426     170491    正常      ORG-WM  个人消费贷款      人民币         信用/免担保   \n",
       "3   817296     174368    正常          OF  个人消费贷款      人民币         信用/免担保   \n",
       "4   817298     174368    正常          GB  个人消费贷款      人民币         信用/免担保   \n",
       "\n",
       "  payment_rating  payment_cyc class5_state     ...     balance  \\\n",
       "0           按月归还         12.0           正常     ...      1000.0   \n",
       "1           按月归还          3.0          NaN     ...         NaN   \n",
       "2           按月归还         12.0           正常     ...      5000.0   \n",
       "3           按月归还          6.0           正常     ...       675.0   \n",
       "4           按月归还         12.0           正常     ...      1100.0   \n",
       "\n",
       "   remain_payment_cyc  scheduled_payment_amount  actual_payment_amount  \\\n",
       "0                 9.0                    1030.0                 1030.0   \n",
       "1                 NaN                       NaN                    NaN   \n",
       "2                12.0                       0.0                    0.0   \n",
       "3                 4.0                     178.0                  178.0   \n",
       "4                11.0                     105.0                  105.0   \n",
       "\n",
       "   curr_overdue_cyc  curr_overdue_amount  recent_pay_date  \\\n",
       "0               0.0                  0.0       2016-08-11   \n",
       "1               NaN                  NaN              NaN   \n",
       "2               0.0                  0.0       2016-12-12   \n",
       "3               0.0                  0.0       2016-12-03   \n",
       "4               0.0                  0.0       2016-12-05   \n",
       "\n",
       "   scheduled_payment_date   open_date    end_date  \n",
       "0              2016-08-12  2016-05-07  2017-05-07  \n",
       "1                     NaN  2016-06-14         NaN  \n",
       "2              2016-12-12  2016-12-12  2017-12-12  \n",
       "3              2016-12-03  2016-10-11  2017-04-03  \n",
       "4              2016-12-05  2016-11-17  2017-11-05  \n",
       "\n",
       "[5 rows x 22 columns]"
      ]
     },
     "execution_count": 155,
     "metadata": {},
     "output_type": "execute_result"
    }
   ],
   "source": [
    "contest_ext_crd_cd_ln.head()"
   ]
  },
  {
   "cell_type": "code",
   "execution_count": 156,
   "metadata": {
    "collapsed": true
   },
   "outputs": [],
   "source": [
    "contest_ext_crd_cd_ln=contest_ext_crd_cd_ln.fillna(0)"
   ]
  },
  {
   "cell_type": "code",
   "execution_count": 157,
   "metadata": {
    "collapsed": true
   },
   "outputs": [],
   "source": [
    "curr_overdue_cyc=contest_ext_crd_cd_ln.groupby(['report_id'],as_index=False)[['curr_overdue_cyc']].sum()\n",
    "curr_overdue_amount=contest_ext_crd_cd_ln.groupby(['report_id'],as_index=False)[['curr_overdue_amount']].sum()"
   ]
  },
  {
   "cell_type": "code",
   "execution_count": 158,
   "metadata": {
    "collapsed": true
   },
   "outputs": [],
   "source": [
    "final_train = pd.merge(final_train, curr_overdue_cyc, left_on=['REPORT_ID'],right_on=['report_id'], how='left')\n",
    "final_train = pd.merge(final_train, curr_overdue_amount, left_on=['REPORT_ID'],right_on=['report_id'], how='left')\n",
    "final_train=final_train.drop(['report_id_x'],axis=1)\n",
    "final_train=final_train.drop(['report_id_y'],axis=1)"
   ]
  },
  {
   "cell_type": "code",
   "execution_count": 159,
   "metadata": {
    "scrolled": true
   },
   "outputs": [
    {
     "data": {
      "text/plain": [
       "Index(['REPORT_ID', 'ID_CARD', 'LOAN_DATE', 'WORK_PROVINCE', 'Y',\n",
       "       'EDU_LEVEL_专科', 'EDU_LEVEL_专科及以下', 'EDU_LEVEL_其他', 'EDU_LEVEL_初中',\n",
       "       'EDU_LEVEL_博士研究生', 'EDU_LEVEL_本科', 'EDU_LEVEL_硕士及以上', 'EDU_LEVEL_硕士研究生',\n",
       "       'EDU_LEVEL_高中', 'MARRY_STATUS_丧偶', 'MARRY_STATUS_其他', 'MARRY_STATUS_已婚',\n",
       "       'MARRY_STATUS_未婚', 'MARRY_STATUS_离婚', 'MARRY_STATUS_离异', 'IS_LOCAL_本地籍',\n",
       "       'IS_LOCAL_非本地籍', 'HAS_FUND_0.0', 'HAS_FUND_1.0', 'curr_overdue_cyc',\n",
       "       'curr_overdue_amount'],\n",
       "      dtype='object')"
      ]
     },
     "execution_count": 159,
     "metadata": {},
     "output_type": "execute_result"
    }
   ],
   "source": [
    "final_train.columns"
   ]
  },
  {
   "cell_type": "markdown",
   "metadata": {},
   "source": [
    "## contest_ext_crd_cd_lnd（机构版征信-贷记卡）表特征"
   ]
  },
  {
   "cell_type": "code",
   "execution_count": 160,
   "metadata": {
    "collapsed": true
   },
   "outputs": [],
   "source": [
    "contest_ext_crd_cd_lnd=pd.read_csv('data/contest_ext_crd_cd_lnd.tsv', sep='\\t', header=0)"
   ]
  },
  {
   "cell_type": "code",
   "execution_count": 161,
   "metadata": {
    "scrolled": true
   },
   "outputs": [
    {
     "data": {
      "text/html": [
       "<div>\n",
       "<style scoped>\n",
       "    .dataframe tbody tr th:only-of-type {\n",
       "        vertical-align: middle;\n",
       "    }\n",
       "\n",
       "    .dataframe tbody tr th {\n",
       "        vertical-align: top;\n",
       "    }\n",
       "\n",
       "    .dataframe thead th {\n",
       "        text-align: right;\n",
       "    }\n",
       "</style>\n",
       "<table border=\"1\" class=\"dataframe\">\n",
       "  <thead>\n",
       "    <tr style=\"text-align: right;\">\n",
       "      <th></th>\n",
       "      <th>report_id</th>\n",
       "      <th>loancard_id</th>\n",
       "      <th>state</th>\n",
       "      <th>finance_org</th>\n",
       "      <th>currency</th>\n",
       "      <th>open_date</th>\n",
       "      <th>credit_limit_amount</th>\n",
       "      <th>guarantee_type</th>\n",
       "      <th>share_credit_limit_amount</th>\n",
       "      <th>used_credit_limit_amount</th>\n",
       "      <th>latest6_month_used_avg_amount</th>\n",
       "      <th>used_highest_amount</th>\n",
       "      <th>scheduled_payment_date</th>\n",
       "      <th>scheduled_payment_amount</th>\n",
       "      <th>actual_payment_amount</th>\n",
       "      <th>recent_pay_date</th>\n",
       "      <th>curr_overdue_cyc</th>\n",
       "      <th>curr_overdue_amount</th>\n",
       "      <th>payment_state</th>\n",
       "      <th>cardtype</th>\n",
       "    </tr>\n",
       "  </thead>\n",
       "  <tbody>\n",
       "    <tr>\n",
       "      <th>0</th>\n",
       "      <td>50598.0</td>\n",
       "      <td>387641</td>\n",
       "      <td>正常</td>\n",
       "      <td>MI</td>\n",
       "      <td>人民币</td>\n",
       "      <td>2014-09-19</td>\n",
       "      <td>13375</td>\n",
       "      <td>信用/免担保</td>\n",
       "      <td>13375</td>\n",
       "      <td>8483.0</td>\n",
       "      <td>8494.0</td>\n",
       "      <td>11351.0</td>\n",
       "      <td>2016-10-05</td>\n",
       "      <td>424.0</td>\n",
       "      <td>8500.0</td>\n",
       "      <td>2016-09-23</td>\n",
       "      <td>0.0</td>\n",
       "      <td>0.0</td>\n",
       "      <td>NNNNNNNNNNN12NNNNNNNNNNN</td>\n",
       "      <td>贷记卡</td>\n",
       "    </tr>\n",
       "    <tr>\n",
       "      <th>1</th>\n",
       "      <td>50598.0</td>\n",
       "      <td>387634</td>\n",
       "      <td>正常</td>\n",
       "      <td>MI</td>\n",
       "      <td>美元</td>\n",
       "      <td>2014-09-19</td>\n",
       "      <td>10023</td>\n",
       "      <td>信用/免担保</td>\n",
       "      <td>0</td>\n",
       "      <td>0.0</td>\n",
       "      <td>0.0</td>\n",
       "      <td>427.0</td>\n",
       "      <td>2016-10-05</td>\n",
       "      <td>0.0</td>\n",
       "      <td>0.0</td>\n",
       "      <td>2015-08-27</td>\n",
       "      <td>0.0</td>\n",
       "      <td>0.0</td>\n",
       "      <td>********NNN*************</td>\n",
       "      <td>贷记卡</td>\n",
       "    </tr>\n",
       "    <tr>\n",
       "      <th>2</th>\n",
       "      <td>50598.0</td>\n",
       "      <td>387635</td>\n",
       "      <td>正常</td>\n",
       "      <td>OE</td>\n",
       "      <td>人民币</td>\n",
       "      <td>2014-07-09</td>\n",
       "      <td>5000</td>\n",
       "      <td>信用/免担保</td>\n",
       "      <td>5000</td>\n",
       "      <td>4962.0</td>\n",
       "      <td>5281.0</td>\n",
       "      <td>6236.0</td>\n",
       "      <td>2016-10-10</td>\n",
       "      <td>589.0</td>\n",
       "      <td>5080.0</td>\n",
       "      <td>2016-09-25</td>\n",
       "      <td>0.0</td>\n",
       "      <td>0.0</td>\n",
       "      <td>NNNNNNNNNNN1NNNNNNNNNNNN</td>\n",
       "      <td>贷记卡</td>\n",
       "    </tr>\n",
       "    <tr>\n",
       "      <th>3</th>\n",
       "      <td>50598.0</td>\n",
       "      <td>387643</td>\n",
       "      <td>正常</td>\n",
       "      <td>LL</td>\n",
       "      <td>人民币</td>\n",
       "      <td>2014-10-27</td>\n",
       "      <td>10000</td>\n",
       "      <td>信用/免担保</td>\n",
       "      <td>10000</td>\n",
       "      <td>9996.0</td>\n",
       "      <td>10251.0</td>\n",
       "      <td>11713.0</td>\n",
       "      <td>2016-11-01</td>\n",
       "      <td>0.0</td>\n",
       "      <td>0.0</td>\n",
       "      <td>2016-09-07</td>\n",
       "      <td>0.0</td>\n",
       "      <td>0.0</td>\n",
       "      <td>NNNNNNNNNNNNNNNNNNNNNNNN</td>\n",
       "      <td>贷记卡</td>\n",
       "    </tr>\n",
       "    <tr>\n",
       "      <th>4</th>\n",
       "      <td>50598.0</td>\n",
       "      <td>387636</td>\n",
       "      <td>销户</td>\n",
       "      <td>SM</td>\n",
       "      <td>美元</td>\n",
       "      <td>2008-04-04</td>\n",
       "      <td>6000</td>\n",
       "      <td>信用/免担保</td>\n",
       "      <td>0</td>\n",
       "      <td>NaN</td>\n",
       "      <td>NaN</td>\n",
       "      <td>NaN</td>\n",
       "      <td>NaN</td>\n",
       "      <td>NaN</td>\n",
       "      <td>NaN</td>\n",
       "      <td>NaN</td>\n",
       "      <td>NaN</td>\n",
       "      <td>NaN</td>\n",
       "      <td>NaN</td>\n",
       "      <td>贷记卡</td>\n",
       "    </tr>\n",
       "  </tbody>\n",
       "</table>\n",
       "</div>"
      ],
      "text/plain": [
       "   report_id  loancard_id state finance_org currency   open_date  \\\n",
       "0    50598.0       387641    正常          MI      人民币  2014-09-19   \n",
       "1    50598.0       387634    正常          MI       美元  2014-09-19   \n",
       "2    50598.0       387635    正常          OE      人民币  2014-07-09   \n",
       "3    50598.0       387643    正常          LL      人民币  2014-10-27   \n",
       "4    50598.0       387636    销户          SM       美元  2008-04-04   \n",
       "\n",
       "   credit_limit_amount guarantee_type  share_credit_limit_amount  \\\n",
       "0                13375         信用/免担保                      13375   \n",
       "1                10023         信用/免担保                          0   \n",
       "2                 5000         信用/免担保                       5000   \n",
       "3                10000         信用/免担保                      10000   \n",
       "4                 6000         信用/免担保                          0   \n",
       "\n",
       "   used_credit_limit_amount  latest6_month_used_avg_amount  \\\n",
       "0                    8483.0                         8494.0   \n",
       "1                       0.0                            0.0   \n",
       "2                    4962.0                         5281.0   \n",
       "3                    9996.0                        10251.0   \n",
       "4                       NaN                            NaN   \n",
       "\n",
       "   used_highest_amount scheduled_payment_date  scheduled_payment_amount  \\\n",
       "0              11351.0             2016-10-05                     424.0   \n",
       "1                427.0             2016-10-05                       0.0   \n",
       "2               6236.0             2016-10-10                     589.0   \n",
       "3              11713.0             2016-11-01                       0.0   \n",
       "4                  NaN                    NaN                       NaN   \n",
       "\n",
       "   actual_payment_amount recent_pay_date  curr_overdue_cyc  \\\n",
       "0                 8500.0      2016-09-23               0.0   \n",
       "1                    0.0      2015-08-27               0.0   \n",
       "2                 5080.0      2016-09-25               0.0   \n",
       "3                    0.0      2016-09-07               0.0   \n",
       "4                    NaN             NaN               NaN   \n",
       "\n",
       "   curr_overdue_amount             payment_state cardtype  \n",
       "0                  0.0  NNNNNNNNNNN12NNNNNNNNNNN      贷记卡  \n",
       "1                  0.0  ********NNN*************      贷记卡  \n",
       "2                  0.0  NNNNNNNNNNN1NNNNNNNNNNNN      贷记卡  \n",
       "3                  0.0  NNNNNNNNNNNNNNNNNNNNNNNN      贷记卡  \n",
       "4                  NaN                       NaN      贷记卡  "
      ]
     },
     "execution_count": 161,
     "metadata": {},
     "output_type": "execute_result"
    }
   ],
   "source": [
    "contest_ext_crd_cd_lnd.head()"
   ]
  },
  {
   "cell_type": "code",
   "execution_count": 162,
   "metadata": {
    "collapsed": true
   },
   "outputs": [],
   "source": [
    "contest_ext_crd_cd_lnd=contest_ext_crd_cd_lnd.fillna(0)"
   ]
  },
  {
   "cell_type": "code",
   "execution_count": 163,
   "metadata": {
    "collapsed": true
   },
   "outputs": [],
   "source": [
    "curr_overdue_cyc=contest_ext_crd_cd_lnd.groupby(['report_id'],as_index=False)[['curr_overdue_cyc']].sum()\n",
    "curr_overdue_amount=contest_ext_crd_cd_lnd.groupby(['report_id'],as_index=False)[['curr_overdue_amount']].sum()\n",
    "curr_overdue_cyc=curr_overdue_cyc.rename(columns={'curr_overdue_cyc':'curr_overdue_cyc_cd_lnd'})\n",
    "curr_overdue_amount=curr_overdue_amount.rename(columns={'curr_overdue_amount':'curr_overdue_amount_cd_lnd'})"
   ]
  },
  {
   "cell_type": "code",
   "execution_count": 164,
   "metadata": {},
   "outputs": [],
   "source": [
    "final_train = pd.merge(final_train, curr_overdue_cyc, left_on=['REPORT_ID'],right_on=['report_id'], how='left')\n",
    "final_train = pd.merge(final_train, curr_overdue_amount, left_on=['REPORT_ID'],right_on=['report_id'], how='left')\n",
    "final_train=final_train.drop(['report_id_x'],axis=1)\n",
    "final_train=final_train.drop(['report_id_y'],axis=1)"
   ]
  },
  {
   "cell_type": "code",
   "execution_count": 165,
   "metadata": {
    "scrolled": true
   },
   "outputs": [
    {
     "data": {
      "text/plain": [
       "Index(['REPORT_ID', 'ID_CARD', 'LOAN_DATE', 'WORK_PROVINCE', 'Y',\n",
       "       'EDU_LEVEL_专科', 'EDU_LEVEL_专科及以下', 'EDU_LEVEL_其他', 'EDU_LEVEL_初中',\n",
       "       'EDU_LEVEL_博士研究生', 'EDU_LEVEL_本科', 'EDU_LEVEL_硕士及以上', 'EDU_LEVEL_硕士研究生',\n",
       "       'EDU_LEVEL_高中', 'MARRY_STATUS_丧偶', 'MARRY_STATUS_其他', 'MARRY_STATUS_已婚',\n",
       "       'MARRY_STATUS_未婚', 'MARRY_STATUS_离婚', 'MARRY_STATUS_离异', 'IS_LOCAL_本地籍',\n",
       "       'IS_LOCAL_非本地籍', 'HAS_FUND_0.0', 'HAS_FUND_1.0', 'curr_overdue_cyc',\n",
       "       'curr_overdue_amount', 'curr_overdue_cyc_cd_lnd',\n",
       "       'curr_overdue_amount_cd_lnd'],\n",
       "      dtype='object')"
      ]
     },
     "execution_count": 165,
     "metadata": {},
     "output_type": "execute_result"
    }
   ],
   "source": [
    "final_train.columns"
   ]
  },
  {
   "cell_type": "markdown",
   "metadata": {},
   "source": [
    "## contest_ext_crd_is_ovdsummary（机构版征信-逾期(透支)信息汇总）"
   ]
  },
  {
   "cell_type": "code",
   "execution_count": 166,
   "metadata": {
    "collapsed": true
   },
   "outputs": [],
   "source": [
    "contest_ext_crd_is_ovdsummary=pd.read_csv('data/contest_ext_crd_is_ovdsummary.csv')"
   ]
  },
  {
   "cell_type": "code",
   "execution_count": 167,
   "metadata": {
    "scrolled": true
   },
   "outputs": [
    {
     "data": {
      "text/html": [
       "<div>\n",
       "<style scoped>\n",
       "    .dataframe tbody tr th:only-of-type {\n",
       "        vertical-align: middle;\n",
       "    }\n",
       "\n",
       "    .dataframe tbody tr th {\n",
       "        vertical-align: top;\n",
       "    }\n",
       "\n",
       "    .dataframe thead th {\n",
       "        text-align: right;\n",
       "    }\n",
       "</style>\n",
       "<table border=\"1\" class=\"dataframe\">\n",
       "  <thead>\n",
       "    <tr style=\"text-align: right;\">\n",
       "      <th></th>\n",
       "      <th>REPORT_ID</th>\n",
       "      <th>TYPE_DW</th>\n",
       "      <th>COUNT_DW</th>\n",
       "      <th>MONTHS</th>\n",
       "      <th>HIGHEST_OA_PER_MON</th>\n",
       "      <th>MAX_DURATION</th>\n",
       "    </tr>\n",
       "  </thead>\n",
       "  <tbody>\n",
       "    <tr>\n",
       "      <th>0</th>\n",
       "      <td>9410</td>\n",
       "      <td>贷款逾期</td>\n",
       "      <td>0</td>\n",
       "      <td>0</td>\n",
       "      <td>0.0</td>\n",
       "      <td>0</td>\n",
       "    </tr>\n",
       "    <tr>\n",
       "      <th>1</th>\n",
       "      <td>9410</td>\n",
       "      <td>贷记卡逾期</td>\n",
       "      <td>1</td>\n",
       "      <td>1</td>\n",
       "      <td>0.0</td>\n",
       "      <td>1</td>\n",
       "    </tr>\n",
       "    <tr>\n",
       "      <th>2</th>\n",
       "      <td>9410</td>\n",
       "      <td>准贷记卡60天以上透支</td>\n",
       "      <td>0</td>\n",
       "      <td>0</td>\n",
       "      <td>0.0</td>\n",
       "      <td>0</td>\n",
       "    </tr>\n",
       "    <tr>\n",
       "      <th>3</th>\n",
       "      <td>24820</td>\n",
       "      <td>贷款逾期</td>\n",
       "      <td>0</td>\n",
       "      <td>0</td>\n",
       "      <td>0.0</td>\n",
       "      <td>0</td>\n",
       "    </tr>\n",
       "    <tr>\n",
       "      <th>4</th>\n",
       "      <td>24820</td>\n",
       "      <td>贷记卡逾期</td>\n",
       "      <td>3</td>\n",
       "      <td>6</td>\n",
       "      <td>440.0</td>\n",
       "      <td>1</td>\n",
       "    </tr>\n",
       "  </tbody>\n",
       "</table>\n",
       "</div>"
      ],
      "text/plain": [
       "   REPORT_ID      TYPE_DW  COUNT_DW  MONTHS  HIGHEST_OA_PER_MON  MAX_DURATION\n",
       "0       9410         贷款逾期         0       0                 0.0             0\n",
       "1       9410        贷记卡逾期         1       1                 0.0             1\n",
       "2       9410  准贷记卡60天以上透支         0       0                 0.0             0\n",
       "3      24820         贷款逾期         0       0                 0.0             0\n",
       "4      24820        贷记卡逾期         3       6               440.0             1"
      ]
     },
     "execution_count": 167,
     "metadata": {},
     "output_type": "execute_result"
    }
   ],
   "source": [
    "contest_ext_crd_is_ovdsummary.head()"
   ]
  },
  {
   "cell_type": "code",
   "execution_count": 168,
   "metadata": {
    "scrolled": true
   },
   "outputs": [
    {
     "data": {
      "text/plain": [
       "(76212, 6)"
      ]
     },
     "execution_count": 168,
     "metadata": {},
     "output_type": "execute_result"
    }
   ],
   "source": [
    "contest_ext_crd_is_ovdsummary.shape"
   ]
  },
  {
   "cell_type": "code",
   "execution_count": 169,
   "metadata": {},
   "outputs": [],
   "source": [
    "# 贷款逾期特征\n",
    "contest_ext_crd_is_ovdsummary_daikuan=contest_ext_crd_is_ovdsummary[contest_ext_crd_is_ovdsummary['TYPE_DW']=='贷款逾期']\n",
    "contest_ext_crd_is_ovdsummary_daikuan=contest_ext_crd_is_ovdsummary_daikuan.rename(columns={\n",
    "    'COUNT_DW':'COUNT_DW_daikuan',\n",
    "    'MONTHS':'MONTHS_daikuan',\n",
    "    'HIGHEST_OA_PER_MON':'HIGHEST_OA_PER_MON_daikuan',\n",
    "    'MAX_DURATION':'MAX_DURATION_daikuan'\n",
    "})\n",
    "contest_ext_crd_is_ovdsummary_daikuan=contest_ext_crd_is_ovdsummary_daikuan.drop(['TYPE_DW'],axis=1)\n",
    "final_train = pd.merge(final_train, contest_ext_crd_is_ovdsummary_daikuan, on=['REPORT_ID'], how='left')"
   ]
  },
  {
   "cell_type": "code",
   "execution_count": 170,
   "metadata": {
    "collapsed": true
   },
   "outputs": [],
   "source": [
    "# 准贷记卡60天以上透支特征\n",
    "contest_ext_crd_is_ovdsummary_zhundaijika=contest_ext_crd_is_ovdsummary[contest_ext_crd_is_ovdsummary['TYPE_DW']=='准贷记卡60天以上透支']\n",
    "contest_ext_crd_is_ovdsummary_zhundaijika=contest_ext_crd_is_ovdsummary_zhundaijika.rename(columns={\n",
    "    'COUNT_DW':'COUNT_DW_zhundaijika',\n",
    "    'MONTHS':'MONTHS_zhundaijika',\n",
    "    'HIGHEST_OA_PER_MON':'HIGHEST_OA_PER_MON_zhundaijika',\n",
    "    'MAX_DURATION':'MAX_DURATION_zhundaijika'\n",
    "})\n",
    "contest_ext_crd_is_ovdsummary_zhundaijika=contest_ext_crd_is_ovdsummary_zhundaijika.drop(['TYPE_DW'],axis=1)\n",
    "final_train = pd.merge(final_train, contest_ext_crd_is_ovdsummary_zhundaijika, on=['REPORT_ID'], how='left')"
   ]
  },
  {
   "cell_type": "code",
   "execution_count": 171,
   "metadata": {
    "collapsed": true
   },
   "outputs": [],
   "source": [
    "# 贷记卡逾期特征\n",
    "contest_ext_crd_is_ovdsummary_daijika=contest_ext_crd_is_ovdsummary[contest_ext_crd_is_ovdsummary['TYPE_DW']=='贷记卡逾期']\n",
    "contest_ext_crd_is_ovdsummary_daijika=contest_ext_crd_is_ovdsummary_daijika.rename(columns={\n",
    "    'COUNT_DW':'COUNT_DW_daijika',\n",
    "    'MONTHS':'MONTHS_daijika',\n",
    "    'HIGHEST_OA_PER_MON':'HIGHEST_OA_PER_MON_daijika',\n",
    "    'MAX_DURATION':'MAX_DURATION_daijika'\n",
    "})\n",
    "contest_ext_crd_is_ovdsummary_daijika=contest_ext_crd_is_ovdsummary_daijika.drop(['TYPE_DW'],axis=1)\n",
    "final_train = pd.merge(final_train, contest_ext_crd_is_ovdsummary_daijika, on=['REPORT_ID'], how='left')"
   ]
  },
  {
   "cell_type": "code",
   "execution_count": 172,
   "metadata": {},
   "outputs": [
    {
     "data": {
      "text/plain": [
       "Index(['REPORT_ID', 'ID_CARD', 'LOAN_DATE', 'WORK_PROVINCE', 'Y',\n",
       "       'EDU_LEVEL_专科', 'EDU_LEVEL_专科及以下', 'EDU_LEVEL_其他', 'EDU_LEVEL_初中',\n",
       "       'EDU_LEVEL_博士研究生', 'EDU_LEVEL_本科', 'EDU_LEVEL_硕士及以上', 'EDU_LEVEL_硕士研究生',\n",
       "       'EDU_LEVEL_高中', 'MARRY_STATUS_丧偶', 'MARRY_STATUS_其他', 'MARRY_STATUS_已婚',\n",
       "       'MARRY_STATUS_未婚', 'MARRY_STATUS_离婚', 'MARRY_STATUS_离异', 'IS_LOCAL_本地籍',\n",
       "       'IS_LOCAL_非本地籍', 'HAS_FUND_0.0', 'HAS_FUND_1.0', 'curr_overdue_cyc',\n",
       "       'curr_overdue_amount', 'curr_overdue_cyc_cd_lnd',\n",
       "       'curr_overdue_amount_cd_lnd', 'COUNT_DW_daikuan', 'MONTHS_daikuan',\n",
       "       'HIGHEST_OA_PER_MON_daikuan', 'MAX_DURATION_daikuan',\n",
       "       'COUNT_DW_zhundaijika', 'MONTHS_zhundaijika',\n",
       "       'HIGHEST_OA_PER_MON_zhundaijika', 'MAX_DURATION_zhundaijika',\n",
       "       'COUNT_DW_daijika', 'MONTHS_daijika', 'HIGHEST_OA_PER_MON_daijika',\n",
       "       'MAX_DURATION_daijika'],\n",
       "      dtype='object')"
      ]
     },
     "execution_count": 172,
     "metadata": {},
     "output_type": "execute_result"
    }
   ],
   "source": [
    "final_train.columns"
   ]
  },
  {
   "cell_type": "markdown",
   "metadata": {},
   "source": [
    "## contest_ext_crd_cd_lnd_ovd表特征工程"
   ]
  },
  {
   "cell_type": "code",
   "execution_count": 173,
   "metadata": {
    "collapsed": true
   },
   "outputs": [],
   "source": [
    "contest_ext_crd_cd_lnd_ovd=pd.read_csv('data/contest_ext_crd_cd_lnd_ovd.csv')"
   ]
  },
  {
   "cell_type": "code",
   "execution_count": 174,
   "metadata": {},
   "outputs": [
    {
     "data": {
      "text/html": [
       "<div>\n",
       "<style scoped>\n",
       "    .dataframe tbody tr th:only-of-type {\n",
       "        vertical-align: middle;\n",
       "    }\n",
       "\n",
       "    .dataframe tbody tr th {\n",
       "        vertical-align: top;\n",
       "    }\n",
       "\n",
       "    .dataframe thead th {\n",
       "        text-align: right;\n",
       "    }\n",
       "</style>\n",
       "<table border=\"1\" class=\"dataframe\">\n",
       "  <thead>\n",
       "    <tr style=\"text-align: right;\">\n",
       "      <th></th>\n",
       "      <th>REPORT_ID</th>\n",
       "      <th>MONTH_DW</th>\n",
       "      <th>LAST_MONTHS</th>\n",
       "      <th>AMOUNT</th>\n",
       "    </tr>\n",
       "  </thead>\n",
       "  <tbody>\n",
       "    <tr>\n",
       "      <th>0</th>\n",
       "      <td>24820</td>\n",
       "      <td>2014.02</td>\n",
       "      <td>1.0</td>\n",
       "      <td>440.0</td>\n",
       "    </tr>\n",
       "    <tr>\n",
       "      <th>1</th>\n",
       "      <td>24820</td>\n",
       "      <td>2013.07</td>\n",
       "      <td>1.0</td>\n",
       "      <td>95.0</td>\n",
       "    </tr>\n",
       "    <tr>\n",
       "      <th>2</th>\n",
       "      <td>54038</td>\n",
       "      <td>2014.06</td>\n",
       "      <td>1.0</td>\n",
       "      <td>10.0</td>\n",
       "    </tr>\n",
       "    <tr>\n",
       "      <th>3</th>\n",
       "      <td>54038</td>\n",
       "      <td>--</td>\n",
       "      <td>NaN</td>\n",
       "      <td>NaN</td>\n",
       "    </tr>\n",
       "    <tr>\n",
       "      <th>4</th>\n",
       "      <td>88203</td>\n",
       "      <td>2014.02</td>\n",
       "      <td>1.0</td>\n",
       "      <td>1321.0</td>\n",
       "    </tr>\n",
       "  </tbody>\n",
       "</table>\n",
       "</div>"
      ],
      "text/plain": [
       "   REPORT_ID        MONTH_DW  LAST_MONTHS  AMOUNT\n",
       "0      24820  2014.02                 1.0   440.0\n",
       "1      24820  2013.07                 1.0    95.0\n",
       "2      54038  2014.06                 1.0    10.0\n",
       "3      54038  --                      NaN     NaN\n",
       "4      88203  2014.02                 1.0  1321.0"
      ]
     },
     "execution_count": 174,
     "metadata": {},
     "output_type": "execute_result"
    }
   ],
   "source": [
    "contest_ext_crd_cd_lnd_ovd.head()"
   ]
  },
  {
   "cell_type": "code",
   "execution_count": 175,
   "metadata": {
    "collapsed": true
   },
   "outputs": [],
   "source": [
    "contest_ext_crd_cd_lnd_ovd=contest_ext_crd_cd_lnd_ovd.fillna(0)"
   ]
  },
  {
   "cell_type": "code",
   "execution_count": 176,
   "metadata": {
    "collapsed": true
   },
   "outputs": [],
   "source": [
    "LAST_MONTHS=contest_ext_crd_cd_lnd_ovd.groupby(['REPORT_ID'],as_index=False)[['LAST_MONTHS']].sum()\n",
    "AMOUNT=contest_ext_crd_cd_lnd_ovd.groupby(['REPORT_ID'],as_index=False)[['AMOUNT']].sum()\n",
    "final_train = pd.merge(final_train, LAST_MONTHS, on=['REPORT_ID'], how='left')\n",
    "final_train = pd.merge(final_train, AMOUNT, on=['REPORT_ID'], how='left')"
   ]
  },
  {
   "cell_type": "markdown",
   "metadata": {},
   "source": [
    "## 训练数据集、测试数据集划分、模型训练"
   ]
  },
  {
   "cell_type": "code",
   "execution_count": 181,
   "metadata": {
    "collapsed": true
   },
   "outputs": [],
   "source": [
    "final_train = final_train.fillna(0)\n",
    "final_train=final_train.drop(['REPORT_ID','ID_CARD','LOAN_DATE','WORK_PROVINCE'],axis=1)\n",
    "final_train=final_train.sample(frac=1,random_state=13) \n",
    "train_y,test_y = final_train['Y'].values[:24000],final_train['Y'].values[24000:]\n",
    "final_train=final_train.drop(['Y'],axis=1)\n",
    "train_x,test_x = final_train[:24000].values,final_train[24000:].values"
   ]
  },
  {
   "cell_type": "code",
   "execution_count": 182,
   "metadata": {
    "scrolled": true
   },
   "outputs": [
    {
     "name": "stdout",
     "output_type": "stream",
     "text": [
      "--------------- TRAIN ---------------\n",
      "accuracy_score:  0.879083333333\n",
      "recall_score:  0.0702099737533\n",
      "f1_score:  0.0686777920411\n",
      "--------------- TEST ---------------\n",
      "accuracy_score:  0.8845\n",
      "recall_score:  0.0626780626781\n",
      "f1_score:  0.0597014925373\n"
     ]
    }
   ],
   "source": [
    "model = LinearSVC(C=3)\n",
    "model.fit(train_x, train_y)\n",
    "y_pre=model.predict(test_x)\n",
    "print('-'*15+' TRAIN '+'-'*15)\n",
    "y_train_pre=model.predict(train_x)\n",
    "print('accuracy_score: ',accuracy_score(train_y,y_train_pre))\n",
    "print('recall_score: ',recall_score(train_y,y_train_pre))\n",
    "print('f1_score: ',f1_score(train_y,y_train_pre))\n",
    "print('-'*15+' TEST '+'-'*15)\n",
    "print('accuracy_score: ',accuracy_score(test_y,y_pre))\n",
    "print('recall_score: ',recall_score(test_y,y_pre))\n",
    "print('f1_score: ',f1_score(test_y,y_pre))"
   ]
  },
  {
   "cell_type": "code",
   "execution_count": null,
   "metadata": {
    "collapsed": true
   },
   "outputs": [],
   "source": []
  }
 ],
 "metadata": {
  "kernelspec": {
   "display_name": "Python 3",
   "language": "python",
   "name": "python3"
  },
  "language_info": {
   "codemirror_mode": {
    "name": "ipython",
    "version": 3
   },
   "file_extension": ".py",
   "mimetype": "text/x-python",
   "name": "python",
   "nbconvert_exporter": "python",
   "pygments_lexer": "ipython3",
   "version": "3.6.4"
  }
 },
 "nbformat": 4,
 "nbformat_minor": 2
}
