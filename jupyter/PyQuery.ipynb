{
 "cells": [
  {
   "cell_type": "markdown",
   "metadata": {},
   "source": [
    "# PyQuery"
   ]
  },
  {
   "cell_type": "markdown",
   "metadata": {},
   "source": [
    "## 初始化"
   ]
  },
  {
   "cell_type": "markdown",
   "metadata": {},
   "source": [
    "### 字符串初始化"
   ]
  },
  {
   "cell_type": "code",
   "execution_count": 1,
   "metadata": {},
   "outputs": [
    {
     "name": "stdout",
     "output_type": "stream",
     "text": [
      "<li>first item</li>\n"
     ]
    }
   ],
   "source": [
    "html='''\n",
    "<li>first item</li>\n",
    "'''\n",
    "from pyquery import PyQuery as pq\n",
    "doc=pq(html)\n",
    "print(doc('li'))"
   ]
  },
  {
   "cell_type": "markdown",
   "metadata": {},
   "source": [
    "### URL初始化"
   ]
  },
  {
   "cell_type": "code",
   "execution_count": 8,
   "metadata": {},
   "outputs": [
    {
     "name": "stdout",
     "output_type": "stream",
     "text": [
      "<head><meta http-equiv=\"content-type\" content=\"text/html;charset=utf-8\"/><meta http-equiv=\"X-UA-Compatible\" content=\"IE=Edge\"/><meta content=\"always\" name=\"referrer\"/><link rel=\"stylesheet\" type=\"text/css\" href=\"http://s1.bdstatic.com/r/www/cache/bdorz/baidu.min.css\"/><title>ç¾åº¦ä¸ä¸ï¼ä½ å°±ç¥é</title></head> \n"
     ]
    }
   ],
   "source": [
    "from pyquery import PyQuery as pq\n",
    "doc=pq(url='http://www.baidu.com')\n",
    "print(doc('head'))"
   ]
  },
  {
   "cell_type": "markdown",
   "metadata": {},
   "source": [
    "### 文件初始化"
   ]
  },
  {
   "cell_type": "code",
   "execution_count": null,
   "metadata": {},
   "outputs": [],
   "source": [
    "from pyquery import PyQuery as pq\n",
    "doc=pq(filenames='demo.html')\n",
    "print(doc('li'))"
   ]
  },
  {
   "cell_type": "markdown",
   "metadata": {},
   "source": [
    "## 基本CSS选择器"
   ]
  },
  {
   "cell_type": "code",
   "execution_count": 2,
   "metadata": {},
   "outputs": [
    {
     "name": "stdout",
     "output_type": "stream",
     "text": [
      "<a class=\"\" href=\"https://book.douban.com/subject/27589516/?icn=index-editionrecommend\" title=\"&#x957F;&#x957F;&#x7684;&#x8DEF; &#x6211;&#x4EEC;&#x6162;&#x6162;&#x8D70;\">长长的路 我们慢慢走</a>\n",
      "              \n"
     ]
    }
   ],
   "source": [
    "html='''<li>\n",
    "            <div class=\"cover\">\n",
    "              <a href=\"https://book.douban.com/subject/27589516/?icn=index-editionrecommend\" title=\"长长的路 我们慢慢走\">\n",
    "                <img src=\"https://img3.doubanio.com/lpic/s29618085.jpg\" class=\"\" width=\"115px\" height=\"172px\" alt=\"长长的路 我们慢慢走\">\n",
    "              </a>\n",
    "            </div>\n",
    "                <div class=\"intervenor-info\">\n",
    "                    <img src=\"https://img3.doubanio.com/f/book/ef040178fab1770d60e3f2f12ba4c7aa70714396/pics/book/partner/jd_recommend.png\" class=\"jd-icon\" width=\"16\" height=\"16\"> \n",
    "                    <span>推荐</span>\n",
    "                </div>\n",
    "            <div class=\"info\">\n",
    "              <div class=\"title\">\n",
    "                <a class=\"\" href=\"https://book.douban.com/subject/27589516/?icn=index-editionrecommend\" title=\"长长的路 我们慢慢走\">长长的路 我们慢慢走</a>\n",
    "              </div>\n",
    "              <div class=\"author\">\n",
    "                余光中\n",
    "              </div>\n",
    "        </li>\n",
    "'''\n",
    "from pyquery import PyQuery as pq\n",
    "doc=pq(html)\n",
    "print(doc('.info .title a'))  ##id='1234',则为#1234"
   ]
  },
  {
   "cell_type": "markdown",
   "metadata": {},
   "source": [
    "## 查找元素"
   ]
  },
  {
   "cell_type": "markdown",
   "metadata": {},
   "source": [
    "### 子元素"
   ]
  },
  {
   "cell_type": "code",
   "execution_count": 2,
   "metadata": {
    "scrolled": true
   },
   "outputs": [
    {
     "name": "stdout",
     "output_type": "stream",
     "text": [
      "<li class=\"li\">\n",
      "            <div class=\"cover\">\n",
      "              <a href=\"https://book.douban.com/subject/27589516/?icn=index-editionrecommend\" title=\"长长的路 我们慢慢走\">\n",
      "                <img src=\"https://img3.doubanio.com/lpic/s29618085.jpg\" class=\"\" width=\"115px\" height=\"172px\" alt=\"长长的路 我们慢慢走\"/>\n",
      "              </a>\n",
      "            </div>\n",
      "                <div class=\"intervenor-info\">\n",
      "                    <img src=\"https://img3.doubanio.com/f/book/ef040178fab1770d60e3f2f12ba4c7aa70714396/pics/book/partner/jd_recommend.png\" class=\"jd-icon\" width=\"16\" height=\"16\"/> \n",
      "                    <span>推荐</span>\n",
      "                </div>\n",
      "            <div class=\"info\">\n",
      "              <div class=\"title\">\n",
      "                <a class=\"\" href=\"https://book.douban.com/subject/27589516/?icn=index-editionrecommend\" title=\"长长的路 我们慢慢走\">长长的路 我们慢慢走</a>\n",
      "              </div>\n",
      "              <div class=\"author\">\n",
      "                余光中\n",
      "              </div>\n",
      "        \n",
      "</div></li>\n",
      "<div class=\"cover\">\n",
      "              <a href=\"https://book.douban.com/subject/27589516/?icn=index-editionrecommend\" title=\"长长的路 我们慢慢走\">\n",
      "                <img src=\"https://img3.doubanio.com/lpic/s29618085.jpg\" class=\"\" width=\"115px\" height=\"172px\" alt=\"长长的路 我们慢慢走\"/>\n",
      "              </a>\n",
      "            </div>\n",
      "                \n"
     ]
    }
   ],
   "source": [
    "html='''<li class=li>\n",
    "            <div class=\"cover\">\n",
    "              <a href=\"https://book.douban.com/subject/27589516/?icn=index-editionrecommend\" title=\"长长的路 我们慢慢走\">\n",
    "                <img src=\"https://img3.doubanio.com/lpic/s29618085.jpg\" class=\"\" width=\"115px\" height=\"172px\" alt=\"长长的路 我们慢慢走\">\n",
    "              </a>\n",
    "            </div>\n",
    "                <div class=\"intervenor-info\">\n",
    "                    <img src=\"https://img3.doubanio.com/f/book/ef040178fab1770d60e3f2f12ba4c7aa70714396/pics/book/partner/jd_recommend.png\" class=\"jd-icon\" width=\"16\" height=\"16\"> \n",
    "                    <span>推荐</span>\n",
    "                </div>\n",
    "            <div class=\"info\">\n",
    "              <div class=\"title\">\n",
    "                <a class=\"\" href=\"https://book.douban.com/subject/27589516/?icn=index-editionrecommend\" title=\"长长的路 我们慢慢走\">长长的路 我们慢慢走</a>\n",
    "              </div>\n",
    "              <div class=\"author\">\n",
    "                余光中\n",
    "              </div>\n",
    "        </li>\n",
    "'''\n",
    "from pyquery import PyQuery as pq\n",
    "doc=pq(html)\n",
    "items=doc('.li')\n",
    "print(items)\n",
    "lis=items.find('.cover') #find是查找所有里面的东西，而children是查找直接子元素\n",
    "print(lis)"
   ]
  },
  {
   "cell_type": "code",
   "execution_count": 4,
   "metadata": {
    "scrolled": true
   },
   "outputs": [
    {
     "name": "stdout",
     "output_type": "stream",
     "text": [
      "<div class=\"cover\">\n",
      "              <a href=\"https://book.douban.com/subject/27589516/?icn=index-editionrecommend\" title=\"长长的路 我们慢慢走\">\n",
      "                <img src=\"https://img3.doubanio.com/lpic/s29618085.jpg\" class=\"\" width=\"115px\" height=\"172px\" alt=\"长长的路 我们慢慢走\"/>\n",
      "              </a>\n",
      "            </div>\n",
      "                \n"
     ]
    }
   ],
   "source": [
    "lis=items.children('.cover')\n",
    "print(lis)"
   ]
  },
  {
   "cell_type": "markdown",
   "metadata": {},
   "source": [
    "### 父元素"
   ]
  },
  {
   "cell_type": "code",
   "execution_count": 7,
   "metadata": {},
   "outputs": [
    {
     "name": "stdout",
     "output_type": "stream",
     "text": [
      "<div class=\"cover\">\n",
      "              <a href=\"https://book.douban.com/subject/27589516/?icn=index-editionrecommend\" title=\"长长的路 我们慢慢走\">\n",
      "                <img src=\"https://img3.doubanio.com/lpic/s29618085.jpg\" class=\"\" width=\"115px\" height=\"172px\" alt=\"长长的路 我们慢慢走\"/>\n",
      "              </a>\n",
      "            </div>\n",
      "                <div class=\"title\">\n",
      "                <a class=\"\" href=\"https://book.douban.com/subject/27589516/?icn=index-editionrecommend\" title=\"长长的路 我们慢慢走\">长长的路 我们慢慢走</a>\n",
      "              </div>\n",
      "              \n",
      "<html><body><li class=\"li\">\n",
      "            <div class=\"cover\">\n",
      "              <a href=\"https://book.douban.com/subject/27589516/?icn=index-editionrecommend\" title=\"长长的路 我们慢慢走\">\n",
      "                <img src=\"https://img3.doubanio.com/lpic/s29618085.jpg\" class=\"\" width=\"115px\" height=\"172px\" alt=\"长长的路 我们慢慢走\"/>\n",
      "              </a>\n",
      "            </div>\n",
      "                <div class=\"intervenor-info\">\n",
      "                    <img src=\"https://img3.doubanio.com/f/book/ef040178fab1770d60e3f2f12ba4c7aa70714396/pics/book/partner/jd_recommend.png\" class=\"jd-icon\" width=\"16\" height=\"16\"/> \n",
      "                    <span>推荐</span>\n",
      "                </div>\n",
      "            <div class=\"info\">\n",
      "              <div class=\"title\">\n",
      "                <a class=\"\" href=\"https://book.douban.com/subject/27589516/?icn=index-editionrecommend\" title=\"长长的路 我们慢慢走\">长长的路 我们慢慢走</a>\n",
      "              </div>\n",
      "              <div class=\"author\">\n",
      "                余光中\n",
      "              </div>\n",
      "        \n",
      "</div></li></body></html><body><li class=\"li\">\n",
      "            <div class=\"cover\">\n",
      "              <a href=\"https://book.douban.com/subject/27589516/?icn=index-editionrecommend\" title=\"长长的路 我们慢慢走\">\n",
      "                <img src=\"https://img3.doubanio.com/lpic/s29618085.jpg\" class=\"\" width=\"115px\" height=\"172px\" alt=\"长长的路 我们慢慢走\"/>\n",
      "              </a>\n",
      "            </div>\n",
      "                <div class=\"intervenor-info\">\n",
      "                    <img src=\"https://img3.doubanio.com/f/book/ef040178fab1770d60e3f2f12ba4c7aa70714396/pics/book/partner/jd_recommend.png\" class=\"jd-icon\" width=\"16\" height=\"16\"/> \n",
      "                    <span>推荐</span>\n",
      "                </div>\n",
      "            <div class=\"info\">\n",
      "              <div class=\"title\">\n",
      "                <a class=\"\" href=\"https://book.douban.com/subject/27589516/?icn=index-editionrecommend\" title=\"长长的路 我们慢慢走\">长长的路 我们慢慢走</a>\n",
      "              </div>\n",
      "              <div class=\"author\">\n",
      "                余光中\n",
      "              </div>\n",
      "        \n",
      "</div></li></body><li class=\"li\">\n",
      "            <div class=\"cover\">\n",
      "              <a href=\"https://book.douban.com/subject/27589516/?icn=index-editionrecommend\" title=\"长长的路 我们慢慢走\">\n",
      "                <img src=\"https://img3.doubanio.com/lpic/s29618085.jpg\" class=\"\" width=\"115px\" height=\"172px\" alt=\"长长的路 我们慢慢走\"/>\n",
      "              </a>\n",
      "            </div>\n",
      "                <div class=\"intervenor-info\">\n",
      "                    <img src=\"https://img3.doubanio.com/f/book/ef040178fab1770d60e3f2f12ba4c7aa70714396/pics/book/partner/jd_recommend.png\" class=\"jd-icon\" width=\"16\" height=\"16\"/> \n",
      "                    <span>推荐</span>\n",
      "                </div>\n",
      "            <div class=\"info\">\n",
      "              <div class=\"title\">\n",
      "                <a class=\"\" href=\"https://book.douban.com/subject/27589516/?icn=index-editionrecommend\" title=\"长长的路 我们慢慢走\">长长的路 我们慢慢走</a>\n",
      "              </div>\n",
      "              <div class=\"author\">\n",
      "                余光中\n",
      "              </div>\n",
      "        \n",
      "</div></li><div class=\"cover\">\n",
      "              <a href=\"https://book.douban.com/subject/27589516/?icn=index-editionrecommend\" title=\"长长的路 我们慢慢走\">\n",
      "                <img src=\"https://img3.doubanio.com/lpic/s29618085.jpg\" class=\"\" width=\"115px\" height=\"172px\" alt=\"长长的路 我们慢慢走\"/>\n",
      "              </a>\n",
      "            </div>\n",
      "                <div class=\"info\">\n",
      "              <div class=\"title\">\n",
      "                <a class=\"\" href=\"https://book.douban.com/subject/27589516/?icn=index-editionrecommend\" title=\"长长的路 我们慢慢走\">长长的路 我们慢慢走</a>\n",
      "              </div>\n",
      "              <div class=\"author\">\n",
      "                余光中\n",
      "              </div>\n",
      "        \n",
      "</div><div class=\"title\">\n",
      "                <a class=\"\" href=\"https://book.douban.com/subject/27589516/?icn=index-editionrecommend\" title=\"长长的路 我们慢慢走\">长长的路 我们慢慢走</a>\n",
      "              </div>\n",
      "              \n",
      "<div class=\"cover\">\n",
      "              <a href=\"https://book.douban.com/subject/27589516/?icn=index-editionrecommend\" title=\"长长的路 我们慢慢走\">\n",
      "                <img src=\"https://img3.doubanio.com/lpic/s29618085.jpg\" class=\"\" width=\"115px\" height=\"172px\" alt=\"长长的路 我们慢慢走\"/>\n",
      "              </a>\n",
      "            </div>\n",
      "                \n"
     ]
    }
   ],
   "source": [
    "html='''<li class=li>\n",
    "            <div class=\"cover\">\n",
    "              <a href=\"https://book.douban.com/subject/27589516/?icn=index-editionrecommend\" title=\"长长的路 我们慢慢走\">\n",
    "                <img src=\"https://img3.doubanio.com/lpic/s29618085.jpg\" class=\"\" width=\"115px\" height=\"172px\" alt=\"长长的路 我们慢慢走\">\n",
    "              </a>\n",
    "            </div>\n",
    "                <div class=\"intervenor-info\">\n",
    "                    <img src=\"https://img3.doubanio.com/f/book/ef040178fab1770d60e3f2f12ba4c7aa70714396/pics/book/partner/jd_recommend.png\" class=\"jd-icon\" width=\"16\" height=\"16\"> \n",
    "                    <span>推荐</span>\n",
    "                </div>\n",
    "            <div class=\"info\">\n",
    "              <div class=\"title\">\n",
    "                <a class=\"\" href=\"https://book.douban.com/subject/27589516/?icn=index-editionrecommend\" title=\"长长的路 我们慢慢走\">长长的路 我们慢慢走</a>\n",
    "              </div>\n",
    "              <div class=\"author\">\n",
    "                余光中\n",
    "              </div>\n",
    "        </li>\n",
    "'''\n",
    "from pyquery import PyQuery as pq\n",
    "doc=pq(html)\n",
    "items=doc('a')\n",
    "parent=items.parent()\n",
    "print(parent)\n",
    "parents=items.parents()\n",
    "print(parents)\n",
    "\n",
    "parent1=items.parent('.cover')\n",
    "print(parent1)\n"
   ]
  },
  {
   "cell_type": "markdown",
   "metadata": {},
   "source": [
    "### 兄弟元素"
   ]
  },
  {
   "cell_type": "code",
   "execution_count": 5,
   "metadata": {},
   "outputs": [
    {
     "name": "stdout",
     "output_type": "stream",
     "text": [
      "<div class=\"cover\">\n",
      "              <a href=\"https://book.douban.com/subject/27589516/?icn=index-editionrecommend\" title=\"长长的路 我们慢慢走\">\n",
      "                <img src=\"https://img3.doubanio.com/lpic/s29618085.jpg\" class=\"\" width=\"115px\" height=\"172px\" alt=\"长长的路 我们慢慢走\"/>\n",
      "              </a>\n",
      "            </div>\n",
      "                <div class=\"info\">\n",
      "              <div class=\"title\">\n",
      "                <a class=\"\" href=\"https://book.douban.com/subject/27589516/?icn=index-editionrecommend\" title=\"长长的路 我们慢慢走\">长长的路 我们慢慢走</a>\n",
      "              </div>\n",
      "              <div class=\"author\">\n",
      "                余光中\n",
      "              </div>\n",
      "        \n",
      "</div>\n",
      "<div class=\"info\">\n",
      "              <div class=\"title\">\n",
      "                <a class=\"\" href=\"https://book.douban.com/subject/27589516/?icn=index-editionrecommend\" title=\"长长的路 我们慢慢走\">长长的路 我们慢慢走</a>\n",
      "              </div>\n",
      "              <div class=\"author\">\n",
      "                余光中\n",
      "              </div>\n",
      "        \n",
      "</div>\n"
     ]
    }
   ],
   "source": [
    "html='''<li class=li>\n",
    "            <div class=\"cover\">\n",
    "              <a href=\"https://book.douban.com/subject/27589516/?icn=index-editionrecommend\" title=\"长长的路 我们慢慢走\">\n",
    "                <img src=\"https://img3.doubanio.com/lpic/s29618085.jpg\" class=\"\" width=\"115px\" height=\"172px\" alt=\"长长的路 我们慢慢走\">\n",
    "              </a>\n",
    "            </div>\n",
    "                <div class=\"intervenor info\">\n",
    "                    <img src=\"https://img3.doubanio.com/f/book/ef040178fab1770d60e3f2f12ba4c7aa70714396/pics/book/partner/jd_recommend.png\" class=\"jd-icon\" width=\"16\" height=\"16\"> \n",
    "                    <span>推荐</span>\n",
    "                </div>\n",
    "            <div class=\"info\">\n",
    "              <div class=\"title\">\n",
    "                <a class=\"\" href=\"https://book.douban.com/subject/27589516/?icn=index-editionrecommend\" title=\"长长的路 我们慢慢走\">长长的路 我们慢慢走</a>\n",
    "              </div>\n",
    "              <div class=\"author\">\n",
    "                余光中\n",
    "              </div>\n",
    "        </li>\n",
    "'''\n",
    "from pyquery import PyQuery as pq\n",
    "doc=pq(html)\n",
    "div=doc('.li .info.intervenor')\n",
    "print(div.siblings())\n",
    "\n",
    "print(div.siblings('.info'))"
   ]
  },
  {
   "cell_type": "markdown",
   "metadata": {},
   "source": [
    "## 遍历"
   ]
  },
  {
   "cell_type": "markdown",
   "metadata": {},
   "source": [
    "### 单个元素"
   ]
  },
  {
   "cell_type": "code",
   "execution_count": 1,
   "metadata": {},
   "outputs": [
    {
     "name": "stdout",
     "output_type": "stream",
     "text": [
      "<class 'generator'>\n",
      "<div class=\"cover\">\n",
      "              <a href=\"https://book.douban.com/subject/27589516/?icn=index-editionrecommend\" title=\"长长的路 我们慢慢走\">\n",
      "                <img src=\"https://img3.doubanio.com/lpic/s29618085.jpg\" class=\"\" width=\"115px\" height=\"172px\" alt=\"长长的路 我们慢慢走\"/>\n",
      "              </a>\n",
      "            </div>\n",
      "                \n",
      "<div class=\"intervenor info\">\n",
      "                    <img src=\"https://img3.doubanio.com/f/book/ef040178fab1770d60e3f2f12ba4c7aa70714396/pics/book/partner/jd_recommend.png\" class=\"jd-icon\" width=\"16\" height=\"16\"/> \n",
      "                    <span>推荐</span>\n",
      "                </div>\n",
      "            \n",
      "<div class=\"info\">\n",
      "              <div class=\"title\">\n",
      "                <a class=\"\" href=\"https://book.douban.com/subject/27589516/?icn=index-editionrecommend\" title=\"长长的路 我们慢慢走\">长长的路 我们慢慢走</a>\n",
      "              </div>\n",
      "              <div class=\"author\">\n",
      "                余光中\n",
      "              </div>\n",
      "        \n",
      "</div>\n",
      "<div class=\"title\">\n",
      "                <a class=\"\" href=\"https://book.douban.com/subject/27589516/?icn=index-editionrecommend\" title=\"长长的路 我们慢慢走\">长长的路 我们慢慢走</a>\n",
      "              </div>\n",
      "              \n",
      "<div class=\"author\">\n",
      "                余光中\n",
      "              </div>\n",
      "        \n",
      "\n"
     ]
    }
   ],
   "source": [
    "html='''<li class=li>\n",
    "            <div class=\"cover\">\n",
    "              <a href=\"https://book.douban.com/subject/27589516/?icn=index-editionrecommend\" title=\"长长的路 我们慢慢走\">\n",
    "                <img src=\"https://img3.doubanio.com/lpic/s29618085.jpg\" class=\"\" width=\"115px\" height=\"172px\" alt=\"长长的路 我们慢慢走\">\n",
    "              </a>\n",
    "            </div>\n",
    "                <div class=\"intervenor info\">\n",
    "                    <img src=\"https://img3.doubanio.com/f/book/ef040178fab1770d60e3f2f12ba4c7aa70714396/pics/book/partner/jd_recommend.png\" class=\"jd-icon\" width=\"16\" height=\"16\"> \n",
    "                    <span>推荐</span>\n",
    "                </div>\n",
    "            <div class=\"info\">\n",
    "              <div class=\"title\">\n",
    "                <a class=\"\" href=\"https://book.douban.com/subject/27589516/?icn=index-editionrecommend\" title=\"长长的路 我们慢慢走\">长长的路 我们慢慢走</a>\n",
    "              </div>\n",
    "              <div class=\"author\">\n",
    "                余光中\n",
    "              </div>\n",
    "        </li>\n",
    "'''\n",
    "from pyquery import PyQuery as pq\n",
    "doc=pq(html)\n",
    "div=doc('.li .info.intervenor')\n",
    "#print(div)\n",
    "\n",
    "lis=doc('div').items()\n",
    "print(type(lis))\n",
    "for div in lis:\n",
    "    print(div)"
   ]
  },
  {
   "cell_type": "markdown",
   "metadata": {},
   "source": [
    "## 获取信息"
   ]
  },
  {
   "cell_type": "markdown",
   "metadata": {},
   "source": [
    "### 获取属性"
   ]
  },
  {
   "cell_type": "code",
   "execution_count": 14,
   "metadata": {},
   "outputs": [
    {
     "name": "stdout",
     "output_type": "stream",
     "text": [
      "<a class=\"\" href=\"https://book.douban.com/subject/27589516/?icn=index-editionrecommend\" title=\"&#x957F;&#x957F;&#x7684;&#x8DEF; &#x6211;&#x4EEC;&#x6162;&#x6162;&#x8D70;\">长长的路 我们慢慢走</a>\n",
      "              \n",
      "https://book.douban.com/subject/27589516/?icn=index-editionrecommend\n",
      "https://book.douban.com/subject/27589516/?icn=index-editionrecommend\n"
     ]
    }
   ],
   "source": [
    "html='''<li class=li>\n",
    "            <div class=\"cover\">\n",
    "              <a href=\"https://book.douban.com/subject/27589516/?icn=index-editionrecommend\" title=\"长长的路 我们慢慢走\">\n",
    "                <img src=\"https://img3.doubanio.com/lpic/s29618085.jpg\" class=\"\" width=\"115px\" height=\"172px\" alt=\"长长的路 我们慢慢走\">\n",
    "              </a>\n",
    "            </div>\n",
    "                <div class=\"intervenor info\">\n",
    "                    <img src=\"https://img3.doubanio.com/f/book/ef040178fab1770d60e3f2f12ba4c7aa70714396/pics/book/partner/jd_recommend.png\" class=\"jd-icon\" width=\"16\" height=\"16\"> \n",
    "                    <span>推荐</span>\n",
    "                </div>\n",
    "            <div class=\"info\">\n",
    "              <div class=\"title\">\n",
    "                <a class=\"\" href=\"https://book.douban.com/subject/27589516/?icn=index-editionrecommend\" title=\"长长的路 我们慢慢走\">长长的路 我们慢慢走</a>\n",
    "              </div>\n",
    "              <div class=\"author\">\n",
    "                余光中\n",
    "              </div>\n",
    "        </li>\n",
    "'''\n",
    "from pyquery import PyQuery as pq\n",
    "doc=pq(html)\n",
    "a=doc('.li .title a')\n",
    "print(a)\n",
    "print(a.attr('href'))\n",
    "print(a.attr.href)"
   ]
  },
  {
   "cell_type": "markdown",
   "metadata": {},
   "source": [
    "### 获取文本"
   ]
  },
  {
   "cell_type": "code",
   "execution_count": 15,
   "metadata": {},
   "outputs": [
    {
     "name": "stdout",
     "output_type": "stream",
     "text": [
      "长长的路 我们慢慢走\n"
     ]
    }
   ],
   "source": [
    "html='''<li class=li>\n",
    "            <div class=\"cover\">\n",
    "              <a href=\"https://book.douban.com/subject/27589516/?icn=index-editionrecommend\" title=\"长长的路 我们慢慢走\">\n",
    "                <img src=\"https://img3.doubanio.com/lpic/s29618085.jpg\" class=\"\" width=\"115px\" height=\"172px\" alt=\"长长的路 我们慢慢走\">\n",
    "              </a>\n",
    "            </div>\n",
    "                <div class=\"intervenor info\">\n",
    "                    <img src=\"https://img3.doubanio.com/f/book/ef040178fab1770d60e3f2f12ba4c7aa70714396/pics/book/partner/jd_recommend.png\" class=\"jd-icon\" width=\"16\" height=\"16\"> \n",
    "                    <span>推荐</span>\n",
    "                </div>\n",
    "            <div class=\"info\">\n",
    "              <div class=\"title\">\n",
    "                <a class=\"\" href=\"https://book.douban.com/subject/27589516/?icn=index-editionrecommend\" title=\"长长的路 我们慢慢走\">长长的路 我们慢慢走</a>\n",
    "              </div>\n",
    "              <div class=\"author\">\n",
    "                余光中\n",
    "              </div>\n",
    "        </li>\n",
    "'''\n",
    "from pyquery import PyQuery as pq\n",
    "doc=pq(html)\n",
    "a=doc('.li .title a')\n",
    "print(a.text())"
   ]
  },
  {
   "cell_type": "markdown",
   "metadata": {},
   "source": [
    "### 获取HTML"
   ]
  },
  {
   "cell_type": "code",
   "execution_count": 18,
   "metadata": {},
   "outputs": [
    {
     "name": "stdout",
     "output_type": "stream",
     "text": [
      "\n",
      "                <a class=\"\" href=\"https://book.douban.com/subject/27589516/?icn=index-editionrecommend\" title=\"&#x957F;&#x957F;&#x7684;&#x8DEF; &#x6211;&#x4EEC;&#x6162;&#x6162;&#x8D70;\">长长的路 我们慢慢走</a>\n",
      "              \n"
     ]
    }
   ],
   "source": [
    "html='''<li class=li>\n",
    "            <div class=\"cover\">\n",
    "              <a href=\"https://book.douban.com/subject/27589516/?icn=index-editionrecommend\" title=\"长长的路 我们慢慢走\">\n",
    "                <img src=\"https://img3.doubanio.com/lpic/s29618085.jpg\" class=\"\" width=\"115px\" height=\"172px\" alt=\"长长的路 我们慢慢走\">\n",
    "              </a>\n",
    "            </div>\n",
    "                <div class=\"intervenor info\">\n",
    "                    <img src=\"https://img3.doubanio.com/f/book/ef040178fab1770d60e3f2f12ba4c7aa70714396/pics/book/partner/jd_recommend.png\" class=\"jd-icon\" width=\"16\" height=\"16\"> \n",
    "                    <span>推荐</span>\n",
    "                </div>\n",
    "            <div class=\"info\">\n",
    "              <div class=\"title\">\n",
    "                <a class=\"\" href=\"https://book.douban.com/subject/27589516/?icn=index-editionrecommend\" title=\"长长的路 我们慢慢走\">长长的路 我们慢慢走</a>\n",
    "              </div>\n",
    "              <div class=\"author\">\n",
    "                余光中\n",
    "              </div>\n",
    "        </li>\n",
    "'''\n",
    "from pyquery import PyQuery as pq\n",
    "doc=pq(html)\n",
    "div=doc('.li .title')\n",
    "print(div.html())"
   ]
  },
  {
   "cell_type": "markdown",
   "metadata": {},
   "source": [
    "## DOM操作"
   ]
  },
  {
   "cell_type": "markdown",
   "metadata": {},
   "source": [
    "### addClass,removeClass"
   ]
  },
  {
   "cell_type": "code",
   "execution_count": 19,
   "metadata": {},
   "outputs": [
    {
     "name": "stdout",
     "output_type": "stream",
     "text": [
      "<a class=\"0\" href=\"https://book.douban.com/subject/27589516/?icn=index-editionrecommend\" title=\"&#x957F;&#x957F;&#x7684;&#x8DEF; &#x6211;&#x4EEC;&#x6162;&#x6162;&#x8D70;\">长长的路 我们慢慢走</a>\n",
      "              \n",
      "<a class=\"0 active\" href=\"https://book.douban.com/subject/27589516/?icn=index-editionrecommend\" title=\"&#x957F;&#x957F;&#x7684;&#x8DEF; &#x6211;&#x4EEC;&#x6162;&#x6162;&#x8D70;\">长长的路 我们慢慢走</a>\n",
      "              \n"
     ]
    }
   ],
   "source": [
    "html='''<li class=li>\n",
    "            <div class=\"cover\">\n",
    "              <a href=\"https://book.douban.com/subject/27589516/?icn=index-editionrecommend\" title=\"长长的路 我们慢慢走\">\n",
    "                <img src=\"https://img3.doubanio.com/lpic/s29618085.jpg\" class=\"\" width=\"115px\" height=\"172px\" alt=\"长长的路 我们慢慢走\">\n",
    "              </a>\n",
    "            </div>\n",
    "                <div class=\"intervenor info\">\n",
    "                    <img src=\"https://img3.doubanio.com/f/book/ef040178fab1770d60e3f2f12ba4c7aa70714396/pics/book/partner/jd_recommend.png\" class=\"jd-icon\" width=\"16\" height=\"16\"> \n",
    "                    <span>推荐</span>\n",
    "                </div>\n",
    "            <div class=\"info\">\n",
    "              <div class=\"title\">\n",
    "                <a class=\"active 0\" href=\"https://book.douban.com/subject/27589516/?icn=index-editionrecommend\" title=\"长长的路 我们慢慢走\">长长的路 我们慢慢走</a>\n",
    "              </div>\n",
    "              <div class=\"author\">\n",
    "                余光中\n",
    "              </div>\n",
    "        </li>\n",
    "'''\n",
    "from pyquery import PyQuery as pq\n",
    "doc=pq(html)\n",
    "a=doc('.li .title a')\n",
    "a.removeClass('active')\n",
    "print(a)\n",
    "a.addClass('active')\n",
    "print(a)"
   ]
  },
  {
   "cell_type": "markdown",
   "metadata": {},
   "source": [
    "### attr,css"
   ]
  },
  {
   "cell_type": "code",
   "execution_count": 22,
   "metadata": {},
   "outputs": [
    {
     "name": "stdout",
     "output_type": "stream",
     "text": [
      "<a class=\"\" href=\"https://book.douban.com/subject/27589516/?icn=index-editionrecommend\" title=\"&#x957F;&#x957F;&#x7684;&#x8DEF; &#x6211;&#x4EEC;&#x6162;&#x6162;&#x8D70;\" name=\"link\">长长的路 我们慢慢走</a>\n",
      "              \n",
      "<a class=\"\" href=\"https://book.douban.com/subject/27589516/?icn=index-editionrecommend\" title=\"&#x957F;&#x957F;&#x7684;&#x8DEF; &#x6211;&#x4EEC;&#x6162;&#x6162;&#x8D70;\" name=\"link\" style=\"font-size: 14px\">长长的路 我们慢慢走</a>\n",
      "              \n"
     ]
    }
   ],
   "source": [
    "html='''<li class=li>\n",
    "            <div class=\"cover\">\n",
    "              <a href=\"https://book.douban.com/subject/27589516/?icn=index-editionrecommend\" title=\"长长的路 我们慢慢走\">\n",
    "                <img src=\"https://img3.doubanio.com/lpic/s29618085.jpg\" class=\"\" width=\"115px\" height=\"172px\" alt=\"长长的路 我们慢慢走\">\n",
    "              </a>\n",
    "            </div>\n",
    "                <div class=\"intervenor info\">\n",
    "                    <img src=\"https://img3.doubanio.com/f/book/ef040178fab1770d60e3f2f12ba4c7aa70714396/pics/book/partner/jd_recommend.png\" class=\"jd-icon\" width=\"16\" height=\"16\"> \n",
    "                    <span>推荐</span>\n",
    "                </div>\n",
    "              <div class=\"title\">\n",
    "                <a class=\"\" href=\"https://book.douban.com/subject/27589516/?icn=index-editionrecommend\" title=\"长长的路 我们慢慢走\">长长的路 我们慢慢走</a>\n",
    "              </div>\n",
    "              <div class=\"author\">\n",
    "                余光中\n",
    "              </div>\n",
    "        </li>\n",
    "'''\n",
    "from pyquery import PyQuery as pq\n",
    "doc=pq(html)\n",
    "a=doc('.li .title a')\n",
    "a.attr('name','link')\n",
    "print(a)\n",
    "a.css('font-size','14px')\n",
    "print(a)"
   ]
  },
  {
   "cell_type": "markdown",
   "metadata": {},
   "source": [
    "### remove"
   ]
  },
  {
   "cell_type": "code",
   "execution_count": 26,
   "metadata": {},
   "outputs": [
    {
     "name": "stdout",
     "output_type": "stream",
     "text": [
      "长长的路 我们慢慢走 hello,world\n",
      "hello,world\n"
     ]
    }
   ],
   "source": [
    "html='''\n",
    "<div class=\"title\">\n",
    "     <a class=\"\" href=\"https://book.douban.com/subject/27589516/?icn=index-editionrecommend\" title=\"长长的路 我们慢慢走\">长长的路 我们慢慢走</a>\n",
    "    hello,world\n",
    "</div>\n",
    "'''\n",
    "from pyquery import PyQuery as pq\n",
    "doc=pq(html)\n",
    "div=doc('.title')\n",
    "print(div.text())\n",
    "div.find('a').remove()\n",
    "print(div.text())"
   ]
  },
  {
   "cell_type": "markdown",
   "metadata": {},
   "source": [
    "### 其他DOM方法"
   ]
  },
  {
   "cell_type": "markdown",
   "metadata": {},
   "source": [
    "http://pyquery.readthedocs.io/en/latest/api.html"
   ]
  },
  {
   "cell_type": "markdown",
   "metadata": {},
   "source": [
    "## 伪类选择器"
   ]
  },
  {
   "cell_type": "code",
   "execution_count": 33,
   "metadata": {},
   "outputs": [
    {
     "name": "stdout",
     "output_type": "stream",
     "text": [
      "<div class=\"cover\">\n",
      "        <a href=\"https://book.douban.com/subject/27589516/?icn=index-editionrecommend\" title=\"长长的路 我们慢慢走\">\n",
      "            <img src=\"https://img3.doubanio.com/lpic/s29618085.jpg\" class=\"\" width=\"115px\" height=\"172px\" alt=\"长长的路 我们慢慢走\"/>\n",
      "        </a>\n",
      "    </div>\n",
      "    \n",
      "<div class=\"author\">\n",
      "        余光中\n",
      "    </div>\n",
      "\n",
      "<div class=\"intervenor info\">\n",
      "        <img src=\"https://img3.doubanio.com/f/book/ef040178fab1770d60e3f2f12ba4c7aa70714396/pics/book/partner/jd_recommend.png\" class=\"jd-icon\" width=\"16\" height=\"16\"/> \n",
      "        <span>推荐</span>\n",
      "    </div>\n",
      "    \n",
      "<div class=\"author\">\n",
      "        余光中\n",
      "    </div>\n",
      "\n",
      "<div class=\"cover\">\n",
      "        <a href=\"https://book.douban.com/subject/27589516/?icn=index-editionrecommend\" title=\"长长的路 我们慢慢走\">\n",
      "            <img src=\"https://img3.doubanio.com/lpic/s29618085.jpg\" class=\"\" width=\"115px\" height=\"172px\" alt=\"长长的路 我们慢慢走\"/>\n",
      "        </a>\n",
      "    </div>\n",
      "    <div class=\"title\">\n",
      "        <a class=\"\" href=\"https://book.douban.com/subject/27589516/?icn=index-editionrecommend\" title=\"长长的路 我们慢慢走\">长长的路 我们慢慢走</a>\n",
      "    </div>\n",
      "    \n",
      "<div class=\"author\">\n",
      "        余光中\n",
      "    </div>\n",
      "\n"
     ]
    }
   ],
   "source": [
    "html='''\n",
    "<li class=li>\n",
    "    <div class=\"cover\">\n",
    "        <a href=\"https://book.douban.com/subject/27589516/?icn=index-editionrecommend\" title=\"长长的路 我们慢慢走\">\n",
    "            <img src=\"https://img3.doubanio.com/lpic/s29618085.jpg\" class=\"\" width=\"115px\" height=\"172px\" alt=\"长长的路 我们慢慢走\">\n",
    "        </a>\n",
    "    </div>\n",
    "    <div class=\"intervenor info\">\n",
    "        <img src=\"https://img3.doubanio.com/f/book/ef040178fab1770d60e3f2f12ba4c7aa70714396/pics/book/partner/jd_recommend.png\" class=\"jd-icon\" width=\"16\" height=\"16\"> \n",
    "        <span>推荐</span>\n",
    "    </div>\n",
    "    <div class=\"title\">\n",
    "        <a class=\"\" href=\"https://book.douban.com/subject/27589516/?icn=index-editionrecommend\" title=\"长长的路 我们慢慢走\">长长的路 我们慢慢走</a>\n",
    "    </div>\n",
    "    <div class=\"author\">\n",
    "        余光中\n",
    "    </div>\n",
    "</li>\n",
    "'''\n",
    "from pyquery import PyQuery as pq\n",
    "doc=pq(html)\n",
    "div=doc('.li div')\n",
    "div1=doc('div:first-child')\n",
    "print(div1)\n",
    "div2=doc('div:last-child')\n",
    "print(div2)\n",
    "div3=doc('div:nth-child(2)')\n",
    "print(div3)\n",
    "div4=doc('div:gt(2)') ##索引为3,4……\n",
    "print(div4)\n",
    "div5=doc('div:nth-child(2n+1)')\n",
    "print(div5)\n",
    "div6=doc('div:contains(余光中)')\n",
    "print(div6)"
   ]
  },
  {
   "cell_type": "markdown",
   "metadata": {},
   "source": [
    "更多css选择器可以查看 http://www.w3school.com.cn/css/index.asp"
   ]
  },
  {
   "cell_type": "markdown",
   "metadata": {},
   "source": [
    "## 官方文档"
   ]
  },
  {
   "cell_type": "markdown",
   "metadata": {},
   "source": [
    "http://pyquery.readthedocs.io"
   ]
  }
 ],
 "metadata": {
  "kernelspec": {
   "display_name": "Python 3",
   "language": "python",
   "name": "python3"
  },
  "language_info": {
   "codemirror_mode": {
    "name": "ipython",
    "version": 3
   },
   "file_extension": ".py",
   "mimetype": "text/x-python",
   "name": "python",
   "nbconvert_exporter": "python",
   "pygments_lexer": "ipython3",
   "version": "3.6.4"
  }
 },
 "nbformat": 4,
 "nbformat_minor": 2
}
