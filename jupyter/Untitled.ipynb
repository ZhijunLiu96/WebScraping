{
 "cells": [
  {
   "cell_type": "code",
   "execution_count": null,
   "metadata": {},
   "outputs": [],
   "source": []
  },
  {
   "cell_type": "code",
   "execution_count": 17,
   "metadata": {},
   "outputs": [
    {
     "name": "stdout",
     "output_type": "stream",
     "text": [
      "['.internal.widget.']\n",
      "yes\n"
     ]
    }
   ],
   "source": [
    "import re\n",
    " \n",
    "text = '''<android.support.v7.internal.widget.ActionBarContextView android:ellipsize=\"android.support.v7.internal.widget.ActionBarContextView\" android:id=\"@id/action_bar_subtitle\" android:visibility=\"gone\" android:layout_width=\"wrap_content\" android:layout_height=\"wrap_content\" android:layout_marginTop=\"@dimen/abc_action_bar_subtitle_top_margin_material\" android:singleLine=\"true\" />'''\n",
    "htm = re.findall('<android.*?\\d(.*?)Action', text)\n",
    "\n",
    "print(htm)\n",
    "\n",
    "if len(htm)==0:\n",
    "    print('no')\n",
    "else:\n",
    "    print('yes')"
   ]
  },
  {
   "cell_type": "code",
   "execution_count": 16,
   "metadata": {},
   "outputs": [],
   "source": [
    "def tag_exist(patterns,html):\n",
    "    try:\n",
    "        key=re.findall(patterns,html,re.S)\n",
    "        if len(key)==0:\n",
    "            return False\n",
    "        else:\n",
    "            return True\n",
    "    except:\n",
    "        return None\n",
    "    \n"
   ]
  },
  {
   "cell_type": "code",
   "execution_count": null,
   "metadata": {},
   "outputs": [],
   "source": [
    "import re\n",
    "import requests\n",
    "\n",
    "pattern = re.compile('<li.*?<div.*?houseInfo.*?houseIcon.*?region\">(.*?)\\s</a>\\s\\D.*?\\D\\s(\\d\\d.*?\\D)\\s\\D.*?</div>'\n",
    "                         +'<div.*?positionInfo.*?\\D(\\d\\d\\d\\d)\\D.*?<a.*?target.*?blank\\D>(.*?)</a></div>'\n",
    "                         +'',re.S)\n",
    "response=requests.get('https://sh.lianjia.com/ershoufang/pg1tt2/')\n",
    "html=response.text\n",
    "\n",
    "items = re.findall(pattern, html)\n",
    "print(items[0])"
   ]
  },
  {
   "cell_type": "code",
   "execution_count": null,
   "metadata": {},
   "outputs": [],
   "source": []
  }
 ],
 "metadata": {
  "kernelspec": {
   "display_name": "Python 3",
   "language": "python",
   "name": "python3"
  },
  "language_info": {
   "codemirror_mode": {
    "name": "ipython",
    "version": 3
   },
   "file_extension": ".py",
   "mimetype": "text/x-python",
   "name": "python",
   "nbconvert_exporter": "python",
   "pygments_lexer": "ipython3",
   "version": "3.6.4"
  }
 },
 "nbformat": 4,
 "nbformat_minor": 2
}
