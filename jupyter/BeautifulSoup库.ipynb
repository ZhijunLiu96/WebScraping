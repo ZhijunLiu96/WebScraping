{
 "cells": [
  {
   "cell_type": "markdown",
   "metadata": {},
   "source": [
    "# BeautifulSoup"
   ]
  },
  {
   "cell_type": "markdown",
   "metadata": {},
   "source": [
    "灵活又方便的网页解析库，处理高效，支持多种解析器。\n",
    "利用它不用编写正则表达式即可方便地实现网页信息的提取。"
   ]
  },
  {
   "cell_type": "code",
   "execution_count": 14,
   "metadata": {},
   "outputs": [
    {
     "name": "stdout",
     "output_type": "stream",
     "text": [
      "推荐\n",
      "<class 'bs4.element.Tag'>\n",
      "<div class=\"cover\">\n",
      "<a href=\"https://book.douban.com/subject/27589516/?icn=index-editionrecommend\" title=\"长长的路 我们慢慢走\">\n",
      "<img alt=\"长长的路 我们慢慢走\" class=\"\" height=\"172px\" src=\"https://img3.doubanio.com/lpic/s29618085.jpg\" width=\"115px\"/>\n",
      "</a>\n",
      "</div>\n",
      "div\n",
      "https://book.douban.com/subject/27589516/?icn=index-editionrecommend\n",
      "https://book.douban.com/subject/27589516/?icn=index-editionrecommend\n",
      "a\n"
     ]
    }
   ],
   "source": [
    "from bs4 import BeautifulSoup\n",
    "\n",
    "html='''<li>\n",
    "            <div class=\"cover\">\n",
    "              <a href=\"https://book.douban.com/subject/27589516/?icn=index-editionrecommend\" title=\"长长的路 我们慢慢走\">\n",
    "                <img src=\"https://img3.doubanio.com/lpic/s29618085.jpg\" class=\"\" width=\"115px\" height=\"172px\" alt=\"长长的路 我们慢慢走\">\n",
    "              </a>\n",
    "            </div>\n",
    "                <div class=\"intervenor-info\">\n",
    "                    <img src=\"https://img3.doubanio.com/f/book/ef040178fab1770d60e3f2f12ba4c7aa70714396/pics/book/partner/jd_recommend.png\" class=\"jd-icon\" width=\"16\" height=\"16\"> \n",
    "                    <span>推荐</span>\n",
    "                </div>\n",
    "            <div class=\"info\">\n",
    "              <div class=\"title\">\n",
    "                <a class=\"\" href=\"https://book.douban.com/subject/27589516/?icn=index-editionrecommend\" title=\"长长的路 我们慢慢走\">长长的路 我们慢慢走</a>\n",
    "              </div>\n",
    "              <div class=\"author\">\n",
    "                余光中\n",
    "              </div>\n",
    "        </li>\n",
    "'''\n",
    "soup = BeautifulSoup(html,'lxml')\n",
    "print(soup.span.string) ##获取内容\n",
    "print(type(soup.a))\n",
    "print(soup.div) ##只返回第一个\n",
    "print(soup.div.name) ##获取名称\n",
    "print(soup.a.attrs['href']) ##获取属性\n",
    "print(soup.a['href']) ##获取属性\n",
    "print(soup.div.a.name) ##嵌套选择.string.attrs\n"
   ]
  },
  {
   "cell_type": "markdown",
   "metadata": {},
   "source": [
    "## 子节点与子孙节点"
   ]
  },
  {
   "cell_type": "code",
   "execution_count": 13,
   "metadata": {},
   "outputs": [
    {
     "name": "stdout",
     "output_type": "stream",
     "text": [
      "['\\n', <a href=\"https://book.douban.com/subject/27589516/?icn=index-editionrecommend\" title=\"长长的路 我们慢慢走\">\n",
      "<img alt=\"长长的路 我们慢慢走\" class=\"\" height=\"172px\" src=\"https://img3.doubanio.com/lpic/s29618085.jpg\" width=\"115px\"/>\n",
      "</a>, '\\n']\n",
      "<list_iterator object at 0x000001EC44BE5358>\n",
      "0 \n",
      "\n",
      "1 <a href=\"https://book.douban.com/subject/27589516/?icn=index-editionrecommend\" title=\"长长的路 我们慢慢走\">\n",
      "<img alt=\"长长的路 我们慢慢走\" class=\"\" height=\"172px\" src=\"https://img3.doubanio.com/lpic/s29618085.jpg\" width=\"115px\"/>\n",
      "</a>\n",
      "2 \n",
      "\n",
      "<generator object descendants at 0x000001EC44BD9938>\n",
      "0 \n",
      "\n",
      "1 <div class=\"cover\">\n",
      "<a href=\"https://book.douban.com/subject/27589516/?icn=index-editionrecommend\" title=\"长长的路 我们慢慢走\">\n",
      "<img alt=\"长长的路 我们慢慢走\" class=\"\" height=\"172px\" src=\"https://img3.doubanio.com/lpic/s29618085.jpg\" width=\"115px\"/>\n",
      "</a>\n",
      "</div>\n",
      "2 \n",
      "\n",
      "3 <a href=\"https://book.douban.com/subject/27589516/?icn=index-editionrecommend\" title=\"长长的路 我们慢慢走\">\n",
      "<img alt=\"长长的路 我们慢慢走\" class=\"\" height=\"172px\" src=\"https://img3.doubanio.com/lpic/s29618085.jpg\" width=\"115px\"/>\n",
      "</a>\n",
      "4 \n",
      "\n",
      "5 <img alt=\"长长的路 我们慢慢走\" class=\"\" height=\"172px\" src=\"https://img3.doubanio.com/lpic/s29618085.jpg\" width=\"115px\"/>\n",
      "6 \n",
      "\n",
      "7 \n",
      "\n",
      "8 \n",
      "\n",
      "9 <div class=\"intervenor-info\">\n",
      "<img class=\"jd-icon\" height=\"16\" src=\"https://img3.doubanio.com/f/book/ef040178fab1770d60e3f2f12ba4c7aa70714396/pics/book/partner/jd_recommend.png\" width=\"16\"/>\n",
      "<span>推荐</span>\n",
      "</div>\n",
      "10 \n",
      "\n",
      "11 <img class=\"jd-icon\" height=\"16\" src=\"https://img3.doubanio.com/f/book/ef040178fab1770d60e3f2f12ba4c7aa70714396/pics/book/partner/jd_recommend.png\" width=\"16\"/>\n",
      "12 \n",
      "\n",
      "13 <span>推荐</span>\n",
      "14 推荐\n",
      "15 \n",
      "\n",
      "16 \n",
      "\n",
      "17 <div class=\"info\">\n",
      "<div class=\"title\">\n",
      "<a class=\"\" href=\"https://book.douban.com/subject/27589516/?icn=index-editionrecommend\" title=\"长长的路 我们慢慢走\">长长的路 我们慢慢走</a>\n",
      "</div>\n",
      "<div class=\"author\">\n",
      "                余光中\n",
      "              </div>\n",
      "</div>\n",
      "18 \n",
      "\n",
      "19 <div class=\"title\">\n",
      "<a class=\"\" href=\"https://book.douban.com/subject/27589516/?icn=index-editionrecommend\" title=\"长长的路 我们慢慢走\">长长的路 我们慢慢走</a>\n",
      "</div>\n",
      "20 \n",
      "\n",
      "21 <a class=\"\" href=\"https://book.douban.com/subject/27589516/?icn=index-editionrecommend\" title=\"长长的路 我们慢慢走\">长长的路 我们慢慢走</a>\n",
      "22 长长的路 我们慢慢走\n",
      "23 \n",
      "\n",
      "24 \n",
      "\n",
      "25 <div class=\"author\">\n",
      "                余光中\n",
      "              </div>\n",
      "26 \n",
      "                余光中\n",
      "              \n",
      "27 \n",
      "\n"
     ]
    }
   ],
   "source": [
    "from bs4 import BeautifulSoup\n",
    "\n",
    "html='''<li>\n",
    "            <div class=\"cover\">\n",
    "              <a href=\"https://book.douban.com/subject/27589516/?icn=index-editionrecommend\" title=\"长长的路 我们慢慢走\">\n",
    "                <img src=\"https://img3.doubanio.com/lpic/s29618085.jpg\" class=\"\" width=\"115px\" height=\"172px\" alt=\"长长的路 我们慢慢走\">\n",
    "              </a>\n",
    "            </div>\n",
    "                <div class=\"intervenor-info\">\n",
    "                    <img src=\"https://img3.doubanio.com/f/book/ef040178fab1770d60e3f2f12ba4c7aa70714396/pics/book/partner/jd_recommend.png\" class=\"jd-icon\" width=\"16\" height=\"16\"> \n",
    "                    <span>推荐</span>\n",
    "                </div>\n",
    "            <div class=\"info\">\n",
    "              <div class=\"title\">\n",
    "                <a class=\"\" href=\"https://book.douban.com/subject/27589516/?icn=index-editionrecommend\" title=\"长长的路 我们慢慢走\">长长的路 我们慢慢走</a>\n",
    "              </div>\n",
    "              <div class=\"author\">\n",
    "                余光中\n",
    "              </div>\n",
    "        </li>\n",
    "'''\n",
    "\n",
    "soup = BeautifulSoup(html,'lxml')\n",
    "print(soup.div.contents) ##子节点和子孙节点\n",
    "\n",
    "print(soup.div.children)\n",
    "for i,child in enumerate(soup.div.children):\n",
    "    print(i,child)\n",
    "\n",
    "print(soup.li.descendants)\n",
    "for i,child in enumerate(soup.li.descendants):\n",
    "    print(i,child)\n",
    "    \n"
   ]
  },
  {
   "cell_type": "markdown",
   "metadata": {},
   "source": [
    "## 父节点与祖先节点"
   ]
  },
  {
   "cell_type": "code",
   "execution_count": 16,
   "metadata": {},
   "outputs": [
    {
     "name": "stdout",
     "output_type": "stream",
     "text": [
      "<li>\n",
      "<div class=\"cover\">\n",
      "<a href=\"https://book.douban.com/subject/27589516/?icn=index-editionrecommend\" title=\"长长的路 我们慢慢走\">\n",
      "<img alt=\"长长的路 我们慢慢走\" class=\"\" height=\"172px\" src=\"https://img3.doubanio.com/lpic/s29618085.jpg\" width=\"115px\"/>\n",
      "</a>\n",
      "</div>\n",
      "<div class=\"intervenor-info\">\n",
      "<img class=\"jd-icon\" height=\"16\" src=\"https://img3.doubanio.com/f/book/ef040178fab1770d60e3f2f12ba4c7aa70714396/pics/book/partner/jd_recommend.png\" width=\"16\"/>\n",
      "<span>推荐</span>\n",
      "</div>\n",
      "<div class=\"info\">\n",
      "<div class=\"title\">\n",
      "<a class=\"\" href=\"https://book.douban.com/subject/27589516/?icn=index-editionrecommend\" title=\"长长的路 我们慢慢走\">长长的路 我们慢慢走</a>\n",
      "</div>\n",
      "<div class=\"author\">\n",
      "                余光中\n",
      "              </div>\n",
      "</div></li>\n",
      "[(0, <div class=\"cover\">\n",
      "<a href=\"https://book.douban.com/subject/27589516/?icn=index-editionrecommend\" title=\"长长的路 我们慢慢走\">\n",
      "<img alt=\"长长的路 我们慢慢走\" class=\"\" height=\"172px\" src=\"https://img3.doubanio.com/lpic/s29618085.jpg\" width=\"115px\"/>\n",
      "</a>\n",
      "</div>), (1, <li>\n",
      "<div class=\"cover\">\n",
      "<a href=\"https://book.douban.com/subject/27589516/?icn=index-editionrecommend\" title=\"长长的路 我们慢慢走\">\n",
      "<img alt=\"长长的路 我们慢慢走\" class=\"\" height=\"172px\" src=\"https://img3.doubanio.com/lpic/s29618085.jpg\" width=\"115px\"/>\n",
      "</a>\n",
      "</div>\n",
      "<div class=\"intervenor-info\">\n",
      "<img class=\"jd-icon\" height=\"16\" src=\"https://img3.doubanio.com/f/book/ef040178fab1770d60e3f2f12ba4c7aa70714396/pics/book/partner/jd_recommend.png\" width=\"16\"/>\n",
      "<span>推荐</span>\n",
      "</div>\n",
      "<div class=\"info\">\n",
      "<div class=\"title\">\n",
      "<a class=\"\" href=\"https://book.douban.com/subject/27589516/?icn=index-editionrecommend\" title=\"长长的路 我们慢慢走\">长长的路 我们慢慢走</a>\n",
      "</div>\n",
      "<div class=\"author\">\n",
      "                余光中\n",
      "              </div>\n",
      "</div></li>), (2, <body><li>\n",
      "<div class=\"cover\">\n",
      "<a href=\"https://book.douban.com/subject/27589516/?icn=index-editionrecommend\" title=\"长长的路 我们慢慢走\">\n",
      "<img alt=\"长长的路 我们慢慢走\" class=\"\" height=\"172px\" src=\"https://img3.doubanio.com/lpic/s29618085.jpg\" width=\"115px\"/>\n",
      "</a>\n",
      "</div>\n",
      "<div class=\"intervenor-info\">\n",
      "<img class=\"jd-icon\" height=\"16\" src=\"https://img3.doubanio.com/f/book/ef040178fab1770d60e3f2f12ba4c7aa70714396/pics/book/partner/jd_recommend.png\" width=\"16\"/>\n",
      "<span>推荐</span>\n",
      "</div>\n",
      "<div class=\"info\">\n",
      "<div class=\"title\">\n",
      "<a class=\"\" href=\"https://book.douban.com/subject/27589516/?icn=index-editionrecommend\" title=\"长长的路 我们慢慢走\">长长的路 我们慢慢走</a>\n",
      "</div>\n",
      "<div class=\"author\">\n",
      "                余光中\n",
      "              </div>\n",
      "</div></li></body>), (3, <html><body><li>\n",
      "<div class=\"cover\">\n",
      "<a href=\"https://book.douban.com/subject/27589516/?icn=index-editionrecommend\" title=\"长长的路 我们慢慢走\">\n",
      "<img alt=\"长长的路 我们慢慢走\" class=\"\" height=\"172px\" src=\"https://img3.doubanio.com/lpic/s29618085.jpg\" width=\"115px\"/>\n",
      "</a>\n",
      "</div>\n",
      "<div class=\"intervenor-info\">\n",
      "<img class=\"jd-icon\" height=\"16\" src=\"https://img3.doubanio.com/f/book/ef040178fab1770d60e3f2f12ba4c7aa70714396/pics/book/partner/jd_recommend.png\" width=\"16\"/>\n",
      "<span>推荐</span>\n",
      "</div>\n",
      "<div class=\"info\">\n",
      "<div class=\"title\">\n",
      "<a class=\"\" href=\"https://book.douban.com/subject/27589516/?icn=index-editionrecommend\" title=\"长长的路 我们慢慢走\">长长的路 我们慢慢走</a>\n",
      "</div>\n",
      "<div class=\"author\">\n",
      "                余光中\n",
      "              </div>\n",
      "</div></li></body></html>), (4, <html><body><li>\n",
      "<div class=\"cover\">\n",
      "<a href=\"https://book.douban.com/subject/27589516/?icn=index-editionrecommend\" title=\"长长的路 我们慢慢走\">\n",
      "<img alt=\"长长的路 我们慢慢走\" class=\"\" height=\"172px\" src=\"https://img3.doubanio.com/lpic/s29618085.jpg\" width=\"115px\"/>\n",
      "</a>\n",
      "</div>\n",
      "<div class=\"intervenor-info\">\n",
      "<img class=\"jd-icon\" height=\"16\" src=\"https://img3.doubanio.com/f/book/ef040178fab1770d60e3f2f12ba4c7aa70714396/pics/book/partner/jd_recommend.png\" width=\"16\"/>\n",
      "<span>推荐</span>\n",
      "</div>\n",
      "<div class=\"info\">\n",
      "<div class=\"title\">\n",
      "<a class=\"\" href=\"https://book.douban.com/subject/27589516/?icn=index-editionrecommend\" title=\"长长的路 我们慢慢走\">长长的路 我们慢慢走</a>\n",
      "</div>\n",
      "<div class=\"author\">\n",
      "                余光中\n",
      "              </div>\n",
      "</div></li></body></html>)]\n"
     ]
    }
   ],
   "source": [
    "from bs4 import BeautifulSoup\n",
    "\n",
    "html='''<li>\n",
    "            <div class=\"cover\">\n",
    "              <a href=\"https://book.douban.com/subject/27589516/?icn=index-editionrecommend\" title=\"长长的路 我们慢慢走\">\n",
    "                <img src=\"https://img3.doubanio.com/lpic/s29618085.jpg\" class=\"\" width=\"115px\" height=\"172px\" alt=\"长长的路 我们慢慢走\">\n",
    "              </a>\n",
    "            </div>\n",
    "                <div class=\"intervenor-info\">\n",
    "                    <img src=\"https://img3.doubanio.com/f/book/ef040178fab1770d60e3f2f12ba4c7aa70714396/pics/book/partner/jd_recommend.png\" class=\"jd-icon\" width=\"16\" height=\"16\"> \n",
    "                    <span>推荐</span>\n",
    "                </div>\n",
    "            <div class=\"info\">\n",
    "              <div class=\"title\">\n",
    "                <a class=\"\" href=\"https://book.douban.com/subject/27589516/?icn=index-editionrecommend\" title=\"长长的路 我们慢慢走\">长长的路 我们慢慢走</a>\n",
    "              </div>\n",
    "              <div class=\"author\">\n",
    "                余光中\n",
    "              </div>\n",
    "        </li>\n",
    "'''\n",
    "soup = BeautifulSoup(html,'lxml')\n",
    "print(soup.div.parent) ##父节点\n",
    "\n",
    "print(list(enumerate(soup.a.parents)))"
   ]
  },
  {
   "cell_type": "markdown",
   "metadata": {},
   "source": [
    "## 兄弟节点"
   ]
  },
  {
   "cell_type": "code",
   "execution_count": 21,
   "metadata": {},
   "outputs": [
    {
     "name": "stdout",
     "output_type": "stream",
     "text": [
      "[(0, '              推荐\\n            ')]\n",
      "[(0, '\\n              推荐\\n              ')]\n"
     ]
    }
   ],
   "source": [
    "from bs4 import BeautifulSoup\n",
    "\n",
    "html='''<li>\n",
    "            <div class=\"cover\">\n",
    "              推荐\n",
    "              <a href=\"https://book.douban.com/subject/27589516/?icn=index-editionrecommend\" title=\"长长的路 我们慢慢走\">\n",
    "                <img src=\"https://img3.doubanio.com/lpic/s29618085.jpg\" class=\"\" width=\"115px\" height=\"172px\" alt=\"长长的路 我们慢慢走\">\n",
    "              </a>\\\n",
    "              推荐\n",
    "            </div>\n",
    "                <div class=\"intervenor-info\">\n",
    "                    <img src=\"https://img3.doubanio.com/f/book/ef040178fab1770d60e3f2f12ba4c7aa70714396/pics/book/partner/jd_recommend.png\" class=\"jd-icon\" width=\"16\" height=\"16\"> \n",
    "                    <span>推荐</span>\n",
    "                </div>\n",
    "            <div class=\"info\">\n",
    "              <div class=\"title\">\n",
    "                <a class=\"\" href=\"https://book.douban.com/subject/27589516/?icn=index-editionrecommend\" title=\"长长的路 我们慢慢走\">长长的路 我们慢慢走</a>\n",
    "              </div>\n",
    "              <div class=\"author\">\n",
    "                余光中\n",
    "              </div>\n",
    "        </li>\n",
    "'''\n",
    "soup = BeautifulSoup(html,'lxml')\n",
    "print(list(enumerate(soup.a.next_siblings)))\n",
    "print(list(enumerate(soup.a.previous_siblings)))"
   ]
  },
  {
   "cell_type": "markdown",
   "metadata": {},
   "source": [
    "## 标准选择器"
   ]
  },
  {
   "cell_type": "markdown",
   "metadata": {},
   "source": [
    "### find_all(name,attrs,recursive,text,**kwargs)"
   ]
  },
  {
   "cell_type": "markdown",
   "metadata": {},
   "source": [
    "可根据标签名、属性、内容查找文档"
   ]
  },
  {
   "cell_type": "code",
   "execution_count": 1,
   "metadata": {},
   "outputs": [
    {
     "name": "stdout",
     "output_type": "stream",
     "text": [
      "[<div class=\"cover\">\n",
      "              推荐\n",
      "              <a href=\"https://book.douban.com/subject/27589516/?icn=index-editionrecommend\" title=\"长长的路 我们慢慢走\">\n",
      "<img alt=\"长长的路 我们慢慢走\" class=\"\" height=\"172px\" src=\"https://img3.doubanio.com/lpic/s29618085.jpg\" width=\"115px\"/>\n",
      "</a>              推荐\n",
      "            </div>, <div class=\"intervenor-info\">\n",
      "<img class=\"jd-icon\" height=\"16\" src=\"https://img3.doubanio.com/f/book/ef040178fab1770d60e3f2f12ba4c7aa70714396/pics/book/partner/jd_recommend.png\" width=\"16\"/>\n",
      "<span>推荐</span>\n",
      "</div>, <div class=\"info\">\n",
      "<div class=\"title\">\n",
      "<a class=\"\" href=\"https://book.douban.com/subject/27589516/?icn=index-editionrecommend\" title=\"长长的路 我们慢慢走\">长长的路 我们慢慢走</a>\n",
      "</div>\n",
      "<div class=\"author\">\n",
      "                余光中\n",
      "              </div>\n",
      "</div>, <div class=\"title\">\n",
      "<a class=\"\" href=\"https://book.douban.com/subject/27589516/?icn=index-editionrecommend\" title=\"长长的路 我们慢慢走\">长长的路 我们慢慢走</a>\n",
      "</div>, <div class=\"author\">\n",
      "                余光中\n",
      "              </div>]\n",
      "<class 'bs4.element.Tag'>\n",
      "[<a href=\"https://book.douban.com/subject/27589516/?icn=index-editionrecommend\" title=\"长长的路 我们慢慢走\">\n",
      "<img alt=\"长长的路 我们慢慢走\" class=\"\" height=\"172px\" src=\"https://img3.doubanio.com/lpic/s29618085.jpg\" width=\"115px\"/>\n",
      "</a>]\n",
      "[]\n",
      "[<a class=\"\" href=\"https://book.douban.com/subject/27589516/?icn=index-editionrecommend\" title=\"长长的路 我们慢慢走\">长长的路 我们慢慢走</a>]\n",
      "[<a class=\"\" href=\"https://book.douban.com/subject/27589516/?icn=index-editionrecommend\" title=\"长长的路 我们慢慢走\">长长的路 我们慢慢走</a>]\n",
      "[]\n"
     ]
    }
   ],
   "source": [
    "from bs4 import BeautifulSoup\n",
    "\n",
    "html='''<li>\n",
    "            <div class=\"cover\">\n",
    "              推荐\n",
    "              <a href=\"https://book.douban.com/subject/27589516/?icn=index-editionrecommend\" title=\"长长的路 我们慢慢走\">\n",
    "                <img src=\"https://img3.doubanio.com/lpic/s29618085.jpg\" class=\"\" width=\"115px\" height=\"172px\" alt=\"长长的路 我们慢慢走\">\n",
    "              </a>\\\n",
    "              推荐\n",
    "            </div>\n",
    "                <div class=\"intervenor-info\">\n",
    "                    <img src=\"https://img3.doubanio.com/f/book/ef040178fab1770d60e3f2f12ba4c7aa70714396/pics/book/partner/jd_recommend.png\" class=\"jd-icon\" width=\"16\" height=\"16\"> \n",
    "                    <span>推荐</span>\n",
    "                </div>\n",
    "            <div class=\"info\">\n",
    "              <div class=\"title\">\n",
    "                <a class=\"\" href=\"https://book.douban.com/subject/27589516/?icn=index-editionrecommend\" title=\"长长的路 我们慢慢走\">长长的路 我们慢慢走</a>\n",
    "              </div>\n",
    "              <div class=\"author\">\n",
    "                余光中\n",
    "              </div>\n",
    "        </li>\n",
    "'''\n",
    "soup = BeautifulSoup(html,'lxml')\n",
    "print(soup.find_all('div'))##name\n",
    "print(type(soup.find_all('div')[0]))\n",
    "for div in soup.find_all('div'):\n",
    "    print(div.find_all('a'))"
   ]
  },
  {
   "cell_type": "markdown",
   "metadata": {},
   "source": [
    "### attrs"
   ]
  },
  {
   "cell_type": "code",
   "execution_count": 9,
   "metadata": {},
   "outputs": [
    {
     "name": "stdout",
     "output_type": "stream",
     "text": [
      "[<a href=\"https://book.douban.com/subject/27589516/?icn=index-editionrecommend\" id=\"list1\" name=\"123\" title=\"长长的路 我们慢慢走\">\n",
      "<img alt=\"长长的路 我们慢慢走\" class=\"\" height=\"172px\" src=\"https://img3.doubanio.com/lpic/s29618085.jpg\" width=\"115px\"/>\n",
      "</a>]\n",
      "[<a href=\"https://book.douban.com/subject/27589516/?icn=index-editionrecommend\" id=\"list1\" name=\"123\" title=\"长长的路 我们慢慢走\">\n",
      "<img alt=\"长长的路 我们慢慢走\" class=\"\" height=\"172px\" src=\"https://img3.doubanio.com/lpic/s29618085.jpg\" width=\"115px\"/>\n",
      "</a>]\n",
      "[<div class=\"cover\">\n",
      "              推荐\n",
      "              <a href=\"https://book.douban.com/subject/27589516/?icn=index-editionrecommend\" id=\"list1\" name=\"123\" title=\"长长的路 我们慢慢走\">\n",
      "<img alt=\"长长的路 我们慢慢走\" class=\"\" height=\"172px\" src=\"https://img3.doubanio.com/lpic/s29618085.jpg\" width=\"115px\"/>\n",
      "</a>              推荐\n",
      "            </div>]\n"
     ]
    }
   ],
   "source": [
    "from bs4 import BeautifulSoup\n",
    "\n",
    "html='''<li>\n",
    "            <div class=\"cover\">\n",
    "              推荐\n",
    "              <a id=\"list1\" name=\"123\" href=\"https://book.douban.com/subject/27589516/?icn=index-editionrecommend\" title=\"长长的路 我们慢慢走\">\n",
    "                <img src=\"https://img3.doubanio.com/lpic/s29618085.jpg\" class=\"\" width=\"115px\" height=\"172px\" alt=\"长长的路 我们慢慢走\">\n",
    "              </a>\\\n",
    "              推荐\n",
    "            </div>\n",
    "                <div class=\"intervenor-info\">\n",
    "                    <img src=\"https://img3.doubanio.com/f/book/ef040178fab1770d60e3f2f12ba4c7aa70714396/pics/book/partner/jd_recommend.png\" class=\"jd-icon\" width=\"16\" height=\"16\"> \n",
    "                    <span>推荐</span>\n",
    "                </div>\n",
    "            <div class=\"info\">\n",
    "              <div class=\"title\">\n",
    "                <a class=\"\" href=\"https://book.douban.com/subject/27589516/?icn=index-editionrecommend\" title=\"长长的路 我们慢慢走\">长长的路 我们慢慢走</a>\n",
    "              </div>\n",
    "              <div class=\"author\">\n",
    "                余光中\n",
    "              </div>\n",
    "        </li>\n",
    "'''\n",
    "soup = BeautifulSoup(html,'lxml')\n",
    "print(soup.find_all(attrs={'id':'list1'}))\n",
    "print(soup.find_all(id='list1'))\n",
    "print(soup.find_all(class_=\"cover\")) ##加个下划线避免报错"
   ]
  },
  {
   "cell_type": "markdown",
   "metadata": {},
   "source": [
    "### text"
   ]
  },
  {
   "cell_type": "code",
   "execution_count": 10,
   "metadata": {},
   "outputs": [
    {
     "name": "stdout",
     "output_type": "stream",
     "text": [
      "['推荐']\n"
     ]
    }
   ],
   "source": [
    "from bs4 import BeautifulSoup\n",
    "\n",
    "html='''<li>\n",
    "            <div class=\"cover\">\n",
    "              推荐\n",
    "              <a id=\"list1\" name=\"123\" href=\"https://book.douban.com/subject/27589516/?icn=index-editionrecommend\" title=\"长长的路 我们慢慢走\">\n",
    "                <img src=\"https://img3.doubanio.com/lpic/s29618085.jpg\" class=\"\" width=\"115px\" height=\"172px\" alt=\"长长的路 我们慢慢走\">\n",
    "              </a>\\\n",
    "              推荐\n",
    "            </div>\n",
    "                <div class=\"intervenor-info\">\n",
    "                    <img src=\"https://img3.doubanio.com/f/book/ef040178fab1770d60e3f2f12ba4c7aa70714396/pics/book/partner/jd_recommend.png\" class=\"jd-icon\" width=\"16\" height=\"16\"> \n",
    "                    <span>推荐</span>\n",
    "                </div>\n",
    "            <div class=\"info\">\n",
    "              <div class=\"title\">\n",
    "                <a class=\"\" href=\"https://book.douban.com/subject/27589516/?icn=index-editionrecommend\" title=\"长长的路 我们慢慢走\">长长的路 我们慢慢走</a>\n",
    "              </div>\n",
    "              <div class=\"author\">\n",
    "                余光中\n",
    "              </div>\n",
    "        </li>\n",
    "'''\n",
    "soup = BeautifulSoup(html,'lxml')\n",
    "\n",
    "print(soup.find_all(text='推荐'))"
   ]
  },
  {
   "cell_type": "markdown",
   "metadata": {},
   "source": [
    "### find(name,attrs,recursive,text,**kwargs)"
   ]
  },
  {
   "cell_type": "markdown",
   "metadata": {},
   "source": [
    "find返回单个元素，find_all返回所有元素"
   ]
  },
  {
   "cell_type": "code",
   "execution_count": 11,
   "metadata": {},
   "outputs": [
    {
     "name": "stdout",
     "output_type": "stream",
     "text": [
      "<div class=\"cover\">\n",
      "              推荐\n",
      "              <a href=\"https://book.douban.com/subject/27589516/?icn=index-editionrecommend\" title=\"长长的路 我们慢慢走\">\n",
      "<img alt=\"长长的路 我们慢慢走\" class=\"\" height=\"172px\" src=\"https://img3.doubanio.com/lpic/s29618085.jpg\" width=\"115px\"/>\n",
      "</a>              推荐\n",
      "            </div>\n",
      "<class 'bs4.element.Tag'>\n"
     ]
    }
   ],
   "source": [
    "from bs4 import BeautifulSoup\n",
    "\n",
    "html='''<li>\n",
    "            <div class=\"cover\">\n",
    "              推荐\n",
    "              <a href=\"https://book.douban.com/subject/27589516/?icn=index-editionrecommend\" title=\"长长的路 我们慢慢走\">\n",
    "                <img src=\"https://img3.doubanio.com/lpic/s29618085.jpg\" class=\"\" width=\"115px\" height=\"172px\" alt=\"长长的路 我们慢慢走\">\n",
    "              </a>\\\n",
    "              推荐\n",
    "            </div>\n",
    "                <div class=\"intervenor-info\">\n",
    "                    <img src=\"https://img3.doubanio.com/f/book/ef040178fab1770d60e3f2f12ba4c7aa70714396/pics/book/partner/jd_recommend.png\" class=\"jd-icon\" width=\"16\" height=\"16\"> \n",
    "                    <span>推荐</span>\n",
    "                </div>\n",
    "            <div class=\"info\">\n",
    "              <div class=\"title\">\n",
    "                <a class=\"\" href=\"https://book.douban.com/subject/27589516/?icn=index-editionrecommend\" title=\"长长的路 我们慢慢走\">长长的路 我们慢慢走</a>\n",
    "              </div>\n",
    "              <div class=\"author\">\n",
    "                余光中\n",
    "              </div>\n",
    "        </li>\n",
    "'''\n",
    "soup = BeautifulSoup(html,'lxml')\n",
    "print(soup.find('div'))##name\n",
    "print(type(soup.find('div')))"
   ]
  },
  {
   "cell_type": "markdown",
   "metadata": {},
   "source": [
    "### find_parents() find_parent()"
   ]
  },
  {
   "cell_type": "markdown",
   "metadata": {},
   "source": [
    "find.parents()返回所有祖孙节点，find.parent()返回直接父节点"
   ]
  },
  {
   "cell_type": "markdown",
   "metadata": {},
   "source": [
    "### find_next(previous)_siblings()  find_next(previous)_sibling()"
   ]
  },
  {
   "cell_type": "markdown",
   "metadata": {},
   "source": [
    "返回所有和返回一个"
   ]
  },
  {
   "cell_type": "markdown",
   "metadata": {},
   "source": [
    "### find_all_next(previous)()  find_next(previous)()"
   ]
  },
  {
   "cell_type": "markdown",
   "metadata": {},
   "source": [
    "## CSS选择器"
   ]
  },
  {
   "cell_type": "markdown",
   "metadata": {},
   "source": [
    "通过select()直接传入CSS选择器即可完成选择"
   ]
  },
  {
   "cell_type": "code",
   "execution_count": 1,
   "metadata": {},
   "outputs": [
    {
     "ename": "SyntaxError",
     "evalue": "invalid syntax (<ipython-input-1-ebb3d3d0bdf8>, line 2)",
     "output_type": "error",
     "traceback": [
      "\u001b[1;36m  File \u001b[1;32m\"<ipython-input-1-ebb3d3d0bdf8>\"\u001b[1;36m, line \u001b[1;32m2\u001b[0m\n\u001b[1;33m    print(soup.select(ul li)) ##标签\u001b[0m\n\u001b[1;37m                          ^\u001b[0m\n\u001b[1;31mSyntaxError\u001b[0m\u001b[1;31m:\u001b[0m invalid syntax\n"
     ]
    }
   ],
   "source": [
    "print(soup.select('.panel .panel-heading')) #class后边的\n",
    "print(soup.select(ul li)) ##标签\n",
    "print(soup.select('#list2 .element')) #id位list2，class为element"
   ]
  },
  {
   "cell_type": "markdown",
   "metadata": {},
   "source": [
    "### 获取属性"
   ]
  },
  {
   "cell_type": "code",
   "execution_count": null,
   "metadata": {},
   "outputs": [],
   "source": [
    "for ul in soup.select('ul'):\n",
    "    print(ul['id'])\n",
    "    print(ul.attrs['id'])"
   ]
  },
  {
   "cell_type": "markdown",
   "metadata": {},
   "source": [
    "### 获取内容"
   ]
  },
  {
   "cell_type": "code",
   "execution_count": null,
   "metadata": {},
   "outputs": [],
   "source": [
    "for li in soup.select('li'):\n",
    "    print(li.get_text())"
   ]
  },
  {
   "cell_type": "code",
   "execution_count": null,
   "metadata": {},
   "outputs": [],
   "source": []
  }
 ],
 "metadata": {
  "kernelspec": {
   "display_name": "Python 3",
   "language": "python",
   "name": "python3"
  },
  "language_info": {
   "codemirror_mode": {
    "name": "ipython",
    "version": 3
   },
   "file_extension": ".py",
   "mimetype": "text/x-python",
   "name": "python",
   "nbconvert_exporter": "python",
   "pygments_lexer": "ipython3",
   "version": "3.6.4"
  }
 },
 "nbformat": 4,
 "nbformat_minor": 2
}
