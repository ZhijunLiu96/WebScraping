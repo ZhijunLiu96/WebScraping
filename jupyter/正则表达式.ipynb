{
 "cells": [
  {
   "cell_type": "markdown",
   "metadata": {},
   "source": [
    "### re.match"
   ]
  },
  {
   "cell_type": "markdown",
   "metadata": {},
   "source": [
    "re.match(pattern,string,flags=0)"
   ]
  },
  {
   "cell_type": "markdown",
   "metadata": {},
   "source": [
    "### 最常规的匹配"
   ]
  },
  {
   "cell_type": "code",
   "execution_count": 1,
   "metadata": {},
   "outputs": [
    {
     "name": "stdout",
     "output_type": "stream",
     "text": [
      "41\n",
      "<_sre.SRE_Match object; span=(0, 41), match='Hello 123 4567 World_This is a Regex Demo'>\n",
      "Hello 123 4567 World_This is a Regex Demo\n",
      "(0, 41)\n"
     ]
    }
   ],
   "source": [
    "import re\n",
    "\n",
    "content='Hello 123 4567 World_This is a Regex Demo'\n",
    "print(len(content))\n",
    "result=re.match('^Hello\\s\\d\\d\\d\\s\\d{4}\\s\\w{10}.*Demo$',content)\n",
    "print(result)\n",
    "print(result.group())\n",
    "print(result.span())"
   ]
  },
  {
   "cell_type": "markdown",
   "metadata": {},
   "source": [
    "### 范匹配"
   ]
  },
  {
   "cell_type": "code",
   "execution_count": 2,
   "metadata": {
    "scrolled": true
   },
   "outputs": [
    {
     "name": "stdout",
     "output_type": "stream",
     "text": [
      "<_sre.SRE_Match object; span=(0, 41), match='Hello 123 4567 World_This is a Regex Demo'>\n",
      "Hello 123 4567 World_This is a Regex Demo\n",
      "(0, 41)\n"
     ]
    }
   ],
   "source": [
    "import re\n",
    "\n",
    "content='Hello 123 4567 World_This is a Regex Demo'\n",
    "result=re.match('^Hello.*Demo$',content)\n",
    "print(result)\n",
    "print(result.group())\n",
    "print(result.span())"
   ]
  },
  {
   "cell_type": "markdown",
   "metadata": {},
   "source": [
    "### 匹配目标"
   ]
  },
  {
   "cell_type": "code",
   "execution_count": 4,
   "metadata": {},
   "outputs": [
    {
     "name": "stdout",
     "output_type": "stream",
     "text": [
      "<_sre.SRE_Match object; span=(0, 40), match='Hello 1234567 World_This is a Regex Demo'>\n",
      "Hello 1234567 World_This is a Regex Demo\n",
      "1234567\n",
      "(0, 40)\n"
     ]
    }
   ],
   "source": [
    "import re\n",
    "\n",
    "content='Hello 1234567 World_This is a Regex Demo'\n",
    "result=re.match('^Hello\\s(\\d+)\\s.*Demo$', content)\n",
    "print(result)\n",
    "print(result.group())\n",
    "print(result.group(1))\n",
    "print(result.span())"
   ]
  },
  {
   "cell_type": "markdown",
   "metadata": {},
   "source": [
    "### 贪婪匹配"
   ]
  },
  {
   "cell_type": "code",
   "execution_count": 5,
   "metadata": {},
   "outputs": [
    {
     "name": "stdout",
     "output_type": "stream",
     "text": [
      "<_sre.SRE_Match object; span=(0, 40), match='Hello 1234567 World_This is a Regex Demo'>\n",
      "7\n",
      "(0, 40)\n"
     ]
    }
   ],
   "source": [
    "import re\n",
    "\n",
    "content='Hello 1234567 World_This is a Regex Demo'\n",
    "result=re.match('^He.*(\\d+).*Demo$', content)\n",
    "print(result)\n",
    "print(result.group(1))\n",
    "print(result.span())"
   ]
  },
  {
   "cell_type": "markdown",
   "metadata": {},
   "source": [
    "### 非贪婪匹配"
   ]
  },
  {
   "cell_type": "code",
   "execution_count": 6,
   "metadata": {},
   "outputs": [
    {
     "name": "stdout",
     "output_type": "stream",
     "text": [
      "<_sre.SRE_Match object; span=(0, 40), match='Hello 1234567 World_This is a Regex Demo'>\n",
      "1234567\n",
      "(0, 40)\n"
     ]
    }
   ],
   "source": [
    "import re\n",
    "\n",
    "content='Hello 1234567 World_This is a Regex Demo'\n",
    "result=re.match('^He.*?(\\d+).*Demo$', content)\n",
    "print(result)\n",
    "print(result.group(1))\n",
    "print(result.span())"
   ]
  },
  {
   "cell_type": "markdown",
   "metadata": {},
   "source": [
    "### 匹配模式（换行符不能用.代替）"
   ]
  },
  {
   "cell_type": "code",
   "execution_count": 12,
   "metadata": {},
   "outputs": [
    {
     "name": "stdout",
     "output_type": "stream",
     "text": [
      "<_sre.SRE_Match object; span=(0, 41), match='Hello 1234567 World_This \\nis a Regex Demo'>\n",
      "1234567\n",
      "(0, 41)\n"
     ]
    }
   ],
   "source": [
    "import re\n",
    "\n",
    "content='''Hello 1234567 World_This \n",
    "is a Regex Demo\n",
    "'''\n",
    "result=re.match('^He.*?(\\d+).*?Demo$', content, re.S)\n",
    "print(result)\n",
    "print(result.group(1))\n",
    "print(result.span())"
   ]
  },
  {
   "cell_type": "markdown",
   "metadata": {},
   "source": [
    "### 转义"
   ]
  },
  {
   "cell_type": "code",
   "execution_count": 13,
   "metadata": {},
   "outputs": [
    {
     "name": "stdout",
     "output_type": "stream",
     "text": [
      "None\n"
     ]
    }
   ],
   "source": [
    "import re\n",
    "\n",
    "content = 'price is $5.00'\n",
    "result= re.match('price is $5.00',content)\n",
    "print(result)"
   ]
  },
  {
   "cell_type": "code",
   "execution_count": 14,
   "metadata": {},
   "outputs": [
    {
     "name": "stdout",
     "output_type": "stream",
     "text": [
      "<_sre.SRE_Match object; span=(0, 14), match='price is $5.00'>\n"
     ]
    }
   ],
   "source": [
    "import re\n",
    "\n",
    "content = 'price is $5.00'\n",
    "result= re.match('price is \\$5\\.00',content)\n",
    "print(result)"
   ]
  },
  {
   "cell_type": "markdown",
   "metadata": {},
   "source": [
    "总结：尽量使用范匹配、使用括号得到匹配目标、尽量使用非贪婪模式、有换行符就用re.S"
   ]
  },
  {
   "cell_type": "markdown",
   "metadata": {},
   "source": [
    "### re.search"
   ]
  },
  {
   "cell_type": "markdown",
   "metadata": {},
   "source": [
    "re.search扫描整个字符串并返回第一个成功的匹配"
   ]
  },
  {
   "cell_type": "code",
   "execution_count": 15,
   "metadata": {},
   "outputs": [
    {
     "name": "stdout",
     "output_type": "stream",
     "text": [
      "None\n"
     ]
    }
   ],
   "source": [
    "import re\n",
    "\n",
    "content='Extra strings Hello 1234567 world_This is a Regex Demo Extra stings'\n",
    "result=re.match('Hello.*?(\\d+).*?Demo', content)\n",
    "print(result)"
   ]
  },
  {
   "cell_type": "code",
   "execution_count": 16,
   "metadata": {},
   "outputs": [
    {
     "name": "stdout",
     "output_type": "stream",
     "text": [
      "<_sre.SRE_Match object; span=(14, 54), match='Hello 1234567 world_This is a Regex Demo'>\n"
     ]
    }
   ],
   "source": [
    "import re\n",
    "\n",
    "content='Extra strings Hello 1234567 world_This is a Regex Demo Extra stings'\n",
    "result=re.search('Hello.*?(\\d+).*?Demo', content)\n",
    "print(result)"
   ]
  },
  {
   "cell_type": "markdown",
   "metadata": {},
   "source": [
    "总结：为匹配方便，能用search不用match"
   ]
  },
  {
   "cell_type": "markdown",
   "metadata": {},
   "source": [
    "### 匹配演练"
   ]
  },
  {
   "cell_type": "code",
   "execution_count": 23,
   "metadata": {},
   "outputs": [
    {
     "name": "stdout",
     "output_type": "stream",
     "text": [
      "indienova选出的2017十大独立游戏\n"
     ]
    }
   ],
   "source": [
    "import re\n",
    "\n",
    "html='''<div class=\"recommend-feed feed-item\">\n",
    "<span class=\"zg-right zg-gray-normal feed-meta\">indienova 独立游戏</span>\n",
    "<h2><a class=\"post-link\" target=\"_blank\" href=\"https://zhuanlan.zhihu.com/p/32336267\" data-za-element-name=\"Title\">indienova选出的2017十大独立游戏</a></h2>\n",
    "</div>\n",
    "\n",
    "<div class=\"recommend-feed feed-item\">\n",
    "<span class=\"zg-right zg-gray-normal feed-meta\">问答</span>\n",
    "<h2><a class=\"question_link\" href=\"/question/264982351/answer/288916910\" target=\"_blank\" data-id=\"20424165\" data-za-element-name=\"Title\">\n",
    "氢键是否可以看作分子间作用力（范德华力）向化学键的过渡？\n",
    "</a></h2>\n",
    "</div>\n",
    "'''\n",
    "result=re.search('<h2.*?element.*?>(.*?)</a>',html,re.S)\n",
    "if result:\n",
    "    print(result.group(1))"
   ]
  },
  {
   "cell_type": "markdown",
   "metadata": {},
   "source": [
    "### re.findall"
   ]
  },
  {
   "cell_type": "markdown",
   "metadata": {},
   "source": [
    "搜索字符串，以列表形式返回全部能匹配的子串"
   ]
  },
  {
   "cell_type": "code",
   "execution_count": 22,
   "metadata": {},
   "outputs": [
    {
     "name": "stdout",
     "output_type": "stream",
     "text": [
      "[('post-link', 'https://zhuanlan.zhihu.com/p/32336267'), ('question_link', '/question/264982351/answer/288916910')]\n",
      "<class 'list'>\n",
      "('post-link', 'https://zhuanlan.zhihu.com/p/32336267')\n",
      "post-link https://zhuanlan.zhihu.com/p/32336267\n",
      "('question_link', '/question/264982351/answer/288916910')\n",
      "question_link /question/264982351/answer/288916910\n"
     ]
    }
   ],
   "source": [
    "import re\n",
    "\n",
    "html='''<div class=\"recommend-feed feed-item\">\n",
    "<span class=\"zg-right zg-gray-normal feed-meta\">indienova 独立游戏</span>\n",
    "<h2><a class=\"post-link\" target=\"_blank\" href=\"https://zhuanlan.zhihu.com/p/32336267\" data-za-element-name=\"Title\">indienova选出的2017十大独立游戏</a></h2>\n",
    "</div>\n",
    "\n",
    "<div class=\"recommend-feed feed-item\">\n",
    "<span class=\"zg-right zg-gray-normal feed-meta\">问答</span>\n",
    "<h2><a class=\"question_link\" href=\"/question/264982351/answer/288916910\" target=\"_blank\" data-id=\"20424165\" data-za-element-name=\"Title\">\n",
    "氢键是否可以看作分子间作用力（范德华力）向化学键的过渡？\n",
    "</a></h2>\n",
    "</div>\n",
    "'''\n",
    "result=re.findall('<h2.*?class=\"(.*?)\".*?href=\"(.*?)\".*?</a>',html,re.S)\n",
    "print(result)\n",
    "print(type(result))\n",
    "for r in result:\n",
    "    print(r)\n",
    "    print(r[0],r[1])"
   ]
  },
  {
   "cell_type": "code",
   "execution_count": 30,
   "metadata": {},
   "outputs": [
    {
     "name": "stdout",
     "output_type": "stream",
     "text": [
      "[('post-link', 'https://zhuanlan.zhihu.com/p/32336267', 'indienova选出的2017十大独立游戏'), ('question_link', '/question/264982351/answer/288916910', '\\n氢键是否可以看作分子间作用力（范德华力）向化学键的过渡？')]\n",
      "indienova选出的2017十大独立游戏\n",
      "\n",
      "氢键是否可以看作分子间作用力（范德华力）向化学键的过渡？\n"
     ]
    }
   ],
   "source": [
    "import re\n",
    "\n",
    "html='''<div class=\"recommend-feed feed-item\">\n",
    "<span class=\"zg-right zg-gray-normal feed-meta\">indienova 独立游戏</span>\n",
    "<h2><a class=\"post-link\" target=\"_blank\" href=\"https://zhuanlan.zhihu.com/p/32336267\" data-za-element-name=\"Title\">indienova选出的2017十大独立游戏</a></h2>\n",
    "</div>\n",
    "\n",
    "<div class=\"recommend-feed feed-item\">\n",
    "<span class=\"zg-right zg-gray-normal feed-meta\">问答</span>\n",
    "<h2><a class=\"question_link\" href=\"/question/264982351/answer/288916910\" target=\"_blank\" data-id=\"20424165\" data-za-element-name=\"Title\">\n",
    "氢键是否可以看作分子间作用力（范德华力）向化学键的过渡？\n",
    "</a></h2>\n",
    "</div>\n",
    "'''\n",
    "result=re.findall('<h2>.*?class=\"(.*?)\".*?href=\"(.*?)\".*?\"Title\">(.*?)\\s*?</a></h2>',html,re.S)\n",
    "print(result)\n",
    "for r in result:\n",
    "    print(r[2])"
   ]
  },
  {
   "cell_type": "markdown",
   "metadata": {},
   "source": [
    "### re.sub"
   ]
  },
  {
   "cell_type": "markdown",
   "metadata": {},
   "source": [
    "替换字符串中每个匹配的子串后返回替换后的字符串"
   ]
  },
  {
   "cell_type": "code",
   "execution_count": 1,
   "metadata": {},
   "outputs": [
    {
     "name": "stdout",
     "output_type": "stream",
     "text": [
      "Extra hello world  extra demo\n"
     ]
    }
   ],
   "source": [
    "import re\n",
    "\n",
    "content='Extra hello world 1234567 extra demo'\n",
    "content=re.sub('\\d+','',content)\n",
    "print(content)"
   ]
  },
  {
   "cell_type": "code",
   "execution_count": 2,
   "metadata": {},
   "outputs": [
    {
     "name": "stdout",
     "output_type": "stream",
     "text": [
      "Extra hello world replacement extra demo\n"
     ]
    }
   ],
   "source": [
    "import re\n",
    "\n",
    "content='Extra hello world 1234567 extra demo'\n",
    "content=re.sub('\\d+','replacement',content)\n",
    "print(content)"
   ]
  },
  {
   "cell_type": "code",
   "execution_count": 3,
   "metadata": {
    "scrolled": true
   },
   "outputs": [
    {
     "name": "stdout",
     "output_type": "stream",
     "text": [
      "Extra hello world 1234567 8910 Extra demo\n"
     ]
    }
   ],
   "source": [
    "import re\n",
    "\n",
    "content='Extra hello world 1234567 Extra demo'\n",
    "content=re.sub('(\\d+)',r'\\1 8910',content)\n",
    "print(content)"
   ]
  },
  {
   "cell_type": "markdown",
   "metadata": {},
   "source": [
    "\\1表示（\\d+）"
   ]
  },
  {
   "cell_type": "code",
   "execution_count": 9,
   "metadata": {},
   "outputs": [
    {
     "name": "stdout",
     "output_type": "stream",
     "text": [
      "<div class=\"recommend-feed feed-item\">\n",
      "<span class=\"zg-right zg-gray-normal feed-meta\">indienova 独立游戏</span>\n",
      "<h2><a class=\"post-link\" target=\"_blank\" href=\"https://zhuanlan.zhihu.com/p/32336267\" data-za-element-name=\"Title\">indienova选出的2017十大独立游戏</a>\n",
      "</div>\n",
      "\n",
      "<div class=\"recommend-feed feed-item\">\n",
      "<span class=\"zg-right zg-gray-normal feed-meta\">问答</span>\n",
      "<h2><a class=\"question_link\" href=\"/question/264982351/answer/288916910\" target=\"_blank\" data-id=\"20424165\" data-za-element-name=\"Title\">\n",
      "氢键是否可以看作分子间作用力（范德华力）向化学键的过渡？\n",
      "</a>\n",
      "</div>\n",
      "\n",
      "['indienova选出的2017十大独立游戏', '\\n氢键是否可以看作分子间作用力（范德华力）向化学键的过渡？']\n",
      "indienova选出的2017十大独立游戏\n",
      "氢键是否可以看作分子间作用力（范德华力）向化学键的过渡？\n"
     ]
    }
   ],
   "source": [
    "import re\n",
    "\n",
    "html='''<div class=\"recommend-feed feed-item\">\n",
    "<span class=\"zg-right zg-gray-normal feed-meta\">indienova 独立游戏</span>\n",
    "<h2><a class=\"post-link\" target=\"_blank\" href=\"https://zhuanlan.zhihu.com/p/32336267\" data-za-element-name=\"Title\">indienova选出的2017十大独立游戏</a></h2>\n",
    "</div>\n",
    "\n",
    "<div class=\"recommend-feed feed-item\">\n",
    "<span class=\"zg-right zg-gray-normal feed-meta\">问答</span>\n",
    "<h2><a class=\"question_link\" href=\"/question/264982351/answer/288916910\" target=\"_blank\" data-id=\"20424165\" data-za-element-name=\"Title\">\n",
    "氢键是否可以看作分子间作用力（范德华力）向化学键的过渡？\n",
    "</a></h2>\n",
    "</div>\n",
    "'''\n",
    "\n",
    "html=re.sub('<h.*？>|</h2>','',html)\n",
    "print(html)\n",
    "result=re.findall('<a.*?class=\".*?\".*?href=\".*?\".*?\"Title\">(.*?)\\s*?</a>',html,re.S)\n",
    "print(result)\n",
    "for r in result:\n",
    "    print(r.strip())"
   ]
  },
  {
   "cell_type": "markdown",
   "metadata": {},
   "source": [
    "### re.compile"
   ]
  },
  {
   "cell_type": "markdown",
   "metadata": {},
   "source": [
    "将一个正则表达式串编译成正则对象，以便于复用该匹配对象"
   ]
  },
  {
   "cell_type": "code",
   "execution_count": 3,
   "metadata": {},
   "outputs": [
    {
     "name": "stdout",
     "output_type": "stream",
     "text": [
      "<_sre.SRE_Match object; span=(0, 41), match='Hello 1234567 World_This \\nis a Regex Demo'>\n"
     ]
    }
   ],
   "source": [
    "import re\n",
    "\n",
    "content= '''Hello 1234567 World_This \n",
    "is a Regex Demo\n",
    "'''\n",
    "pattern = re.compile('Hello.*?Demo',re.S)\n",
    "result1 = re.match(pattern, content)\n",
    "print(result1)"
   ]
  },
  {
   "cell_type": "markdown",
   "metadata": {},
   "source": [
    "### 实战练习"
   ]
  },
  {
   "cell_type": "code",
   "execution_count": null,
   "metadata": {},
   "outputs": [],
   "source": [
    "import requests\n",
    "import re\n",
    "\n",
    "content= requests.get('https://book.douban.com/').text\n",
    "pattern = re.compile('<li.*?cover.*?href=\"(.*?)\".*?title=\"(.*?)\".*?more-meta.*?author\">(.*?)</div>.*?year\">(.*?)</span>.*?</li>',re.S)\n",
    "results=re.findall(pattern,content)\n",
    "print(results)\n",
    "for result in results:\n",
    "    url,name,author,date = result\n",
    "    print(url,name,author,date)"
   ]
  },
  {
   "cell_type": "code",
   "execution_count": 2,
   "metadata": {},
   "outputs": [],
   "source": [
    "import requests\n",
    "import re\n",
    "\n",
    "content= requests.get('https://book.douban.com/').text\n",
    "results=re.search('<li.*?cover.*?title=\"(.*?)\".*?</li>',content,re.S)"
   ]
  },
  {
   "cell_type": "code",
   "execution_count": 1,
   "metadata": {},
   "outputs": [
    {
     "name": "stdout",
     "output_type": "stream",
     "text": [
      "[('https://book.douban.com/subject/27589516/?icn=index-editionrecommend', '长长的路 我们慢慢走', '\\n                    余光中\\n                  ', '\\n                    2017-12-1\\n                  ')]\n"
     ]
    }
   ],
   "source": [
    "html='''<li class=\"\">\n",
    "            <div class=\"cover\">\n",
    "              <a href=\"https://book.douban.com/subject/27589516/?icn=index-editionrecommend\" title=\"长长的路 我们慢慢走\">\n",
    "                <img src=\"https://img3.doubanio.com/lpic/s29618085.jpg\" class=\"\" width=\"115px\" height=\"172px\" alt=\"长长的路 我们慢慢走\">\n",
    "              </a>\n",
    "            </div>\n",
    "                <div class=\"intervenor-info\">\n",
    "                    <img src=\"https://img3.doubanio.com/f/book/ef040178fab1770d60e3f2f12ba4c7aa70714396/pics/book/partner/jd_recommend.png\" class=\"jd-icon\" width=\"16\" height=\"16\"> \n",
    "                    <span>推荐</span>\n",
    "                </div>\n",
    "            <div class=\"info\">\n",
    "              <div class=\"title\">\n",
    "                <a class=\"\" href=\"https://book.douban.com/subject/27589516/?icn=index-editionrecommend\" title=\"长长的路 我们慢慢走\">长长的路 我们慢慢走</a>\n",
    "              </div>\n",
    "              <div class=\"author\">\n",
    "                余光中\n",
    "              </div>\n",
    "              <div class=\"more-meta\">\n",
    "                <h4 class=\"title\">\n",
    "                  长长的路 我们慢慢走\n",
    "                </h4>\n",
    "                <p>\n",
    "                  <span class=\"author\">\n",
    "                    余光中\n",
    "                  </span>\n",
    "                  /\n",
    "                  <span class=\"year\">\n",
    "                    2017-12-1\n",
    "                  </span>\n",
    "                  /\n",
    "                  <span class=\"publisher\">\n",
    "                    光明日报出版社\n",
    "                  </span>\n",
    "                </p>\n",
    "                <p class=\"abstract\">\n",
    "                  \n",
    "                  本书精选余光中先生散文36篇，包括游记见闻、感情经历、生活智慧、人情世故、文化随感这五部分内容。\n",
    "在这本书里余光中先生以人生过来人的姿态，为每一个读者提供生命的启示和前行的力量。\n",
    "物质支撑人的生活，而信念支撑人的灵魂。人生这趟旅途，“去向远方”是每个人生命中最浪漫的冲动，也是每个人对抗孤独与现实的力量之源。\n",
    "我们的生命，短暂却又漫长，短暂的是外...\n",
    "                </p>\n",
    "              </div>\n",
    "            </div>\n",
    "          </li>\n",
    "'''\n",
    "import requests\n",
    "import re\n",
    "\n",
    "results=re.findall('<li.*?cover.*?href=\"(.*?)\".*?title=\"(.*?)\".*?more-meta.*?author\">(.*?)</span>.*?year\">(.*?)</span>.*?</li>',html,re.S)\n",
    "print(results)\n"
   ]
  },
  {
   "cell_type": "code",
   "execution_count": null,
   "metadata": {},
   "outputs": [],
   "source": []
  }
 ],
 "metadata": {
  "kernelspec": {
   "display_name": "Python 3",
   "language": "python",
   "name": "python3"
  },
  "language_info": {
   "codemirror_mode": {
    "name": "ipython",
    "version": 3
   },
   "file_extension": ".py",
   "mimetype": "text/x-python",
   "name": "python",
   "nbconvert_exporter": "python",
   "pygments_lexer": "ipython3",
   "version": "3.6.4"
  }
 },
 "nbformat": 4,
 "nbformat_minor": 2
}
